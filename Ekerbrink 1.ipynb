{
 "cells": [
  {
   "cell_type": "code",
   "execution_count": 77,
   "metadata": {},
   "outputs": [
    {
     "name": "stdout",
     "output_type": "stream",
     "text": [
      "Was interessiert dich?\n"
     ]
    },
    {
     "ename": "KeyboardInterrupt",
     "evalue": "Interrupted by user",
     "output_type": "error",
     "traceback": [
      "\u001b[0;31m---------------------------------------------------------------------------\u001b[0m",
      "\u001b[0;31mKeyboardInterrupt\u001b[0m                         Traceback (most recent call last)",
      "\u001b[0;32m<ipython-input-77-fff33ab26679>\u001b[0m in \u001b[0;36m<module>\u001b[0;34m\u001b[0m\n\u001b[1;32m      1\u001b[0m \u001b[0;32mimport\u001b[0m \u001b[0msys\u001b[0m\u001b[0;34m\u001b[0m\u001b[0;34m\u001b[0m\u001b[0m\n\u001b[1;32m      2\u001b[0m \u001b[0mprint\u001b[0m\u001b[0;34m(\u001b[0m\u001b[0;34m\"Was interessiert dich?\"\u001b[0m\u001b[0;34m)\u001b[0m\u001b[0;34m\u001b[0m\u001b[0;34m\u001b[0m\u001b[0m\n\u001b[0;32m----> 3\u001b[0;31m \u001b[0minteresse\u001b[0m \u001b[0;34m=\u001b[0m \u001b[0minput\u001b[0m\u001b[0;34m(\u001b[0m\u001b[0;34m)\u001b[0m\u001b[0;34m\u001b[0m\u001b[0;34m\u001b[0m\u001b[0m\n\u001b[0m\u001b[1;32m      4\u001b[0m \u001b[0;34m\u001b[0m\u001b[0m\n\u001b[1;32m      5\u001b[0m \u001b[0;32mdef\u001b[0m \u001b[0mresetVar\u001b[0m\u001b[0;34m(\u001b[0m\u001b[0;34m)\u001b[0m\u001b[0;34m:\u001b[0m\u001b[0;34m\u001b[0m\u001b[0;34m\u001b[0m\u001b[0m\n",
      "\u001b[0;32m~/opt/anaconda3/lib/python3.8/site-packages/ipykernel/kernelbase.py\u001b[0m in \u001b[0;36mraw_input\u001b[0;34m(self, prompt)\u001b[0m\n\u001b[1;32m    858\u001b[0m                 \u001b[0;34m\"raw_input was called, but this frontend does not support input requests.\"\u001b[0m\u001b[0;34m\u001b[0m\u001b[0;34m\u001b[0m\u001b[0m\n\u001b[1;32m    859\u001b[0m             )\n\u001b[0;32m--> 860\u001b[0;31m         return self._input_request(str(prompt),\n\u001b[0m\u001b[1;32m    861\u001b[0m             \u001b[0mself\u001b[0m\u001b[0;34m.\u001b[0m\u001b[0m_parent_ident\u001b[0m\u001b[0;34m,\u001b[0m\u001b[0;34m\u001b[0m\u001b[0;34m\u001b[0m\u001b[0m\n\u001b[1;32m    862\u001b[0m             \u001b[0mself\u001b[0m\u001b[0;34m.\u001b[0m\u001b[0m_parent_header\u001b[0m\u001b[0;34m,\u001b[0m\u001b[0;34m\u001b[0m\u001b[0;34m\u001b[0m\u001b[0m\n",
      "\u001b[0;32m~/opt/anaconda3/lib/python3.8/site-packages/ipykernel/kernelbase.py\u001b[0m in \u001b[0;36m_input_request\u001b[0;34m(self, prompt, ident, parent, password)\u001b[0m\n\u001b[1;32m    902\u001b[0m             \u001b[0;32mexcept\u001b[0m \u001b[0mKeyboardInterrupt\u001b[0m\u001b[0;34m:\u001b[0m\u001b[0;34m\u001b[0m\u001b[0;34m\u001b[0m\u001b[0m\n\u001b[1;32m    903\u001b[0m                 \u001b[0;31m# re-raise KeyboardInterrupt, to truncate traceback\u001b[0m\u001b[0;34m\u001b[0m\u001b[0;34m\u001b[0m\u001b[0;34m\u001b[0m\u001b[0m\n\u001b[0;32m--> 904\u001b[0;31m                 \u001b[0;32mraise\u001b[0m \u001b[0mKeyboardInterrupt\u001b[0m\u001b[0;34m(\u001b[0m\u001b[0;34m\"Interrupted by user\"\u001b[0m\u001b[0;34m)\u001b[0m \u001b[0;32mfrom\u001b[0m \u001b[0;32mNone\u001b[0m\u001b[0;34m\u001b[0m\u001b[0;34m\u001b[0m\u001b[0m\n\u001b[0m\u001b[1;32m    905\u001b[0m             \u001b[0;32mexcept\u001b[0m \u001b[0mException\u001b[0m \u001b[0;32mas\u001b[0m \u001b[0me\u001b[0m\u001b[0;34m:\u001b[0m\u001b[0;34m\u001b[0m\u001b[0;34m\u001b[0m\u001b[0m\n\u001b[1;32m    906\u001b[0m                 \u001b[0mself\u001b[0m\u001b[0;34m.\u001b[0m\u001b[0mlog\u001b[0m\u001b[0;34m.\u001b[0m\u001b[0mwarning\u001b[0m\u001b[0;34m(\u001b[0m\u001b[0;34m\"Invalid Message:\"\u001b[0m\u001b[0;34m,\u001b[0m \u001b[0mexc_info\u001b[0m\u001b[0;34m=\u001b[0m\u001b[0;32mTrue\u001b[0m\u001b[0;34m)\u001b[0m\u001b[0;34m\u001b[0m\u001b[0;34m\u001b[0m\u001b[0m\n",
      "\u001b[0;31mKeyboardInterrupt\u001b[0m: Interrupted by user"
     ]
    }
   ],
   "source": [
    "import sys\n",
    "print(\"Was interessiert dich?\")\n",
    "interesse = input()\n",
    "\n",
    "def resetVar():\n",
    "    c = None\n",
    "    textgrundlage1 = None\n",
    "    textliste = None\n",
    "    bigwords = None\n",
    "    dictcount = None\n",
    "    topliste = None\n",
    "    top5 = None\n"
   ]
  },
  {
   "cell_type": "code",
   "execution_count": 73,
   "metadata": {},
   "outputs": [
    {
     "name": "stdout",
     "output_type": "stream",
     "text": [
      "------------\n",
      "Hat dir der Artikel gefallen? (Ja/Nein)\n"
     ]
    }
   ],
   "source": [
    "\n",
    "textgrundlage1 = open(\"/Users/macbook/Desktop/Ekerbrink/Texte/Politik.txt\").read()\n",
    "c = 0\n",
    "for i in textgrundlage1:\n",
    "    if (i==\",\" or i==\";\" or i==\"?\" or i==\"-\" or i==\"!\" or i==\".\" or i ==\":\" or i == \"'\" or i ==\"–\" or i ==\"(\" or i ==\")\"):\n",
    "        textgrundlage2 = textgrundlage1.replace(textgrundlage1[c],\" \")\n",
    "    c = c + 1 \n",
    "textliste = textgrundlage2.split()\n",
    "bigwords = list()\n",
    "for k in textliste:\n",
    "    if (k[0] != k[0].lower()):\n",
    "        bigwords.append(k)\n",
    "dictcount = dict()\n",
    "for i in bigwords:\n",
    "    dictcount[i] = dictcount.get(i,0) + 1 \n",
    "topliste = list()\n",
    "for k,v in dictcount.items():\n",
    "    it_through = (v,k)\n",
    "    topliste.append(it_through)\n",
    "topliste = sorted(topliste, reverse = True)\n",
    "top5 = list()\n",
    "for i,k in topliste[0:5]:\n",
    "    top5.append(k)\n",
    "if(interesse in top5):\n",
    "    print(textgrundlage1)\n",
    "    print(\"------------\")\n",
    "    print(\"Hat dir der Artikel gefallen? (Ja/Nein)\")\n",
    "\n",
    "else:\n",
    "    textgrundlage1 = open(\"/Users/macbook/Desktop/Ekerbrink/Texte/Spaß.txt\").read()\n",
    "    c = 0\n",
    "    for i in textgrundlage1:\n",
    "        if (i==\",\" or i==\";\" or i==\"?\" or i==\"-\" or i==\"!\" or i==\".\" or i ==\":\" or i == \"'\" or i ==\"–\" or i ==\"(\" or i ==\")\"):\n",
    "            textgrundlage2 = textgrundlage1.replace(textgrundlage1[c],\" \")\n",
    "        c = c + 1 \n",
    "    c = 0\n",
    "    textliste = textgrundlage2.split()\n",
    "    bigwords = list()\n",
    "    for k in textliste:\n",
    "        if (k[0] != k[0].lower()):\n",
    "            bigwords.append(k)\n",
    "    dictcount = dict()\n",
    "    for i in bigwords:\n",
    "        dictcount[i] = dictcount.get(i,0) + 1 \n",
    "    topliste = list()\n",
    "    for k,v in dictcount.items():\n",
    "        it_through = (v,k)\n",
    "        topliste.append(it_through)\n",
    "    topliste = sorted(topliste, reverse = True)\n",
    "    top5 = list()\n",
    "    for i,k in topliste[0:5]:\n",
    "        top5.append(k)\n",
    "    if(interesse in top5):\n",
    "        print(textgrundlage1)\n",
    "    print(\"------------\")\n",
    "    print(\"Hat dir der Artikel gefallen? (Ja/Nein)\")\n",
    "\n",
    "    \n",
    "        \n",
    "        "
   ]
  },
  {
   "cell_type": "code",
   "execution_count": 149,
   "metadata": {},
   "outputs": [],
   "source": [
    "def Funktion(new):\n",
    "    c = 0\n",
    "    for i in new:\n",
    "        if (i==\",\" or i==\";\" or i==\"?\" or i==\"-\" or i==\"!\" or i==\".\" or i ==\":\" or i == \"'\" or i ==\"–\" or i ==\"(\" or i ==\")\"):\n",
    "            textgrundlage2 = new.replace(new[c],\" \")\n",
    "        c = c + 1 \n",
    "    textliste = textgrundlage2.split()\n",
    "    bigwords = list()\n",
    "    for k in textliste:\n",
    "        if (k[0] != k[0].lower()):\n",
    "            bigwords.append(k)\n",
    "    dictcount = dict()\n",
    "    for i in bigwords:\n",
    "        dictcount[i] = dictcount.get(i,0) + 1 \n",
    "    topliste = list()\n",
    "    for k,v in dictcount.items():\n",
    "        it_through = (v,k)\n",
    "        topliste.append(it_through)\n",
    "    topliste = sorted(topliste, reverse = True)\n",
    "    top5 = list()\n",
    "    for i,k in topliste[0:5]:\n",
    "        top5.append(k)\n",
    "    if(interesse in top5):\n",
    "        print(new)\n",
    "        print(\"------------\")\n",
    "        print(\"Hat dir der Artikel gefallen? (Ja/Nein)\")\n",
    "    "
   ]
  },
  {
   "cell_type": "code",
   "execution_count": null,
   "metadata": {},
   "outputs": [],
   "source": []
  },
  {
   "cell_type": "code",
   "execution_count": null,
   "metadata": {},
   "outputs": [],
   "source": []
  },
  {
   "cell_type": "code",
   "execution_count": null,
   "metadata": {},
   "outputs": [],
   "source": []
  },
  {
   "cell_type": "code",
   "execution_count": 159,
   "metadata": {},
   "outputs": [],
   "source": [
    "WW = True\n",
    "interesse =\"Liebe\""
   ]
  },
  {
   "cell_type": "code",
   "execution_count": 151,
   "metadata": {},
   "outputs": [],
   "source": [
    "import glob\n",
    "def Ordner():\n",
    "    for filepath in glob.iglob('/Users/macbook/Desktop/Ekerbrink/Texte/*.txt'):\n",
    "        new = open(filepath).read()\n",
    "        if WW:\n",
    "            Funktion(new)\n",
    "        else: \n",
    "            print(\"Geben Sie bitte ein neues Wort ein!\")\n",
    "            interesse = input()\n",
    "            Ordner()\n",
    "            "
   ]
  },
  {
   "cell_type": "code",
   "execution_count": 152,
   "metadata": {},
   "outputs": [
    {
     "name": "stdout",
     "output_type": "stream",
     "text": [
      "Die Liebe zu meinen Kindern ist sehr stark. Seitdem ich Kinder habe, weiß ich was Liebe ist und meine Kinder helfen mir, zu mir selbst zu finden. Das ist sehr schön. \n",
      "In Deutschland habe ich meine große Liebe. Meine große Liebe ist eine tolle Person und ich fühle mich sehr hingezogen zu meiner Liebe. Meine große Liebe kommt aus Deutschland. \n",
      "Die Politik in Deutschland ist stark davon abhängig wie mit Covid-19 und der Corona-Pandemie umgegangen wird. Deutschland ist in Zeiten von Corona nur noch begrenze ein freier Staat. \n"
     ]
    }
   ],
   "source": [
    "for filepath in glob.iglob('/Users/macbook/Desktop/Ekerbrink/Texte/*.txt'):\n",
    "    new = open(filepath).read()\n",
    "    print(new)"
   ]
  },
  {
   "cell_type": "code",
   "execution_count": null,
   "metadata": {},
   "outputs": [],
   "source": []
  },
  {
   "cell_type": "code",
   "execution_count": 160,
   "metadata": {},
   "outputs": [
    {
     "name": "stdout",
     "output_type": "stream",
     "text": [
      "Die Liebe zu meinen Kindern ist sehr stark. Seitdem ich Kinder habe, weiß ich was Liebe ist und meine Kinder helfen mir, zu mir selbst zu finden. Das ist sehr schön. \n",
      "------------\n",
      "Hat dir der Artikel gefallen? (Ja/Nein)\n",
      "In Deutschland habe ich meine große Liebe. Meine große Liebe ist eine tolle Person und ich fühle mich sehr hingezogen zu meiner Liebe. Meine große Liebe kommt aus Deutschland. \n",
      "------------\n",
      "Hat dir der Artikel gefallen? (Ja/Nein)\n"
     ]
    }
   ],
   "source": [
    "Ordner()"
   ]
  },
  {
   "cell_type": "code",
   "execution_count": null,
   "metadata": {},
   "outputs": [],
   "source": [
    "5+5"
   ]
  },
  {
   "cell_type": "code",
   "execution_count": null,
   "metadata": {},
   "outputs": [],
   "source": []
  }
 ],
 "metadata": {
  "kernelspec": {
   "display_name": "Python 3",
   "language": "python",
   "name": "python3"
  }
 },
 "nbformat": 4,
 "nbformat_minor": 4
}
