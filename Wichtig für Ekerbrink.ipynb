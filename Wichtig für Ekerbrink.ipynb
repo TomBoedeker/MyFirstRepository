{
 "cells": [
  {
   "cell_type": "code",
   "execution_count": 1,
   "metadata": {},
   "outputs": [
    {
     "name": "stdout",
     "output_type": "stream",
     "text": [
      "hier kommt i 1\n",
      "hier kommt j 1\n",
      "hier kommt j 2\n",
      "hier kommt j 3\n",
      " <<< hier kommt i 1\n",
      "hier kommt i 2\n",
      "hier kommt j 1\n",
      "hier kommt j 2\n",
      "hier kommt j 3\n",
      " <<< hier kommt i 2\n",
      "hier kommt i 3\n",
      "hier kommt j 1\n",
      "hier kommt j 2\n",
      "hier kommt j 3\n",
      " <<< hier kommt i 3\n",
      "done with this\n"
     ]
    }
   ],
   "source": [
    "#Das Hashtag steht für den Beginn eines Kommentars. \n",
    "#Formatieren\n",
    "\n",
    "for i in [1,2,3]:\n",
    "    print(\"hier kommt i\",i)\n",
    "    for j in [1,2,3]:\n",
    "        print(\"hier kommt j\",j)\n",
    "    print (\" <<< hier kommt i\",i)\n",
    "print (\"done with this\")"
   ]
  },
  {
   "cell_type": "code",
   "execution_count": 2,
   "metadata": {},
   "outputs": [],
   "source": [
    "#Module \n",
    "#viele Features von Python werden nicht automatisch geladen. Um diese Features benutzen zu können, müssen\n",
    "# sie die entsprechenden Module mit import aktivieren\n",
    "import re as re\n",
    "my_regex = re.compile(\"[0-9]+\",re.I)\n",
    "#hierbei ist re das Modul mit Funktionen und Konstanten zur arbeit mit regulären Ausdrücen. Nach dieser Art von\n",
    "#import muss den Funktionen das Präfix re vorangestellt werden \n",
    "\n",
    "#eine übliche Notation ist \n",
    "import matplotlib.pyplot as plt \n",
    "# plt.plot(...)\n",
    "\n",
    "# es können auch einzelne Werte aus einem Modul importiert werden \n",
    "from collections import defaultdict,Counter\n",
    "lookup = defaultdict(int)\n",
    "my_counter = Counter()"
   ]
  },
  {
   "cell_type": "code",
   "execution_count": 3,
   "metadata": {},
   "outputs": [
    {
     "name": "stdout",
     "output_type": "stream",
     "text": [
      "225\n",
      "12\n",
      "15\n",
      "anton\n",
      "hallo peter\n",
      "Dieter Müller\n",
      "Max Mustermann\n"
     ]
    }
   ],
   "source": [
    "#Funktionen\n",
    "#Eine Funktion ist eine Regel, die null oder mehr Eingabewerte annimt und eine entsprechende Ausgabe zurückgibt \n",
    "\n",
    "#wird definiert mit def\n",
    "def multiplicate(x,y):\n",
    "    return x*y\n",
    "\n",
    "multiplicate(4,5)\n",
    "#alle Funktionen in Python sind First-Class Funktionen, deswegen dürfen wir sie Variablen zuweisen \n",
    "#oder anderen Funktionen als Argument übergeben\n",
    "def quadrat(k):\n",
    "    return k*k\n",
    "    \n",
    "print(quadrat(multiplicate(3,5)))\n",
    "print(multiplicate(4,3))\n",
    "\n",
    "def apply_to_one(f):\n",
    "    return f(11)\n",
    "\n",
    "my_double = multiplicate\n",
    "#x = apply_to_one(my_double)\n",
    "#print(x)\n",
    "\n",
    "y = apply_to_one(lambda x: x+4)\n",
    "print (y) # hier rechnen wir unsere 11 aus apply_to_one und unsere Funktionen mit lambda zusammen\n",
    "\n",
    "#Man kann Lambdas auch Variablen zuweisen, jedoch sollte man dies über ein def tun (Lambdas sind Funktionen\n",
    "#ohne Namen\n",
    "\n",
    "def another_double(x):\n",
    "       return 2*x\n",
    "\n",
    "#alternativ als Lambda\n",
    "\n",
    "another_double = lambda x: 2*x\n",
    "\n",
    "another_double(25) # funktioniert auch durch das Lambda, sollte jedoch als def definiert werden\n",
    "\n",
    "#Voreinstellung von Werten - falls kein Wert eingegeben wird\n",
    "\n",
    "def my_print(message=\"hallo peter\"):\n",
    "    print(message)\n",
    "\n",
    "my_print(\"anton\")\n",
    "my_print() # da hier keine Eingabe kam, haben wir den Standardwert bzw. die default-message zurück bekommen\n",
    "\n",
    "def full_name(first = \"Max\", second = \"Mustermann\"):\n",
    "    print(first + \" \" + second)\n",
    "\n",
    "full_name(\"Dieter\",\"Müller\")\n",
    "full_name()\n",
    "\n"
   ]
  },
  {
   "cell_type": "code",
   "execution_count": 4,
   "metadata": {},
   "outputs": [
    {
     "name": "stdout",
     "output_type": "stream",
     "text": [
      "anton\"\n",
      "Dieter Müller\n",
      "Dieter Müller\n",
      "Dieter Müller Mannpo\n",
      "Dieter w Müller\n"
     ]
    }
   ],
   "source": [
    "#Strings\n",
    "\n",
    "\n",
    "wort = \"anton\\\"\"\n",
    "print(wort)\n",
    "len(wort) # der Backslash wird nicht gezählt \n",
    "#Python verwendet Backslashes zum Codieren von Sonderzeichen\n",
    "# neu in Python 3.6 ist der f-String\n",
    "# haben den Vor- und Nachnamen getrennt erhalten\n",
    "\n",
    "first_name = \"Dieter\"\n",
    "second_name = \"Müller\"\n",
    "# Zum Zusammenfügen dieser Namen zu einem string full_name gibt es mehrere Wege\n",
    "# Dies sind wege Strings normal zusammenzufügen \n",
    "full_name = first_name + \" \" + second_name\n",
    "print(full_name)\n",
    "full_name1 = \"{0} {1}\".format(first_name,second_name)\n",
    "new_full_name = \"{0} {1} {2}\".format(first_name,second_name,\"Mannpo\")\n",
    "print (full_name)\n",
    "print(new_full_name)\n",
    "\n",
    "#Mit einem f-string lässt es sich deutlich effektiver zusammenfügen\n",
    "full_name3 = f\"{first_name} w {second_name}\" \n",
    "print (full_name3)"
   ]
  },
  {
   "cell_type": "code",
   "execution_count": 5,
   "metadata": {},
   "outputs": [
    {
     "name": "stdout",
     "output_type": "stream",
     "text": [
      "not possible to divide by zero\n",
      "geht nicht\n"
     ]
    }
   ],
   "source": [
    "#Exceptions\n",
    "\n",
    "#wenn etwas schiefgeht, generiert Python eine Ausnahme oder Exception.\n",
    "#Unbehandelt, führen diese zum Abbruch des Programms. Mit try und except können Sie auf ausnahmen\n",
    "#reagieren \n",
    "\n",
    "\n",
    "try: \n",
    "    print(0/0)\n",
    "\n",
    "except ZeroDivisionError:\n",
    "    print(\"not possible to divide by zero\")\n",
    "\n",
    "try:\n",
    "    print(3*f)\n",
    "\n",
    "except NameError:\n",
    "    print(\"geht nicht\")\n",
    "    \n",
    "#gelegentlich können exceptions sinnvoll sein\n"
   ]
  },
  {
   "cell_type": "code",
   "execution_count": 6,
   "metadata": {},
   "outputs": [
    {
     "name": "stdout",
     "output_type": "stream",
     "text": [
      "3\n",
      "3\n",
      "6\n",
      "das geht nicht\n",
      "12\n",
      "[0, 12, 3]\n",
      "[999, 51, 41, 19]\n",
      "Das ist Nummer: 1   0\n",
      "Das ist Nummer: 2   12\n",
      "Das ist Nummer: 3   3\n",
      "Das ist Nummer: 4   999\n",
      "Das ist Nummer: 5   51\n",
      "Das ist Nummer: 6   41\n",
      "Das ist Nummer: 7   19\n",
      "[0, 999, 19]\n",
      "[41, 51, 999]\n",
      "1\n",
      "3\n",
      "5\n",
      "7\n",
      "9\n"
     ]
    }
   ],
   "source": [
    "# Liste\n",
    "\n",
    "#Die vermutlich wichtigste Datenstruktur in Python ist die Liste (list). Eine Liste ist einfach eine geordnete \n",
    "#Abfolge von Elementen (sie ähnelt Arrays in anderen Sprachen, bietet aber andere Funktionalitäten)\n",
    "\n",
    "integer_list = [1,2,3]\n",
    "heterogeneous_list = [\"hallo\", 0.1, True]\n",
    "\n",
    "print(len(integer_list)) \n",
    "print(len(heterogeneous_list))\n",
    "#beide Listen haben jeweils 3 Werte \n",
    "print(sum(integer_list))\n",
    "try:\n",
    "    sum(heterogeneous_list)\n",
    "except TypeError:\n",
    "    print(\"das geht nicht\")\n",
    "    \n",
    "x = [0,12,3,4,51,41,19]\n",
    "print(x[1])\n",
    "x[3] = 999\n",
    "c=1\n",
    "first_three = x[:3]\n",
    "print (first_three)\n",
    "three_to_end = x[3:]\n",
    "print (three_to_end)\n",
    "last_three = x[-3:]\n",
    "one_to_four = x[1:5]\n",
    "copy_of_x = x[:]\n",
    "for i in x:\n",
    "    print (\"Das ist Nummer:\",c,\" \",i)\n",
    "    c = c+1\n",
    "#einem Slide kann auch ein drittes Argument mitgegeben werden, um seine Schrittweise (Stride) festzulegen \n",
    "every_third_element = x[::3]\n",
    "print(every_third_element)\n",
    "five_to_three = x[5:2:-1]\n",
    "print(five_to_three)\n",
    "\n",
    "#Python kennt den Operator in zum Prüfen der Mitgliedschaft einer Liste\n",
    "\n",
    "erstenzahlen = [1,2,3,4,5,6,7,8,9,10]\n",
    "zweitenzahlen = [2,4,6,8,10]\n",
    "\n",
    "for i in erstenzahlen:\n",
    "    if (i not in zweitenzahlen):\n",
    "        print (i)\n",
    "\n"
   ]
  },
  {
   "cell_type": "code",
   "execution_count": 7,
   "metadata": {},
   "outputs": [
    {
     "name": "stdout",
     "output_type": "stream",
     "text": [
      "Tom\n",
      "Präsidenten\n",
      "Restaurant\n",
      "hm\n"
     ]
    }
   ],
   "source": [
    "#Mein eigentliches Projekt mit Listen voller Strings\n",
    "#Könnten wir nun einen Text in eine entsprechende Liste einlesen, hatten wir das Programm\n",
    "wörter = [\"und\",\"ein\",\"hier\",\"will\",\"mit\",\"ihm\",\"er\",\"nennt\",\"ihn\",\"essen\",\"gehen\",\"dem\",\"das\",\"in\",\"aus\"]\n",
    "satz = [\"Tom\",\"will\",\"mit\",\"dem\",\"Präsidenten\",\"essen\",\"gehen\",\"in\",\"ein\",\"Restaurant\"]\n",
    "for i in satz:\n",
    "    if (i not in wörter):\n",
    "        print (i)\n",
    "        \n",
    "if \"Tom\" in satz:\n",
    "    print(\"hm\")"
   ]
  },
  {
   "cell_type": "code",
   "execution_count": 8,
   "metadata": {},
   "outputs": [
    {
     "name": "stdout",
     "output_type": "stream",
     "text": [
      "1\n",
      "2\n",
      "3\n",
      "4\n",
      "5\n",
      "6\n",
      "4\n",
      "5\n",
      "6\n",
      "4\n",
      "5\n",
      "6\n",
      "4\n",
      "5\n",
      "6\n",
      "11\n"
     ]
    }
   ],
   "source": [
    "#Listen assen sich miteinander verbinden. Eine Liste lässt sich direkt bearbeiten, in dem man mit .extend\n",
    "#Elemente aus einer anderen Liste hinzufügt\n",
    "\n",
    "list_1 = [1,2,3]\n",
    "list_2 = [4,5,6]\n",
    "list_1.extend(list_2)\n",
    "for i in list_1:\n",
    "    print (i)\n",
    "#anstattdessen lässt sich auch eine neue Liste erstellen\n",
    "list_3 = list_2 + list_2\n",
    "for i in list_3:\n",
    "    print (i)\n",
    "# list_3 besteht nun 2x aus list_2 , diese ist dabei gleich geblieben\n",
    "# ein einzelnes Element wird durch die .append Funktion angehängt\n",
    "list_2.append(11)\n",
    "for i in list_2:\n",
    "    print (i)"
   ]
  },
  {
   "cell_type": "code",
   "execution_count": 9,
   "metadata": {},
   "outputs": [
    {
     "name": "stdout",
     "output_type": "stream",
     "text": [
      "Tupel lassen sich nicht verändern\n",
      "(5, 4)\n",
      "(52, 451)\n",
      "24\n",
      "23\n"
     ]
    }
   ],
   "source": [
    "#Tupel\n",
    "#verwandt zu Listen - Praktkisch alle Operationen mit Listen, welche diese nicht verändern, funktionieren\n",
    "#auch mit Tupeln\n",
    "my_list = [1,2]\n",
    "my_tupel = (1,2)\n",
    "other_tupel = 3,4\n",
    "my_list[1] = 11 #my_list ist nun [1,11]\n",
    "try:\n",
    "    my_tupel[1] = 11\n",
    "except TypeError:\n",
    "    print(\"Tupel lassen sich nicht verändern\")\n",
    "\n",
    "#Tupel ermöglichen es, bequem Funktionen mit mehreren Rückgabewerten zu schreiben\n",
    "\n",
    "def sum_and_product(x,y):\n",
    "    return ((x+y),(x*y))\n",
    "\n",
    "print(sum_and_product(4,1))\n",
    "sp = sum_and_product(11,41)\n",
    "print(sp)\n",
    "s,p = sum_and_product(23,1)\n",
    "print (s)\n",
    "print (p)"
   ]
  },
  {
   "cell_type": "code",
   "execution_count": 10,
   "metadata": {},
   "outputs": [
    {
     "name": "stdout",
     "output_type": "stream",
     "text": [
      "<_io.TextIOWrapper name='/Users/macbook/Desktop/Programmieren/Python/Texte/Merkel.txt' mode='r' encoding='UTF-8'>\n",
      "['Hallo, mein Name ist Tom.\\n', 'Ich bin 23 Jahre alt, jedoch benehme ich mich wie 10!\\n', 'Ich habe folgende Hobbys: schwimmen, duschen, lachen und im Garten tanzen...\\n', 'Weißt du was?\\n', 'Ich auch nicht; außerdem mag ich Eis-Creme\\n', 'Tom ist ein toller Männlich mag ihn echt!!\\n', 'Tomaten schmecken echt lecker, muss ich zugeben\\n']\n",
      "Hallo, mein Name ist Tom.\n",
      "\n",
      "Ich bin 23 Jahre alt, jedoch benehme ich mich wie 10!\n",
      "\n",
      "Ich habe folgende Hobbys: schwimmen, duschen, lachen und im Garten tanzen...\n",
      "\n",
      "Weißt du was?\n",
      "\n",
      "Ich auch nicht; außerdem mag ich Eis-Creme\n",
      "\n",
      "Tom ist ein toller Männlich mag ihn echt!!\n",
      "\n",
      "Tomaten schmecken echt lecker, muss ich zugeben\n",
      "\n",
      "0\n",
      "HALLO, MEIN NAME IST TOM.\n",
      "\n",
      "hallo, mein name ist tom.\n",
      "\n",
      "ICH BIN 23 JAHRE ALT, JEDOCH BENEHME ICH MICH WIE 10!\n",
      "\n",
      "ich bin 23 jahre alt, jedoch benehme ich mich wie 10!\n",
      "\n",
      "ICH HABE FOLGENDE HOBBYS: SCHWIMMEN, DUSCHEN, LACHEN UND IM GARTEN TANZEN...\n",
      "\n",
      "ich habe folgende hobbys: schwimmen, duschen, lachen und im garten tanzen...\n",
      "\n",
      "WEISST DU WAS?\n",
      "\n",
      "weißt du was?\n",
      "\n",
      "ICH AUCH NICHT; AUSSERDEM MAG ICH EIS-CREME\n",
      "\n",
      "ich auch nicht; außerdem mag ich eis-creme\n",
      "\n",
      "TOM IST EIN TOLLER MÄNNLICH MAG IHN ECHT!!\n",
      "\n",
      "tom ist ein toller männlich mag ihn echt!!\n",
      "\n",
      "TOMATEN SCHMECKEN ECHT LECKER, MUSS ICH ZUGEBEN\n",
      "\n",
      "tomaten schmecken echt lecker, muss ich zugeben\n",
      "\n",
      "['Hallo, mein Name ist Tom.\\n', 'Ich bin 23 Jahre alt, jedoch benehme ich mich wie 10!\\n', 'Ich habe folgende Hobbys: schwimmen, duschen, lachen und im Garten tanzen...\\n', 'Weißt du was?\\n', 'Ich auch nicht; außerdem mag ich Eis-Creme\\n', 'Tom ist ein toller Männlich mag ihn echt!!\\n', 'Tomaten schmecken echt lecker, muss ich zugeben\\n']\n",
      "womate\n",
      "CPU times: user 1.6 ms, sys: 1.63 ms, total: 3.23 ms\n",
      "Wall time: 10.2 ms\n"
     ]
    },
    {
     "data": {
      "text/plain": [
       "True"
      ]
     },
     "execution_count": 10,
     "metadata": {},
     "output_type": "execute_result"
    }
   ],
   "source": [
    "%%time\n",
    "\n",
    "## hier speichern wir eine txt. Datei in einer Liste und versuchen dadurch zu iterieren\n",
    "filee = open(\"/Users/macbook/Desktop/Programmieren/Python/Texte/Merkel.txt\")\n",
    "liness = list(filee)\n",
    "print (filee)\n",
    "for m in filee:\n",
    "    print(m)\n",
    "    print(\"test\")\n",
    "print (liness)\n",
    "count = 0\n",
    "for i in liness:\n",
    "    print(i)\n",
    "    if (i == \"Hallo\"):\n",
    "        count = count + 1 \n",
    "        \n",
    "print(count)\n",
    "\n",
    "## verschiedene Methoden um str zu manipulieren, klappt hier auch für den str in der list\n",
    "for i in liness:\n",
    "    print(i.upper())\n",
    "    print(i.lower())\n",
    "    \n",
    "\n",
    "\n",
    "print(liness)\n",
    "\n",
    "neues_wort = \"Tomate\"\n",
    "neues_wort = neues_wort.replace(\"T\",\"w\")\n",
    "print(neues_wort)\n",
    "neues_wort.endswith(\"e\")\n",
    "neues_wort.startswith(\"w\")\n"
   ]
  },
  {
   "cell_type": "code",
   "execution_count": 11,
   "metadata": {},
   "outputs": [
    {
     "ename": "NameError",
     "evalue": "name 'letter' is not defined",
     "output_type": "error",
     "traceback": [
      "\u001b[0;31m---------------------------------------------------------------------------\u001b[0m",
      "\u001b[0;31mNameError\u001b[0m                                 Traceback (most recent call last)",
      "\u001b[0;32m<ipython-input-11-98a7379cc109>\u001b[0m in \u001b[0;36m<module>\u001b[0;34m\u001b[0m\n\u001b[1;32m      1\u001b[0m \u001b[0mword\u001b[0m \u001b[0;34m=\u001b[0m \u001b[0;34m\"tomatenbanene\"\u001b[0m\u001b[0;34m\u001b[0m\u001b[0;34m\u001b[0m\u001b[0m\n\u001b[1;32m      2\u001b[0m \u001b[0mhm\u001b[0m \u001b[0;34m=\u001b[0m \u001b[0mlen\u001b[0m\u001b[0;34m(\u001b[0m\u001b[0mword\u001b[0m\u001b[0;34m)\u001b[0m\u001b[0;34m\u001b[0m\u001b[0;34m\u001b[0m\u001b[0m\n\u001b[0;32m----> 3\u001b[0;31m \u001b[0mprint\u001b[0m\u001b[0;34m(\u001b[0m\u001b[0mletter\u001b[0m\u001b[0;34m)\u001b[0m\u001b[0;34m\u001b[0m\u001b[0;34m\u001b[0m\u001b[0m\n\u001b[0m\u001b[1;32m      4\u001b[0m \u001b[0mprint\u001b[0m\u001b[0;34m(\u001b[0m\u001b[0mhm\u001b[0m\u001b[0;34m)\u001b[0m\u001b[0;34m\u001b[0m\u001b[0;34m\u001b[0m\u001b[0m\n\u001b[1;32m      5\u001b[0m \u001b[0;34m\u001b[0m\u001b[0m\n",
      "\u001b[0;31mNameError\u001b[0m: name 'letter' is not defined"
     ]
    }
   ],
   "source": [
    "word = \"tomatenbanene\"\n",
    "hm = len(word)\n",
    "print(letter)\n",
    "print(hm)\n",
    "\n",
    "def lent(word):\n",
    "    w=0\n",
    "    for i in word:\n",
    "        w = w + 1\n",
    "    print(w)\n",
    "    \n",
    "lent(\"tomatenbanene\")"
   ]
  },
  {
   "cell_type": "code",
   "execution_count": 12,
   "metadata": {},
   "outputs": [
    {
     "name": "stdout",
     "output_type": "stream",
     "text": [
      "Hallo, mein Name ist Tom.\n",
      "\n",
      "neue Zeile\n",
      "Ich bin 23 Jahre alt, jedoch benehme ich mich wie 10!\n",
      "\n",
      "neue Zeile\n",
      "Ich habe folgende Hobbys: schwimmen, duschen, lachen und im Garten tanzen...\n",
      "\n",
      "neue Zeile\n",
      "Weißt du was?\n",
      "\n",
      "neue Zeile\n",
      "Ich auch nicht; außerdem mag ich Eis-Creme\n",
      "\n",
      "neue Zeile\n",
      "Tom ist ein toller Männlich mag ihn echt!!\n",
      "\n",
      "neue Zeile\n",
      "Tomaten schmecken echt lecker, muss ich zugeben\n",
      "\n",
      "neue Zeile\n",
      "7\n",
      "305\n",
      "Hallo, mein Name ist Tom.\n",
      "Ich bin 23 Jahre alt, jedoch benehme ich mich wie 10!\n",
      "Ich habe folgende Hobbys: schwimmen, duschen, lachen und im Garten tanzen...\n",
      "Weißt du was?\n",
      "Ich auch nicht; außerdem mag ich Eis-Creme\n",
      "Tom ist ein toller Männlich mag ihn echt!!\n",
      "Tomaten schmecken echt lecker, muss ich zugeben\n",
      "\n"
     ]
    }
   ],
   "source": [
    "datei = open(\"/Users/macbook/Desktop/Programmieren/Python/Texte/Merkel.txt\")\n",
    "count = 0\n",
    "## der for-loop gibt uns hier einzelne Zeilen und erkennt diese auch\n",
    "for i in datei:\n",
    "    print(i)\n",
    "    print(\"neue Zeile\")\n",
    "    count = count + 1 \n",
    "    \n",
    "print(count)\n",
    "## verschiedene Wege eine Datei in einem einfachen String zu speichern\n",
    "with open(\"/Users/macbook/Desktop/Programmieren/Python/Texte/Merkel.txt\") as f:\n",
    "    contents = f.read()\n",
    "    print(len(contents))\n",
    "    print(contents)\n",
    "    "
   ]
  },
  {
   "cell_type": "code",
   "execution_count": 13,
   "metadata": {},
   "outputs": [
    {
     "name": "stdout",
     "output_type": "stream",
     "text": [
      "hallo  mein name ist tom \n",
      "ich bin 23 jahre alt  jedoch benehme ich mich wie 10 \n",
      "ich habe folgende hobbys  schwimmen  duschen  lachen und im garten tanzen   \n",
      "weißt du was \n",
      "ich auch nicht  außerdem mag ich eis creme\n",
      "tom ist ein toller männlich mag ihn echt  \n",
      "tomaten schmecken echt lecker  muss ich zugeben\n",
      "\n",
      "['hallo', 'mein', 'name', 'ist', 'tom', 'ich', 'bin', '23', 'jahre', 'alt', 'jedoch', 'benehme', 'ich', 'mich', 'wie', '10', 'ich', 'habe', 'folgende', 'hobbys', 'schwimmen', 'duschen', 'lachen', 'und', 'im', 'garten', 'tanzen', 'weißt', 'du', 'was', 'ich', 'auch', 'nicht', 'außerdem', 'mag', 'ich', 'eis', 'creme', 'tom', 'ist', 'ein', 'toller', 'männlich', 'mag', 'ihn', 'echt', 'tomaten', 'schmecken', 'echt', 'lecker', 'muss', 'ich', 'zugeben']\n",
      "305\n",
      "h\n",
      "a\n",
      "l\n",
      "l\n",
      "o\n",
      " \n",
      " \n",
      "m\n",
      "e\n",
      "i\n",
      "n\n",
      " \n",
      "n\n",
      "a\n",
      "m\n",
      "e\n",
      " \n",
      "i\n",
      "s\n",
      "t\n",
      " \n",
      "t\n",
      "o\n",
      "m\n",
      " \n",
      "\n",
      "\n",
      "i\n",
      "c\n",
      "h\n",
      " \n",
      "b\n",
      "i\n",
      "n\n",
      " \n",
      "2\n",
      "3\n",
      " \n",
      "j\n",
      "a\n",
      "h\n",
      "r\n",
      "e\n",
      " \n",
      "a\n",
      "l\n",
      "t\n",
      " \n",
      " \n",
      "j\n",
      "e\n",
      "d\n",
      "o\n",
      "c\n",
      "h\n",
      " \n",
      "b\n",
      "e\n",
      "n\n",
      "e\n",
      "h\n",
      "m\n",
      "e\n",
      " \n",
      "i\n",
      "c\n",
      "h\n",
      " \n",
      "m\n",
      "i\n",
      "c\n",
      "h\n",
      " \n",
      "w\n",
      "i\n",
      "e\n",
      " \n",
      "1\n",
      "0\n",
      " \n",
      "\n",
      "\n",
      "i\n",
      "c\n",
      "h\n",
      " \n",
      "h\n",
      "a\n",
      "b\n",
      "e\n",
      " \n",
      "f\n",
      "o\n",
      "l\n",
      "g\n",
      "e\n",
      "n\n",
      "d\n",
      "e\n",
      " \n",
      "h\n",
      "o\n",
      "b\n",
      "b\n",
      "y\n",
      "s\n",
      " \n",
      " \n",
      "s\n",
      "c\n",
      "h\n",
      "w\n",
      "i\n",
      "m\n",
      "m\n",
      "e\n",
      "n\n",
      " \n",
      " \n",
      "d\n",
      "u\n",
      "s\n",
      "c\n",
      "h\n",
      "e\n",
      "n\n",
      " \n",
      " \n",
      "l\n",
      "a\n",
      "c\n",
      "h\n",
      "e\n",
      "n\n",
      " \n",
      "u\n",
      "n\n",
      "d\n",
      " \n",
      "i\n",
      "m\n",
      " \n",
      "g\n",
      "a\n",
      "r\n",
      "t\n",
      "e\n",
      "n\n",
      " \n",
      "t\n",
      "a\n",
      "n\n",
      "z\n",
      "e\n",
      "n\n",
      " \n",
      " \n",
      " \n",
      "\n",
      "\n",
      "w\n",
      "e\n",
      "i\n",
      "ß\n",
      "t\n",
      " \n",
      "d\n",
      "u\n",
      " \n",
      "w\n",
      "a\n",
      "s\n",
      " \n",
      "\n",
      "\n",
      "i\n",
      "c\n",
      "h\n",
      " \n",
      "a\n",
      "u\n",
      "c\n",
      "h\n",
      " \n",
      "n\n",
      "i\n",
      "c\n",
      "h\n",
      "t\n",
      " \n",
      " \n",
      "a\n",
      "u\n",
      "ß\n",
      "e\n",
      "r\n",
      "d\n",
      "e\n",
      "m\n",
      " \n",
      "m\n",
      "a\n",
      "g\n",
      " \n",
      "i\n",
      "c\n",
      "h\n",
      " \n",
      "e\n",
      "i\n",
      "s\n",
      " \n",
      "c\n",
      "r\n",
      "e\n",
      "m\n",
      "e\n",
      "\n",
      "\n",
      "t\n",
      "o\n",
      "m\n",
      " \n",
      "i\n",
      "s\n",
      "t\n",
      " \n",
      "e\n",
      "i\n",
      "n\n",
      " \n",
      "t\n",
      "o\n",
      "l\n",
      "l\n",
      "e\n",
      "r\n",
      " \n",
      "m\n",
      "ä\n",
      "n\n",
      "n\n",
      "l\n",
      "i\n",
      "c\n",
      "h\n",
      " \n",
      "m\n",
      "a\n",
      "g\n",
      " \n",
      "i\n",
      "h\n",
      "n\n",
      " \n",
      "e\n",
      "c\n",
      "h\n",
      "t\n",
      " \n",
      " \n",
      "\n",
      "\n",
      "t\n",
      "o\n",
      "m\n",
      "a\n",
      "t\n",
      "e\n",
      "n\n",
      " \n",
      "s\n",
      "c\n",
      "h\n",
      "m\n",
      "e\n",
      "c\n",
      "k\n",
      "e\n",
      "n\n",
      " \n",
      "e\n",
      "c\n",
      "h\n",
      "t\n",
      " \n",
      "l\n",
      "e\n",
      "c\n",
      "k\n",
      "e\n",
      "r\n",
      " \n",
      " \n",
      "m\n",
      "u\n",
      "s\n",
      "s\n",
      " \n",
      "i\n",
      "c\n",
      "h\n",
      " \n",
      "z\n",
      "u\n",
      "g\n",
      "e\n",
      "b\n",
      "e\n",
      "n\n",
      "\n",
      "\n"
     ]
    }
   ],
   "source": [
    "clap = open(\"/Users/macbook/Desktop/Programmieren/Python/Texte/Merkel.txt\")\n",
    "hm = clap.read()\n",
    "## clap ist eine file handle und kann nun behandelt werden wie eine Sequenz bzw. Abfolge von Strings, in welcher jede\n",
    "## Zeile ein neuer String ist - eine Sequenz ist also eine geordnete Abfolge\n",
    "c = 0\n",
    "for i in hm:\n",
    "    if (i==\",\" or i==\";\" or i==\"?\" or i==\"-\" or i==\"!\" or i==\".\" or i ==\":\"):\n",
    "        hm = hm.replace(hm[c],\" \")\n",
    "    c = c + 1\n",
    "print (hm.lower())\n",
    "k = hm.lower()\n",
    "lol = k.split()\n",
    "print(lol)\n",
    "w = 0\n",
    "for i in hm.lower():\n",
    "    w = w+1 \n",
    "print(w)\n",
    "    \n",
    "\n",
    "wow = list(hm.lower())\n",
    "for i in wow:\n",
    "    print(i)\n",
    "\n",
    "## strings sind nicht \"Bearbeitbar\" wenn ein string z.B. mit hm.lower bearbeitet wird, wird nur eine Kopie erstellt\n",
    "## der ursprüngliche string bleibt gleich, jedoch kann die Variable des string anscheinend mit der Kopie\n",
    "## überschrieben werden "
   ]
  },
  {
   "cell_type": "code",
   "execution_count": 15,
   "metadata": {},
   "outputs": [
    {
     "name": "stdout",
     "output_type": "stream",
     "text": [
      "Hallo, mein Name ist Tom.\n",
      "Tom ist ein toller Männlich mag ihn echt!!\n",
      "Tomaten schmecken echt lecker, muss ich zugeben\n"
     ]
    }
   ],
   "source": [
    "wort = \"tomate\"\n",
    "wort.replace(wort[3],\"w\")\n",
    "\n",
    "line_test = open(\"/Users/macbook/Desktop/Programmieren/Python/Texte/Merkel.txt\")\n",
    "\n",
    "## hier fügen wir zusätzlich leere Zeilen hinzu da am Ende der Linien \\n steht \n",
    "## for line in line_test:\n",
    "    ##if line.startswith(\"Tom\"):\n",
    "        ##print(line)\n",
    "\n",
    "## anscheinend verändern wir line_test mit dem obrigen Befehl \n",
    "\n",
    "\n",
    "##for line in line_test:\n",
    "    ##line = line.rstrip()\n",
    "    ##if not line.startswith(\"Tom\"):\n",
    "        ##print(line)\n",
    "\n",
    "for line in line_test:\n",
    "    line = line.rstrip()\n",
    "    if (\"Tom\" in line):\n",
    "        print(line)"
   ]
  },
  {
   "cell_type": "code",
   "execution_count": 16,
   "metadata": {},
   "outputs": [
    {
     "name": "stdout",
     "output_type": "stream",
     "text": [
      "Gib eine Zahl ein: \n",
      "Ungültige Eingabe, bitte gib eine Zahl oder \"done\" ein\n",
      "Gib eine Zahl ein: qwe\n",
      "Ungültige Eingabe, bitte gib eine Zahl oder \"done\" ein\n",
      "Gib eine Zahl ein: done\n",
      "Das Ergebnis ist 0\n",
      "haus\n"
     ]
    }
   ],
   "source": [
    "##arbeiten mit Lists\n",
    "\n",
    "zahlen_kette = list()\n",
    "while True:\n",
    "    try:\n",
    "        inp = input(\"Gib eine Zahl ein: \")\n",
    "        if (inp==\"done\"):\n",
    "            break \n",
    "        value = float(inp)\n",
    "        zahlen_kette.append(value)\n",
    "    except:\n",
    "        print(\"Ungültige Eingabe, bitte gib eine Zahl oder \\\"done\\\" ein\")\n",
    "\n",
    "if (sum(zahlen_kette) == 0):\n",
    "    print (\"Das Ergebnis ist 0\")\n",
    "\n",
    "else: \n",
    "    durschnitt = sum(zahlen_kette)/len(zahlen_kette)\n",
    "    print(\"Das Ergebnis ist\",durschnitt)\n",
    "print(\"haus\")\n",
    "\n",
    "\n"
   ]
  },
  {
   "cell_type": "markdown",
   "metadata": {},
   "source": []
  },
  {
   "cell_type": "code",
   "execution_count": 17,
   "metadata": {},
   "outputs": [
    {
     "name": "stdout",
     "output_type": "stream",
     "text": [
      "['Das', 'sind', 'drei', 'Worte']\n"
     ]
    },
    {
     "ename": "FileNotFoundError",
     "evalue": "[Errno 2] No such file or directory: '/Users/macbook/Desktop/Programmieren/Test.txt'",
     "output_type": "error",
     "traceback": [
      "\u001b[0;31m---------------------------------------------------------------------------\u001b[0m",
      "\u001b[0;31mFileNotFoundError\u001b[0m                         Traceback (most recent call last)",
      "\u001b[0;32m<ipython-input-17-04899b3868c1>\u001b[0m in \u001b[0;36m<module>\u001b[0;34m\u001b[0m\n\u001b[1;32m      5\u001b[0m \u001b[0mprint\u001b[0m\u001b[0;34m(\u001b[0m\u001b[0mgelistet\u001b[0m\u001b[0;34m)\u001b[0m\u001b[0;34m\u001b[0m\u001b[0;34m\u001b[0m\u001b[0m\n\u001b[1;32m      6\u001b[0m \u001b[0;31m## hiermit sollten wir einen Artikel nun komplett überarbeiten in eine Liste einlesen können\u001b[0m\u001b[0;34m\u001b[0m\u001b[0;34m\u001b[0m\u001b[0;34m\u001b[0m\u001b[0m\n\u001b[0;32m----> 7\u001b[0;31m \u001b[0mroh_text\u001b[0m \u001b[0;34m=\u001b[0m \u001b[0mopen\u001b[0m\u001b[0;34m(\u001b[0m\u001b[0;34m\"/Users/macbook/Desktop/Programmieren/Test.txt\"\u001b[0m\u001b[0;34m)\u001b[0m\u001b[0;34m\u001b[0m\u001b[0;34m\u001b[0m\u001b[0m\n\u001b[0m\u001b[1;32m      8\u001b[0m \u001b[0mspeicheort\u001b[0m \u001b[0;34m=\u001b[0m \u001b[0mroh_text\u001b[0m\u001b[0;34m.\u001b[0m\u001b[0mread\u001b[0m\u001b[0;34m(\u001b[0m\u001b[0;34m)\u001b[0m\u001b[0;34m\u001b[0m\u001b[0;34m\u001b[0m\u001b[0m\n\u001b[1;32m      9\u001b[0m \u001b[0mc\u001b[0m \u001b[0;34m=\u001b[0m \u001b[0;36m0\u001b[0m\u001b[0;34m\u001b[0m\u001b[0;34m\u001b[0m\u001b[0m\n",
      "\u001b[0;31mFileNotFoundError\u001b[0m: [Errno 2] No such file or directory: '/Users/macbook/Desktop/Programmieren/Test.txt'"
     ]
    }
   ],
   "source": [
    "## Listen und Strings zusammen\n",
    "\n",
    "abc = \"Das sind drei Worte\"\n",
    "gelistet = abc.split()\n",
    "print(gelistet)\n",
    "## hiermit sollten wir einen Artikel nun komplett überarbeiten in eine Liste einlesen können\n",
    "roh_text = open(\"/Users/macbook/Desktop/Programmieren/Test.txt\")\n",
    "speicheort = roh_text.read()\n",
    "c = 0 \n",
    "for i in speicheort:\n",
    "    if (i==\",\" or i==\";\" or i==\"?\" or i==\"-\" or i==\"!\" or i==\".\" or i ==\":\"):\n",
    "        speicheort = speicheort.replace(speicheort[c],\" \")\n",
    "    c = c + 1\n",
    "überarbeitet = speicheort.lower()\n",
    "## die split() Methode nimmt normalerweise ein \" \" als Wert, außer man gibt ihr einen anderen\n",
    "## Wert, wie z.B. split(\"e\")\n",
    "liste_überarbeitet = speicheort.split()\n",
    "print(liste_überarbeitet)"
   ]
  },
  {
   "cell_type": "code",
   "execution_count": 18,
   "metadata": {},
   "outputs": [
    {
     "name": "stdout",
     "output_type": "stream",
     "text": [
      "{'Tom': 21, 'Anton': 19, 'Alex': 22}\n",
      "21\n",
      "{'Simon': 11, 'Peter': 22, 'Dieter': 30}\n",
      "11\n",
      "Nicht in Liste vorhanden\n",
      "True\n",
      "3\n",
      "{'Simon': 11, 'Peter': 400, 'Dieter': 30}\n"
     ]
    }
   ],
   "source": [
    "freundes_liste = dict()\n",
    "freundees_liste = {} ## ist auch eine Liste\n",
    "freundes_liste[\"Tom\"] = 21\n",
    "freundes_liste[\"Anton\"] = 19\n",
    "freundes_liste[\"Alex\"] = 22\n",
    "print(freundes_liste)\n",
    "print(freundes_liste[\"Tom\"])\n",
    "## Hier ist der Name also der Schlüssel zur Zahl \n",
    "freundees_liste = {\"Simon\" : 11, \"Peter\" : 22, \"Dieter\": 30}\n",
    "print(freundees_liste)\n",
    "## falls es keinen Key gibt\n",
    "print(freundees_liste[\"Simon\"])\n",
    "try:\n",
    "    print(freundees_liste[\"Alex\"])\n",
    "except: \n",
    "    print(\"Nicht in Liste vorhanden\")\n",
    "tom_in_freundes_liste = \"Tom\" in freundes_liste\n",
    "print(tom_in_freundes_liste) ## true\n",
    "länge = len(freundes_liste)\n",
    "print(länge) ## 3 - weil 3 Namen drin stehen\n",
    "freundees_liste[\"Peter\"] = 400\n",
    "print(freundees_liste)"
   ]
  },
  {
   "cell_type": "code",
   "execution_count": 19,
   "metadata": {},
   "outputs": [
    {
     "name": "stdout",
     "output_type": "stream",
     "text": [
      "[('tom', 4), ('ich', 4), ('tanzen', 3), ('ist', 2), ('dass', 2), ('im', 2), ('garten', 2), ('und', 2), ('sind', 2), ('hallo', 1), ('mein', 1), ('name', 1), ('heiße', 1), ('denn', 1), ('bin', 1), ('ein', 1), ('toller', 1), ('typ', 1), ('finde', 1), ('außerdem', 1), ('es', 1), ('schön', 1), ('zu', 1), ('vor', 1), ('allem', 1), ('mit', 1), ('guten', 1), ('freunden', 1), ('macht', 1), ('echt', 1), ('sehr', 1), ('viel', 1), ('spaß', 1), ('denke', 1), ('alex', 1), ('peter', 1), ('gute', 1), ('freunde', 1), ('s', 1), ('lieblingshobbys', 1), ('schwimmen', 1), ('fischen', 1)]\n",
      "HIER KOMMT DER NEUE VERSUCH\n",
      "{'hallo': 1, 'mein': 1, 'name': 1, 'ist': 2, 'tom': 4, 'ich': 4, 'heiße': 1, 'denn': 1, 'bin': 1, 'ein': 1, 'toller': 1, 'typ': 1, 'finde': 1, 'außerdem': 1, 'dass': 2, 'es': 1, 'schön': 1, 'im': 2, 'garten': 2, 'zu': 1, 'tanzen': 3, 'vor': 1, 'allem': 1, 'mit': 1, 'guten': 1, 'freunden': 1, 'macht': 1, 'echt': 1, 'sehr': 1, 'viel': 1, 'spaß': 1, 'denke': 1, 'alex': 1, 'und': 2, 'peter': 1, 'gute': 1, 'freunde': 1, 'sind': 2, 's': 1, 'lieblingshobbys': 1, 'schwimmen': 1, 'fischen': 1}\n"
     ]
    }
   ],
   "source": [
    "neuer_text = open(\"/Users/macbook/Desktop/Programmieren/Python/Texte/Test.txt\")\n",
    "speicheort = neuer_text.read()\n",
    "c = 0 \n",
    "for i in speicheort:\n",
    "    if (i==\",\" or i==\";\" or i==\"?\" or i==\"-\" or i==\"!\" or i==\".\" or i ==\":\" or i == \"'\"):\n",
    "        speicheort = speicheort.replace(speicheort[c],\" \")\n",
    "    c = c + 1\n",
    "überarbeitet = speicheort.lower()\n",
    "neue_liste = überarbeitet.split()\n",
    "test = dict()\n",
    "for i in neue_liste:\n",
    "    if i not in test:\n",
    "        test[i] = 1 \n",
    "    else:\n",
    "        test[i] = test[i] + 1 \n",
    "        \n",
    "sortiert_test = sorted(test.items(), key = lambda x : x[1], reverse = True)\n",
    "\n",
    "fest = dict()\n",
    "print(sortiert_test)\n",
    "for i in neue_liste:\n",
    "    fest[i] = fest.get(i,0) + 1  ## über den 0-default Wert verbinden wir die if und else Methode\n",
    "print(\"HIER KOMMT DER NEUE VERSUCH\")\n",
    "print(fest)"
   ]
  },
  {
   "cell_type": "code",
   "execution_count": 20,
   "metadata": {},
   "outputs": [],
   "source": [
    "\n",
    "def hallo():\n",
    "    hawa = input(\"Wie heißt die Datei\")\n",
    "    try: \n",
    "        miau = open(\"/Users/macbook/Desktop/Programmieren/Python/Texte/\" + hawa)\n",
    "        tschau = miau.read()\n",
    "        c = 0\n",
    "        for i in tschau:\n",
    "            if (i==\",\" or i==\";\" or i==\"?\" or i==\"-\" or i==\"!\" or i==\".\" or i ==\":\" or i == \"'\"):\n",
    "                tschau = tschau.replace(tschau[c],\" \")\n",
    "            c = c+ 1 \n",
    "        neuneu = tschau.lower()\n",
    "        neuneu = neuneu.split()\n",
    "        popo = dict()\n",
    "        for i in neuneu:\n",
    "            popo[i] = popo.get(i,0) + 1  ## über den 0-default Wert verbinden wir die if und else Methode\n",
    "        sortiert_test = sorted(popo.items(), key = lambda x : x[1], reverse = True)\n",
    "        print(sortiert_test)\n",
    "    except: \n",
    "        print(\"Diese Datei gibt es nicht\")\n",
    "    \n",
    "    \n",
    "\n",
    "    \n"
   ]
  },
  {
   "cell_type": "code",
   "execution_count": 21,
   "metadata": {},
   "outputs": [
    {
     "name": "stdout",
     "output_type": "stream",
     "text": [
      "Wie heißt die Datei\n",
      "Diese Datei gibt es nicht\n",
      "GEy\n"
     ]
    }
   ],
   "source": [
    "hallo()\n",
    "print(\"GEy\")"
   ]
  },
  {
   "cell_type": "code",
   "execution_count": 22,
   "metadata": {},
   "outputs": [
    {
     "name": "stdout",
     "output_type": "stream",
     "text": [
      "{'der': 652, 'tonfall': 1, 'ist': 266, 'neu': 19, 'die': 735, 'probleme': 4, 'in': 425, 'den': 243, 'amerikanisch': 1, 'mexikanischen': 4, 'beziehungen': 3, 'aber': 62, 'sind': 132, 'alten': 2, 'neue': 34, 'präsident': 5, 'joe': 1, 'biden': 7, 'hat': 54, 'dem': 116, 'präsidenten': 2, 'andrés': 1, 'manuel': 1, 'lópez': 3, 'obrador': 3, 'am': 51, 'montag': 8, 'während': 11, 'eines': 25, 'virtuellen': 1, 'gipfels': 1, 'versichert': 1, 'das': 211, 'nachbarland': 1, 'als': 109, 'partner': 9, 'auf': 164, 'augenhöhe': 1, 'zu': 283, 'betrachten': 5, '„die': 2, 'vereinigten': 1, 'staaten': 1, 'und': 726, 'mexiko': 1, 'stärker': 1, 'wenn': 60, 'wir': 81, 'zusammenstehen“': 1, 'sagte': 11, 'fügte': 1, 'hinzu': 3, 'länder': 33, 'seien': 4, 'zuletzt': 6, '„keine': 1, 'perfekten': 4, 'nachbarn“': 1, 'gewesen': 3, 'mexikanische': 2, 'entgegnete': 1, 'er': 37, 'sei': 32, 'dankbar': 16, 'dass': 73, 'hervorgehoben': 1, 'habe': 5, 'beider': 2, 'wechselseitigem': 1, 'respekt': 1, 'gründeten': 1, 'beide': 3, 'seiten': 6, 'vereinbarten': 1, 'später': 5, 'migrationspolitik': 2, 'bilateral': 1, 'multilateral': 1, '–': 48, 'also': 15, 'unter': 48, 'einschluss': 1, 'südlichen': 1, 'nachbarn': 1, 'mexikos': 1, 'zusammenzuarbeiten': 1, 'klang': 1, 'so': 57, 'nun': 21, 'nach': 87, 'abgang': 1, 'donald': 2, 'trumps': 2, 'alles': 11, 'wieder': 48, 'gut': 28, 'tatsächlich': 2, 'lage': 2, 'komplizierter': 1, 'trump': 5, 'hatten': 2, 'zwar': 9, 'einen': 58, 'schwierigen': 1, 'start': 10, 'nicht': 150, 'wegen': 5, 'antimexikanischen': 1, 'rhetorik': 1, 'des': 112, 'republikaners': 1, 'doch': 23, 'war': 22, 'ende': 14, 'voll': 2, 'lobes': 1, 'über': 50, 'seinen': 6, 'druck': 7, 'hin': 4, 'militär': 1, 'an': 71, 'seine': 12, 'südliche': 1, 'landesgrenze': 1, 'geschickt': 16, 'hatte': 12, 'um': 81, 'irreguläre': 1, 'migration': 1, 'aus': 83, 'honduras': 1, 'guatemala': 1, 'el': 1, 'salvador': 1, 'amerika': 2, 'blockieren': 3, 'wird': 81, 'gesetzt': 18, 'von': 215, 'links': 3, 'wie': 95, 'rechts': 5, 'verhältnis': 2, 'linkspopulisten': 1, 'zum': 47, 'rechtspopulisten': 1, 'sehr': 34, 'späten': 1, 'gratulanten': 1, 'bidens': 3, 'zählte': 2, 'wartete': 1, 'bis': 43, 'mitte': 6, 'dezember': 6, 'zur': 44, 'wahl': 5, 'im': 155, '„electoral': 1, 'college“': 1, 'häufig': 6, 'hervorhebt': 1, 'kein': 10, 'nachtragender': 1, 'typ': 1, 'sein': 43, 'sah': 2, 'darüber': 9, 'hinweg': 1, 'benötigt': 1, 'hilfe': 7, 'mexikaners': 1, 'denn': 16, 'zentralamerika': 1, 'wo': 6, 'sich': 137, 'zahl': 8, 'hungernden': 1, 'mehr': 72, 'verdreifacht': 1, 'glauben': 3, 'viele': 32, 'armutsmigranten': 1, 'ebenso': 7, 'schleuser': 1, 'neuen': 11, 'regierung': 4, 'washington': 1, 'es': 170, 'leichter': 3, 'kommen': 9, 'seit': 8, 'november': 4, 'unbegleiteten': 1, 'minderjährigen': 1, 'durch': 100, 'wüste': 1, 'amerikanische': 1, 'grenze': 8, 'gelangen': 5, 'signifikant': 16, 'gestiegen': 2, 'angaben': 1, 'grenzschutzbehörde': 1, 'cbp': 1, 'waren': 11, '4500': 1, 'minderjährige': 2, '4850': 1, 'januar': 4, 'schon': 27, '5700': 1, 'bringt': 2, 'bedrängnis': 1, 'kommt': 9, 'lästerte': 1, 'jüngst': 1, 'demokrat': 1, 'grenzen': 2, 'aufgemacht': 1, 'motto': 1, 'laute': 1, '„zum': 1, 'teufel': 1, 'mit': 252, 'grenzsicherung“': 1, 'alexandria': 1, 'ocasio': 2, 'cortez': 2, 'frontfrau': 1, 'parteilinken': 1, 'empörte': 1, 'blick': 3, 'öffnung': 4, 'einer': 104, 'notunterkunft': 2, 'für': 181, 'kinder': 3, 'jugendliche': 3, '„das': 2, 'ordnung': 4, 'nie': 16, 'ganz': 26, 'gleich': 3, 'wer': 13, 'regiert': 1, '“': 28, '„entkerntes': 1, 'einwanderungssystem“': 1, 'hintergrund': 1, 'einerseits': 4, 'gebrochen': 1, 'etwa': 37, 'beschluss': 1, 'asylbewerber': 1, 'ins': 6, 'land': 6, 'lassen': 14, 'einem': 62, 'programm': 1, 'dafür': 9, 'sorgen': 4, 'soll': 30, 'familien': 3, 'ihrem': 9, 'illegalen': 1, 'grenzübertritt': 1, 'zwangsweise': 1, 'getrennt': 3, 'worden': 13, 'zusammenzuführen': 1, 'anderseits': 1, 'setzt': 3, 'entgegen': 1, 'versprechen': 2, 'wahlkampf': 1, 'auch': 164, 'handhabungen': 1, 'grenzverwaltungsbehörden': 1, 'fort': 2, 'wiedereröffnete': 1, 'unbegleitete': 1, 'carrizo': 1, 'springs': 1, 'texanisch': 1, 'kritisierte': 1, 'vor': 82, 'corona': 74, 'gipfel': 10, 'gab': 3, 'noch': 55, 'eine': 210, 'schalte': 4, 'wirtschaft': 8, 'angela': 7, 'merkel': 9, 'muss': 17, 'etwas': 18, 'einlenken': 1, 'andere': 16, 'lockerungsgrenze': 1, 'wackelt': 1, 'merkels': 3, 'kurs': 1, 'gerät': 1, 'immer': 30, 'dieses': 20, 'mal': 20, 'expertengespräch': 1, 'virologen': 1, 'bund': 26, 'sondern': 20, 'da': 43, 'unmut': 2, 'groß': 22, 'unterstreicht': 1, 'gerade': 12, 'prioritäten': 1, 'verschieben': 1, 'alle': 34, 'spitzenverbände': 1, 'gewerkschaften': 1, 'dabei': 34, 'vom': 19, 'bdi': 1, 'dgb': 1, 'hamdelsverband': 1, 'dihk': 1, 'per': 1, 'sms': 1, 'wurden': 11, 'derweil': 1, 'zwischen': 20, 'chef': 2, 'unterhändler': 1, 'ländern': 9, 'einmal': 24, 'entscheidende': 1, 'passagen': 1, 'abgestimmt': 1, 'deutlich': 21, 'erste': 9, 'vorlage': 3, 'sogenannten': 1, '4er': 1, 'runde': 2, 'kanzlerin': 8, 'vizekanzler': 1, 'olaf': 1, 'scholz': 1, '(spd)': 2, 'berlins': 1, 'regierender': 2, 'bürgermeister': 2, 'michael': 2, 'müller': 2, 'bayerns': 2, 'ministerpräsident': 7, 'markus': 2, 'söder': 3, '(csu)': 2, 'nochmal': 1, 'nachgebessert': 1, 'werden': 129, 'mittwochmorgen': 3, 'beschlussvorlage': 6, '14': 12, 'uhr': 7, 'angesetzte': 1, 'ministerpräsidentenkonferenz': 1, 'verschickt': 1, 'wollen': 8, 'geplant': 5, 'lockdown': 25, '28': 6, 'märz': 18, 'verlängern': 1, 'gibt': 46, 'einige': 10, 'weitere': 22, 'lockerungen': 24, 'ab': 29, 'inzidenzwert': 4, '100': 26, 'neuinfektionen': 10, 'je': 13, '000': 20, 'einwohnern': 2, 'sieben': 9, 'tagen': 6, 'handel': 29, 'außengastronomie': 4, 'geht': 16, 'überarbeiteten': 1, 'hervor': 6, 'tagesspiegel': 1, 'vorliegt': 4, 'sie': 125, 'trägt': 1, 'zeitstempel': 1, '„3': 1, '3': 31, '2021': 7, '07': 2, '30': 7, 'uhr“': 1, 'wichtigsten': 2, 'punkte': 2, 'blumenläden': 1, 'buchhandlungen': 2, 'gartenmärkte': 2, 'sollen': 27, 'weiterhin': 5, '8': 8, 'öffnen': 6, 'dürfen': 4, 'begrenzung': 2, 'kunde': 4, 'großzügiger': 1, 'gehandhabt': 1, 'kundin': 1, 'oder': 68, 'ein': 166, 'kunden': 29, 'pro': 18, '10': 10, 'quadratmeter': 6, 'ersten': 11, '800': 2, 'verkaufsfläche': 3, 'weiteren': 9, 'jede': 19, '20': 6, 'kontaktbeschränkungen': 10, 'kommender': 3, 'woche': 17, 'gelockert': 3, 'treffen': 6, 'zwei': 22, 'haushalten': 1, 'fünf': 4, 'personen': 15, 'möglich': 15, 'gleiches': 3, 'erst': 10, 'inzidenz': 21, '35': 13, 'einwohner': 4, 'auflage': 2, 'einzelhandels': 1, 'qm': 1, 'danach': 4, 'gilt': 18, 'regel': 14, 'hier': 54, 'neuer': 3, 'frühere': 2, 'eingeführt': 3, 'de': 14, 'facto': 2, 'läuft': 2, 'damit': 24, 'öffnungen': 19, '„wird': 1, 'region': 3, 'stabile': 1, 'sinkende': 1, '7': 11, 'tage': 14, 'einwohnerinnen': 1, 'erreicht': 7, 'kann': 50, 'jeweilige': 1, 'folgende': 4, 'entsprechend': 4, 'landesweit': 1, 'regional': 5, 'vorsehen“': 1, 'heißt': 3, 'dann': 21, 'terminshopping': 1, 'angebote': 1, 'erlaubt': 4, 'wobei': 5, '40': 3, '„nach': 3, 'vorheriger': 1, 'terminbuchung': 1, 'fest': 4, 'begrenzten': 1, 'zeitraum': 3, 'dokumentation': 1, 'kontaktnachverfolgung': 1, 'geschäft': 3, 'zugelassen': 6, 'museen': 2, 'galerien': 2, 'zoos': 1, 'botanische': 2, 'gärten': 2, 'termine': 1, 'feste': 3, 'personenobergrenzen': 1, 'teil': 10, 'ermöglichen': 4, 'allerdings': 6, 'anderswo': 2, 'oben': 4, 'beschriebenen': 1, 'regeln': 6, 'großflächiger': 1, 'können': 40, 'zumindest': 3, 'wochen': 9, 'lang': 2, '100er': 4, 'unterschritten': 1, 'bundesweite': 2, 'anfang': 10, 'april': 5, 'hinaus': 2, 'infektionszahlen': 1, 'trotz': 6, 'virusmutanten': 1, 'gegenwärtigen': 1, 'niveau': 2, 'bleiben': 8, 'individualsport': 1, 'alleine': 2, 'zweit': 1, 'sport': 6, 'gruppen': 7, 'zehn': 1, 'kindern': 2, 'jahren': 12, 'außensportanlagen': 1, 'strengen': 1, 'auflagen': 1, 'allem': 27, 'personenzahl': 1, 'bald': 7, 'könnte': 35, 'weit': 9, 'voraussetzung': 2, 'sitzen': 2, 'tisch': 1, 'mehreren': 10, 'hausständen': 1, '„ist': 1, 'tagesaktueller': 1, 'covid': 5, '19': 8, 'schnell': 22, 'selbsttest': 1, 'tischgäste': 1, 'erforderlich': 6, 'theatern': 2, 'konzert': 3, 'opernhäusern': 2, 'sowie': 10, 'kinos': 3, 'kontaktfreien': 1, 'innenbereich': 2, 'fitnessstudios': 1, 'kontaktsport': 2, 'außenbereich': 3, 'größere': 5, 'generelle': 1, 'stabil': 18, 'gehalten': 1, 'konnte': 2, 'kontaktfreier': 2, 'weiter': 9, 'infektionsgeschehen': 3, 'bleibt': 6, 'fall': 15, 'freizeitveranstaltungen': 1, '50': 2, 'teilnehmern': 3, 'imaußenbereich': 1, 'stattfinden': 5, '\"notbremse\"': 2, 'steigt': 3, 'drei': 13, 'aufeinanderfolgenden': 1, 'treten': 4, 'zweiten': 3, 'werktag': 1, 'kraft': 4, 'gegolten': 1, 'haben': 55, 'strengere': 1, 'mögliche': 6, 'erneute': 2, 'schließungen': 1, 'recht': 3, 'komplizierte': 1, 'lösung': 5, 'mehrere': 16, 'bundesländer': 1, 'liebsten': 1, 'inzidenzgrenze': 1, '50er': 3, 'ersetzen': 1, 'früher': 4, '[wenn': 1, 'aktuellen': 8, 'entwicklungen': 6, 'coronavirus': 4, 'pandemie': 14, 'live': 2, 'ihr': 17, 'handy': 1, 'empfehlen': 2, 'ihnen': 7, 'unsere': 12, 'app': 10, 'apple': 1, 'android': 2, 'geräte': 1, 'herunterladen': 1, ']': 2, 'abzusichern': 1, 'nationales': 1, 'schnelltestkonzept': 1, 'stehen': 8, 'ursprünglich': 10, 'gesundheitsminister': 4, 'jens': 7, 'spahn': 12, '(cdu)': 8, 'dies': 26, 'versprochen': 1, 'allen': 5, 'mindestens': 5, 'kostenloser': 5, 'schnelltest': 4, 'einschließlich': 1, 'bescheinigung': 1, 'testergebnis': 1, '„in': 1, 'jeweiligen': 4, 'kommune': 2, 'betriebenen': 2, 'testzentrum': 1, 'bei': 102, 'beauftragten': 1, 'dritten': 5, 'niedergelassenen': 1, 'ärzten': 1, 'ermöglicht“': 1, 'heiß': 16, 'papier': 4, 'kosten': 2, 'übernehme': 1, 'österreich': 3, 'bietet': 10, 'bereits': 27, 'kostenlose': 3, 'schnelltests': 8, 'bürger': 10, 'intern': 1, 'eingeräumt': 1, 'mangel': 2, 'deutschland': 31, 'gebe': 1, 'vorherigen': 2, 'kostenlosen': 3, 'rede': 2, 'schnelltestpflicht': 1, 'unternehmen': 31, 'wurde': 17, 'gekippt': 1, '„für': 1, 'umfassenden': 1, 'infektionsschutz': 1, 'gesamtgesellschaftlichen': 1, 'beitrag': 2, 'ihren': 16, 'präsenz': 3, 'beschäftigten': 2, 'angebot': 8, 'machen': 13, 'regierungskreisen': 1, 'massiven': 1, 'bisher': 7, 'gesicherten': 1, 'würde': 9, 'man': 43, 'laut': 24, 'spahns': 2, 'ministeriums': 1, 'stehe': 2, 'kontakt': 7, '\"um': 1, 'kontingente': 1, 'höhe': 1, '208': 1, 'millionen': 7, 'selbsttests': 3, 'sichern\"': 1, 'potentiellen': 1, 'anbietern': 1, 'liefen': 1, 'gespräche': 2, 'ähnliche': 3, 'vereinbarungen': 1, '\"': 3, 'große': 13, 'hoffnung': 2, 'überall': 3, 'angeboten': 1, 'steht': 5, 'vorschnellen': 1, 'ankündigungen': 1, 'gehaltenen': 1, 'sache': 5, 'spenden': 1, 'dinner': 1, 'seiner': 8, 'infektion': 7, 'verschärfter': 1, 'beobachtung': 2, 'zuvor': 1, 'abend': 2, 'vertretern': 1, 'johnson': 4, '&': 10, 'zulassung': 2, 'vierten': 2, 'impfstoffs': 2, 'schutz': 6, 'beantragt': 1, '#impfstoff': 1, 'eingesetzt': 2, 'werden“': 2, 'twittert': 1, 'ministerium': 1, 'hoffnungsfroh': 1, 'bild': 37, 'bildschirm': 1, '22': 2, 'kam': 1, 'nachricht': 1, 'weißen': 1, 'haus': 3, 'usa': 2, 'impfstoff': 3, 'pharmakonzern': 1, 'merck': 1, 'bauen': 1, 'gemeinsam': 4, 'massenproduktion': 1, '„wir': 4, 'genug': 2, 'impfstoffe': 1, 'amerikaner': 1, 'mai': 2, 'monate': 3, 'erwartet': 1, 'heute': 17, 'beraten': 2, 'ministerpräsidenten': 5, 'öffnungsschritte': 1, 'beschlussentwurf': 5, 'durchgesickert': 1, 'plan': 3, 'weitergehen': 1, 'gleichzeitig': 6, 'geben': 13, 'ticker': 1, 'top': 2, 'news': 4, 'wohl': 16, 'verlängert': 4, 'fünfstufigen': 1, 'öffnungsplan': 1, 'entscheiden': 4, '(einträge': 1, '09': 4, '36': 1, 'uhr)': 7, 'lokale': 2, 'inzidenzwerte': 1, 'folge': 10, 'steigen': 8, 'müssen': 22, 'zurückgenommen': 2, '(09': 1, 'großflächigen': 1, 'einsatz': 3, 'abgesichert': 1, 'verwandten': 1, 'besuche': 1, 'neuem': 3, 'entwurf': 13, 'gestrichen': 1, '33': 2, '\"anders': 1, 'ostern': 3, 'letzten': 10, 'jahr': 14, 'jedoch': 33, 'verwandtenbesuche': 1, 'diesem': 24, 'sein\"': 1, 'hieß': 2, 'gestern': 1, 'dieser': 29, 'satz': 2, 'verschwunden': 3, 'familienfeiern': 1, 'ausfallen': 1, 'nur': 65, '59': 1, 'jeder': 11, 'erhalten': 5, '(stand': 5, 'test': 2, '1961': 1, 'kasner': 3, 'polytechnischen': 1, 'oberschule': 2, '(pos)': 1, 'templin': 2, '(heute': 2, 'aktive': 2, 'naturschule': 1, 'templin)': 1, 'eingeschult': 1, 'auffallend': 16, 'ihre': 29, 'überdurchschnittlichen': 1, 'schulischen': 1, 'leistungen': 1, 'schulfächern': 1, 'russisch': 2, 'mathematik': 1, 'stets': 4, 'klassenbeste': 1, 'gewann': 1, 'olympiaden': 1, 'ddr': 3, 'ebene': 2, 'galt': 1, 'ihrer': 26, 'schulzeit': 2, 'zurückhaltende': 1, 'schülerin': 1, '[10]': 1, 'mitglied': 2, 'freien': 10, 'deutschen': 12, 'jugend': 1, '(fdj)': 1, '[11]': 1, '1973': 2, 'legte': 2, 'erweiterten': 1, '(eos)': 1, 'abitur': 2, 'durchschnittsnote': 1, '1': 31, '0': 6, '[12]': 2, 'studium': 3, 'physik': 2, 'karl': 1, 'marx': 1, 'universität': 3, '„universität': 1, 'leipzig“)': 1, 'leipzig': 1, 'entschieden': 4, 'aufnahm': 1, 'gehörte': 1, 'opponierenden': 1, 'kräften': 1, 'innerhalb': 7, 'was': 26, 'akademische': 1, 'laufbahn': 1, 'verhindert': 3, 'hätte': 3, 'berichtet': 2, 'diesen': 13, 'autor': 15, 'reiner': 1, 'kunze': 1, 'getroffen': 2, 'lieblingsschriftsteller': 1, 'bezeichnet': 6, '1977': 1, 'heiratete': 1, 'physikstudenten': 1, 'ulrich': 2, 'ehe': 1, '1982': 2, 'geschieden': 1, '[13][14]': 1, 'diplomarbeit': 1, 'juni': 2, '1978': 1, 'titel': 1, 'einfluß': 1, 'räumlichen': 1, 'korrelation': 1, 'reaktionsgeschwindigkeit': 1, 'bimolekularen': 1, 'elementarreaktionen': 1, 'dichten': 1, 'medien[15]': 1, '„sehr': 1, 'gut“': 1, 'bewertet': 1, 'arbeit': 23, 'zugleich': 1, 'forschungsthema': 1, 'statistische': 3, 'chemische': 1, 'systemen': 1, 'isotopen': 2, 'strahlenforschung': 2, 'bereich': 5, 'physikalische': 1, 'chemie': 2, 'zentralinstitut': 1, 'akademie': 1, 'wissenschaften': 1, '(adw)': 1, '[16]': 1, 'erlangung': 1, 'doktorwürde': 1, 'doktorand': 7, 'wissenschaftliche': 1, 'doktorarbeit': 7, 'anfertigen': 1, 'bestehen': 5, 'fokus': 2, 'liegt': 16, 'erkenntnisgewinn': 1, 'eigene': 9, 'forschung': 1, 'gewonnenen': 1, 'erkenntnisse': 1, 'kleineren': 1, 'wissenschaftlichen': 3, 'überschreiten': 1, 'vorgenommene': 1, 'versuchsaufbau': 1, 'methodisch': 16, 'einwandfrei': 17, 'abgesteckte': 1, 'untersuchungsfeld': 1, 'gewählt': 1, 'analysen': 1, 'durchführen': 2, 'aussagekräftige': 1, 'ergebnisse': 7, 'vorlegen': 1, 'gestaltet': 1, 'ausgiebiges': 1, 'forschungsprojekt': 1, 'durchführung': 1, 'auswertung': 1, 'forschungsschwerpunktes': 1, 'anschließenden': 1, 'schreibphase': 1, '5': 14, 'jahre': 5, 'betragen': 2, 'doktoranden': 8, 'zusätzlich': 15, 'betreuer': 10, 'doktorväter': 1, 'doktormütter': 1, 'betreuungskomitee': 1, 'graduiertenkolleg': 1, 'angemeldet': 1, 'betreuerwahl': 1, 'essentiell': 1, 'deine': 2, 'dein': 22, 'experte': 2, 'themengebiet': 1, 'du': 39, 'bearbeiten': 1, 'möchtest': 1, 'eben': 2, 'fungiert': 1, 'ansprechpartner': 1, 'mentor': 1, 'deshalb': 8, 'äußerster': 1, 'wichtigkeit': 1, 'richtigen': 1, 'wählen': 1, 'leitfaden': 1, 'zeigen': 5, 'dir': 1, 'welche': 59, 'möglichkeiten': 10, 'finden': 12, 'überzeugen': 1, 'kommunizieren': 3, 'entlang': 2, 'fluchend': 1, 'schaltet': 1, 'johannes': 2, 'pc': 1, 'tag': 10, 'vorbei': 1, 'tabelle': 3, 'letzte': 2, 'vollenden': 1, 'wollte': 3, 'fertig': 2, 'dachte': 1, 'medizinstudent': 1, 'greifswald': 2, 'hauptteil': 1, 'dissertation': 1, 'gemeistert': 1, 'male': 1, 'dresden': 2, 'gefahren': 5, 'dort': 5, 'urinproben': 1, 'daten': 5, 'patienten': 2, 'gesammelt': 2, 'ihres': 8, 'übergewichts': 1, 'magen': 2, 'bypass': 2, 'bekamen': 1, 'johannes‘': 1, 'betreuerin': 1, 'priv': 1, 'doz': 1, 'dr': 8, 'rer': 1, 'med': 2, 'nele': 1, 'friedrich': 12, 'kennt': 3, 'problem': 7, '„medizinische': 1, 'unter\\xadschätzen': 1, 'lange': 6, 'dauert': 1, 'strukturiert': 16, 'bringen“': 1, 'erklärt': 4, 'jährige': 3, 'frisch': 16, 'habilitierte': 1, 'leiterin': 1, 'arbeitsgruppe': 1, 'metabolomics': 2, 'institut': 5, 'klinische': 1, 'laboratoriumsmedizin': 1, '„man': 3, 'merkt': 2, 'jung': 1, '\\xadwissenschaftliche': 1, 'oft': 15, 'legen': 1, 'wenig': 7, 'wert': 7, 'gute': 4, 'darstellung': 4, 'vier': 6, '\\xadmedizinstudenten': 1, 'erfolgreich': 17, 'mitbetreut': 1, 'prof': 6, 'jörg': 2, 'wilhelm': 1, 'oestmann': 8, 'radiologe': 1, 'vorsitzender': 1, 'promotionskommission': 1, 'charité': 7, 'berlin': 8, 'zwanzig': 2, 'diese': 53, 'erfahrung': 4, 'gemacht': 2, '„jede': 1, 'uni': 4, 'homepage': 1, 'formale': 1, 'ansprüche': 1, 'genau': 31, 'beschrieben': 2, 'sollten': 10, 'promovenden': 2, 'früh': 1, 'lesen': 17, 'schluss': 3, 'zuerst': 4, 'medizinische': 2, 'promotion': 3, 'platz': 2, 'kreative': 1, 'spielereien': 1, 'denselben': 1, 'aufbau': 3, 'einleitung': 8, 'stand': 4, 'wissenschaft': 2, 'promotionsthema': 1, 'darlegt': 1, 'fragestellung': 4, 'ableitet': 1, 'folgt': 3, 'methoden': 1, 'mess': 1, 'prüfverfahren': 1, 'gehören': 9, 'drittel': 3, 'ausmachen': 2, 'anschließende': 1, 'diskussion': 5, 'kür': 1, 'vergleicht': 2, 'anderen': 24, 'unter\\xadsuchungen': 1, 'abschließende': 1, 'zusammenfassung': 3, 'stellt': 4, 'höchstens': 1, 'art': 44, 'abstract': 1, 'dar': 2, 'gefolgt': 1, 'literaturverzeichnis': 1, 'klar': 24, 'sinnvoll': 2, 'anzufangen': 2, '„ich': 2, 'tendiere': 1, 'eher': 5, 'dazu': 13, 'schreiben': 28, 'lassen“': 1, 'sagt': 8, 'einfacher': 1, 'er\\xadgebnissen': 1, 'weil': 12, 'vorliege': 1, '„aber': 1, 'einzelne': 8, 'abwägen': 1, 'schwierig': 1, 'generell': 2, 'jeden': 12, 'berühmten': 1, 'spruch': 1, '„bin': 1, 'meiner': 2, 'diss': 1, 'zusammenschreiben“': 1, 'sollte': 19, 'tippen': 1, 'längst': 2, 'begonnen': 1, 'rät': 4, '„jeder': 1, 'sofort': 2, 'großes': 6, 'rohdokument': 1, 'anlegen': 1, 'notiert': 1, 'ihm': 4, 'sinn': 1, 'grobe': 2, 'struktur': 2, 'feststeht': 1, 'ließen': 1, 'ideen': 7, 'direkt': 17, 'entsprechende': 4, 'kapitel': 3, '„dazu': 1, 'gehört': 10, 'literaturfußnote': 1, 'woher': 1, 'ausführungen': 1, 'sonst': 15, 'sucht': 1, 'tot': 1, 'empfiehlt': 2, 'zeit': 28, 'investieren': 1, 'literaturverwaltungsprogramm': 1, 'einzuarbeiten': 1, '„es': 2, 'lohnt': 4, 'verzeichnis': 1, 'professionell': 16, 'pflegen': 2, 'nummerierung': 1, 'durcheinanderfliegt': 1, 'artikel': 49, 'eingefügt': 1, 'spart': 1, 'viel': 11, 'fruchtlose': 1, 'texte': 2, 'zwischendurch': 2, 'ruhig': 24, 'vermerken': 1, 'liest': 4, 'versehen': 1, 'zweimal': 1, 'wichtig': 41, 'lautet': 1, 'frage': 7, 'eigentlichen': 1, 'formuliert': 1, 'untersucht': 1, 'doktorarbeiten': 1, 'staiger': 1, 'bestimmter': 1, 'tests': 11, 'op': 1, '\\xadvergleicht': 1, 'unbedingt': 12, 'feststehen': 1, 'beruht': 1, 'gesamte': 2, 'dient': 7, 'hinzuführen': 1, '„sich': 1, 'fokussieren': 1, 'fällt': 3, 'medizinstudenten': 1, 'schwer“': 1, '„wenn': 1, 'ich': 38, 'lese': 1, 'nichts': 4, 'tun': 9, 'schlecht': 1, 'faustregel': 1, 'inklusive': 1, 'prozent': 6, 'einnehmen': 1, 'insgesamt': 2, 'hundert': 1, 'ansichten': 1, 'optimalen': 1, 'länge': 2, 'gehen': 10, 'auseinander': 1, '„wissenschaft': 1, 'präzise': 16, 'logisch': 16, 'kurz': 2, 'mag': 1, 'knapp': 1, '„andere': 1, 'bevorzugen': 1, 'längere': 2, 'doktorvater': 1, 'mutter': 2, 'fragen': 1, 'vorstellen': 1, 'methodik': 2, 'statistik': 2, 'manchmal': 10, 'schwer': 2, 'wel\\xadches\\xad': 1, 'methodik\\xad': 1, 'niemand': 1, 'verraten': 2, 'heraus\\xadgefunden': 1, 'statis\\xadtischen': 1, 'unterstützen': 3, 'laufe': 3, 'kalt': 1, 'rücken': 1, 'herunter': 1, 'arbeiten': 3, 'denen': 8, 'jemand': 1, 'falsche': 1, 'angewendet': 1, 'probanden': 1, 'umfassen': 2, '„mediziner': 1, 'beherrschen': 1, 'holen': 4, 'jemanden': 1, 'ergebnis': 4, 'darf': 4, 'promovend': 2, 'endlich': 9, 'berichten': 1, 'herausgefunden': 1, 'entscheidenden': 1, 'fehler': 1, 'unterschätzen': 1, 'nötig': 1, '„grafiken': 1, 'tabellen': 2, 'selten': 16, 'schlampig“': 1, 'hierbei': 7, 'grafiken': 1, 'abbildungen': 1, 'selbsterklärend': 1, 'alleinstehend': 1, 'verständlich': 1, 'überschrift': 1, 'grafik': 1, 'erklärung': 3, 'einheiten': 1, 'dabeistehen': 1, 'stil': 1, 'weniger': 5, 'scheint': 1, 'vielen': 4, 'aufbaut': 1, 'bewerten': 1, 'gestellte': 1, 'aufgreifen': 1, 'beantworten': 1, 'hilft': 5, 'webseiten': 1, 'promotionsbüros': 1, 'anzuschauen': 1, 'welchen': 7, 'leitfragen': 1, 'gutachter': 3, 'vorgehen': 2, 'beurteilen': 1, 'literatur': 3, 'gezogenen': 1, 'schlüsse': 2, 'ergebnissen': 1, 'begründet': 1, '„am': 1, 'einfach': 28, 'gedanken': 1, 'dorthin': 1, 'denkt': 1, 'passt“': 1, 'lücken': 1, 'füllen': 1, 'klarer': 3, 'sehen': 5, 'beispielarbeit': 1, 'besorgen': 1, 'sprachlichen': 1, 'feilen': 1, 'holpriger': 1, 'ausdruck': 2, 'punktabzüge': 1, '„manche': 1, 'listen': 1, 'rechtschreibfehler': 1, 'auf“': 1, 'erzählt': 1, 'mehrmals': 5, 'korrektur': 1, 'plagiarismus': 1, 'unzulässig': 1, 'schließlich': 2, 'unterschreibt': 1, 'selbstständig': 16, 'verfasst': 1, 'selbst': 31, 'geleistet': 1, 'angeben': 1, 'beispiel': 12, 'biometrischen': 1, 'auswertungen': 1, 'menschen': 29, 'ge\\xadarbeitet': 1, 'fairerweise': 1, 'danksagung': 1, 'erwähnen“': 1, '„etwa': 1, 'statistiker': 1, 'labor': 2, 'gefahr': 6, 'über\\xadtreiben': 1, 'schätzt': 2, 'gering': 1, '„ghostwriting': 1, 'medizin': 2, 'handfest': 1, '„wie': 2, 'funktionieren': 1, 'plagiate': 1, 'guttenberg': 1, 'seines': 1, 'wissens': 2, 'vorgekommen': 1, 'entstünden': 1, 'klappt': 1, '„menschelt“': 1, 'kongress': 1, 'einverständnis': 2, 'passieren': 3, 'streitigkeiten': 1, 'gedeih': 1, 'verderb': 1, 'ausgeliefert': 1, 'solche': 8, 'konflikte': 1, 'ethik': 1, 'ombudsmann': 1, 'schlichten': 1, 'uns': 32, 'macht“': 1, 'zukunft': 5, 'publikationspromotion': 1, 'ihn': 2, 'beschäftigt': 3, 'verloren': 1, 'bevor': 7, 'eröffnet': 7, 'jedes': 3, '650': 1, '700': 1, 'promotionsverfahren': 1, 'höchste': 6, 'eingereichten': 1, 'abbrechen': 1, 'wissen': 2, 'ob': 11, 'manchen': 2, 'betreuern': 1, 'besonders': 32, 'abbrechen“': 1, 'ändern': 1, 'voraussichtlich': 1, 'sommer': 3, 'pflicht': 2, '\\xadpromovend': 1, 'beginn': 5, 'promotionserklärung': 1, 'unterschreiben': 1, 'halten': 8, 'thema': 9, 'zeitplan': 1, 'vereinbaren': 1, 'möglichst': 2, 'publikations\\xadpromotion': 1, 'übernimmt': 1, 'erstautorenschaft': 1, 'anspruchsvoller': 1, 'hineinschreibt': 1, '„alles': 1, 'journal': 1, 'unterkriegen': 1, 'hinein': 1, 'aufgabe': 9, '1a)': 1, 'bearbeitung': 1, 'verfassungsmäßige': 1, 'problematik': 1, 'stellen': 4, 'vorliegen': 1, 'gesetzgebungskompetenz': 9, 'anderem': 6, 'gesetzgebungsverfahren': 1, 'vorbehalt': 3, 'gesetzes': 4, 'prüfen': 5, 'entscheidend': 1, 'verfassungsmäßigkeit': 1, 'verwaltungsakt': 8, 'bundesgesundheitsministers': 4, 'schranke': 1, 'iii': 8, 'gg': 26, 'vollziehende': 1, 'gewalt': 2, 'welcher': 13, 'gesetz': 4, 'gebunden': 1, 'daraus': 4, 'rechtsstaatsprinzp': 1, 'besagt': 2, 'bundesregierung': 4, 'bzw': 17, 'staat': 2, 'eingriffen': 1, 'handeln': 2, 'ohne': 36, 'gesetzliche': 3, 'grundlage': 2, 'beschränkung': 3, 'persönlichen': 2, 'schließung': 1, 'gewerbebetriebes': 1, 'eingriff': 4, 'typisches': 1, 'dulden': 1, 'unterlassen': 1, 'verlangt': 1, 'somit': 31, 'gesetzlichen': 2, 'bedarf': 2, 'allgemeinverfügung': 1, 'rein': 16, 'materiellen': 7, 'sinne': 2, 'erlassen': 5, '80': 3, 'räumt': 1, 'exekutiven': 1, 'befugnis': 3, 'bestimmten': 4, 'voraussetzungen': 6, 'engen': 1, 'rahmen': 2, 'rechtsverordnungen': 2, 'i': 8, 'bundesminister': 2, 'ermächtigt': 2, 'ermächtigung': 1, 'parlamentsgesetzgebers': 1, 'folgenden': 4, 'sachverhalt': 7, 'zustimmung': 2, 'parlaments': 1, 'gültig': 2, 'bezüglich': 2, '„not': 3, 'gesetzes“': 1, 'verfassungsrechtliche': 1, 'bedenken': 1, 'gesetzgebungsverfahrens': 1, 'kabinett': 1, 'verabschiedet': 1, 'verlassen': 1, 'gesetzte': 1, 'sowohl': 13, 'mitwirkung': 1, 'form': 5, 'bundesrats': 1, 'obersten': 1, 'gesetzgebungsorgan': 1, 'bundestags': 2, 'gesetz“': 2, 'organe': 3, 'verstößt': 1, 'gegen': 19, 'zuleitung': 1, 'bundesrat': 1, '76': 1, 'ii': 3, 'grundlagen': 1, 'gesetzesbeschluss': 1, '77': 2, 'verfassungsmäßig': 1, 'formell': 1, 'verletzt': 1, 'gesetzgebunsverfahren': 1, 'haupt': 2, 'abschlussverfahren': 1, '1b)': 1, 'gesetzgebunskompetenz': 1, 'grundgesetz': 4, '70': 7, '75': 1, 'geklärt': 1, 'grundsätzlich': 29, 'erwähnt': 10, 'soweit': 5, 'bunde': 1, 'erteilt': 1, 'ausschließliche': 2, 'konkurrierende': 3, 'ausschließlichen': 1, '71': 1, 'bundesgesetz': 1, '73': 1, 'daraufhin': 1, 'bereiche': 5, 'besitzt': 2, '72': 1, 'gesetzgebung': 1, 'solange': 1, 'gesetzgebungszuständigkeit': 1, 'gebrauch': 3, 'macht': 20, 'unterteilt': 1, 'kernkompetenz': 3, 'bedarfskompetenz': 1, 'abweichungskompetenz': 1, '74': 3, 'abs': 9, 'relevant': 17, 'regelt': 2, 'konkurrierenden': 1, 'gesetzgebungsrecht': 1, 'bundesgesetzliche': 1, 'regelung': 1, 'spricht': 2, 'kompetenz': 1, 'maßnahmen': 7, 'gemeingefährliche': 1, 'krankheiten': 1, 'erlass': 2, 'gesetzen': 1, 'pandemiebekämpfung': 1, 'zuständig': 17, '2a)': 1, 'persönliche': 5, 'schutzbereich': 7, '12': 19, 'deutschenrecht': 1, 'welches': 7, '2': 32, 'natürliche': 5, 'juristische': 1, 'privatrechts': 1, '18': 7, 'auev': 7, 'hervorgehenden': 1, 'diskriminierungsverbot': 2, 'eu': 9, 'bürgern': 2, 's': 16, 'handelt': 9, 'beim': 16, 'sachlichen': 1, 'geprüft': 1, 'verhalten': 3, 'entsprechenden': 4, 'geschützt': 3, 'berufsfreiheit': 2, 'begriff': 4, 'definieren': 1, 'beruf': 1, 'dauer': 2, 'angelegte': 2, 'tätigkeit': 1, 'erhaltung': 3, 'lebensgrundlage': 1, 'evident': 2, 'sozialschädlich': 2, 'gegenteil': 3, 'behauptet': 3, 'lebensunterhalt': 1, 'verbindet': 2, 'importgewerbe': 1, 'import': 9, 'drogen': 10, 'sachliche': 2, '2b)': 1, 'vermeintlich': 1, 'a': 11, '9': 9, 'berufen': 21, 'betrieb': 2, 'vereinigung': 4, 'gewerbes': 1, 'schützen': 1, 'beiden': 4, 'rechte': 3, 'deutschenrechte': 1, 'weshalb': 3, 'argentinier': 1, 'wäre': 11, 'befasst': 1, 'gleichheitssatz': 1, 'wesentlich': 17, 'ungleiche': 2, 'sachen': 3, 'ungleich': 2, 'behandelt': 6, 'keinen': 7, 'drogenhandel': 1, 'betreibt': 1, 'liegen': 5, 'menschenrecht': 2, 'allgemeine': 2, 'handlungsfreiheit': 1, 'subsidiäres': 1, 'auffanggrundrecht': 1, 'schützt': 1, 'wären': 3, '3c)': 1, 'verhältnismäßigkeit': 2, 'gewerbeuntersagung': 4, 'verhältnismäßig': 3, 'verfolgte': 5, 'zweck': 10, 'legitim': 3, 'verwendeten': 2, 'geeignet': 5, 'angemessen': 3, 'allgemeinheit': 3, 'nachweislich': 17, 'legitimer': 2, 'maßnahme': 10, 'verfolgten': 1, 'erschwert': 2, 'keinem': 1, 'milderen': 1, 'mittel': 10, 'gleicher': 4, 'effizienz': 1, 'milde': 2, 'strafe': 3, 'dennoch': 5, 'verhältnismäßigkeitsprüfung': 1, 'sogar': 15, 'schwerere': 1, 'angemessenheit': 1, 'nachteile': 1, 'betroffenen': 2, 'vergleich': 3, 'bewirkten': 1, 'vorteilen': 1, 'nachteil': 1, 'völlig': 11, 'außer': 1, 'schwere': 1, 'straftat': 2, 'begangen': 1, 'wichtige': 1, 'staates': 1, 'gunsten': 1, 'eingriffs': 1, 'verfolgt': 1, '3)': 1, 'begünstigender': 1, 'rechtmäßigen': 1, 'solcher': 3, 'gemäß': 3, '§': 8, '49': 4, 'vwvfg': 7, 'unanfechtbarer': 1, 'rechtmäßiger': 1, 'kriterien': 1, 'teilweise': 3, 'wirkung': 5, 'widerrufen': 3, '6': 11, 'zurückliegt': 1, 'subvention': 6, 'einmalige': 2, 'geldleistung': 2, '§49': 5, 'einschlägig': 1, 'erfüllung': 2, 'zweckes': 1, 'gewährt': 6, 'hierfür': 2, 'vorraussetzung': 3, 'absätzen': 1, 'vergangenheit': 1, 'leistung': 2, 'zwecke': 4, '4': 9, 'bedingungen': 6, 'genutzt': 4, 'u': 6, 'geld': 28, 'privaten': 3, 'zwecken': 1, 'nutze': 2, 'umweltschonende': 1, 'fabrik': 2, 'errichtete': 1, 'gedacht': 1, 'aufhebung': 1, 'rechtmäßig': 1, '4)': 2, 'mengenmäßige': 2, 'beschränkungen': 3, 'binnenmarkt': 4, 'verboten': 3, 'eingriffe': 1, 'offene': 2, 'versteckte': 1, 'diskriminierung': 2, 'handelsbeschränkende': 1, 'verstanden': 2, 'zuständige': 1, 'behörde': 2, 'nutzt': 7, 'argumentation': 1, 'ungeschriebenen': 1, 'schranken': 1, 'cassis': 1, 'dijon': 1, 'entscheidung': 1, 'zwingende': 1, 'erfordernisse': 1, 'allgemeinwohls': 1, 'nutzen': 13, 'handelsbeschränkungen': 1, 'argumentieren': 1, 'fraglich': 1, 'wirklich': 21, 'verbraucherschutz': 1, 'gesundheitsschutz': 1, 'versteckt': 1, 'diskriminierende': 1, '63': 2, 'versteckten': 1, 'diskriminierungen': 1, 'kapitalverkehrs': 1, 'reinheitsgebot': 5, 'europarechtswidrig': 2, 'warenverkehrsfreiheit': 1, 'vereinbar': 2, 'deutsche': 6, 'bier': 2, 'ausland': 1, 'innergemeinschaftliche': 1, 'handelshemmnisse': 1, 'hingenommen': 1, 'europäischen': 3, 'gelten': 2, 'einfuhrbeschränkung': 1, '34': 1, 'weise': 30, '5)': 1, 'haushaltsplan': 1, 'gesetzgebers': 1, 'vorgesehen': 1, 'bverfgg': 1, '107': 3, 'unvereinbar': 1, 'b)': 1, 'c)': 2, 'gewährung': 1, 'könnt': 1, 'genannt': 2, 'digitale': 3, 'medien': 10, 'plattformen': 7, 'china': 2, 'printmedien': 2, 'verdrängen': 1, 'gemeinsamen': 4, 'interesse': 6, 'argumentiert': 1, 'meinungen': 1, 'regionen': 2, 'starken': 1, 'einfluss': 5, 'europäische': 1, 'meinungsbildung': 1, 'nehmen': 5, 'zudem': 9, 'davon': 8, 'auszugehen': 1, 'förderung': 1, 'wirtschaftszweigs': 1, 'zuwiderläuft': 1, 'sprache': 2, 'verfasste': 1, 'handelsverkehr': 1, 'begrenz': 1, 'eingeschränkt': 2, 'keines': 1, 'ungemein': 1, 'wichtiger': 10, 'wirtschaftszweig': 1, 'anscheinend': 8, 'ausnahmslos': 23, 'augenscheinlich': 8, 'ausdrücklich': 9, 'weitem': 8, 'bestenfalls': 8, 'bestimmt': 24, 'demgegenüber': 8, 'echt': 23, 'eigentlich': 10, 'einigermaßen': 8, 'erheblich': 8, 'fast': 9, 'folgendermaßen': 8, 'fortwährend': 8, 'fraglos': 8, 'freilich': 8, 'gewiss': 16, 'gar': 18, 'gelegentlich': 9, 'geradezu': 8, 'gesagt': 8, 'gewissermaßen': 8, 'gewöhnlich': 8, 'gleichsam': 8, 'gänzlich': 9, 'halt': 12, 'hervorragend': 23, 'glaube': 8, 'sage': 8, 'prinzip': 8, 'wahrheit': 10, 'aller': 15, 'deutlichkeit': 8, 'zusammenhang': 10, 'gewisser': 8, 'infolgedessen': 8, 'inzwischen': 11, 'irgend': 8, 'irgendwann': 8, 'irgendwie': 8, 'irgendwo': 9, 'ja': 8, 'kaum': 11, 'keinesfalls': 8, 'keineswegs': 8, 'endes': 8, 'letztendlich': 10, 'sagen': 9, 'maßgeblich': 23, 'meist': 10, 'meistenteils': 8, 'mutmaßlich': 8, 'möglicherweise': 12, 'nachhaltig': 23, 'natürlich': 30, 'wahr': 8, 'nichtsdestotrotz': 8, 'nichtsdestoweniger': 8, 'niemals': 8, 'normalerweise': 8, 'offenbar': 9, 'offenkundig': 8, 'umschweife': 8, 'zweifel': 8, 'plötzlich': 8, 'praktisch': 23, 'regelrecht': 8, 'relativ': 13, 'selbstredend': 8, 'seltsamerweise': 8, 'sicher': 26, 'sicherlich': 10, 'sogleich': 8, 'sozusagen': 8, 'streng': 23, 'ungefähr': 10, 'unlängst': 8, 'unsinnige': 8, 'vergleichsweise': 8, 'vielfach': 8, 'vielleicht': 9, 'vollkommen': 24, 'wahrscheinlich': 10, 'weitgehend': 8, 'wenige': 8, 'wenigstens': 8, 'ziemlich': 9, 'zugegeben': 8, 'zweifellos': 8, 'zweifelsohne': 8, 'überhaupt': 9, 'übrigens': 8, 'marmelade': 20, '(von': 2, 'portugiesisch': 2, 'marmelo': 3, '‚quitte‘[1])': 1, 'traditionelle': 2, 'bezeichnung': 7, 'brotaufstrich': 1, 'zucker': 5, 'eingekochten': 2, 'früchten': 4, 'hergestellt': 2, 'fruchtstücke': 3, 'fertigprodukt': 1, 'sichtbar': 1, 'verkauf': 1, 'werbung': 1, 'lokalen': 3, 'ausnahmen': 2, 'produkte': 9, 'zitrusfrüchten': 3, '(in': 2, 'sichtbare': 1, 'vorhanden': 2, 'schalenteile)': 1, 'konfitüre': 7, 'gesetze': 4, 'mussten': 1, 'angepasst': 1, '[2][3]': 1, '2003': 2, 'aufgrund': 7, 'ausnahmeregelung': 1, 'üblich': 2, 'vermehrt': 3, 'produkten': 6, 'jeglicher': 1, 'früchte': 4, 'verwendet': 4, 'regionale': 3, 'bezeichnungen': 2, 'schmiersel': 1, '(im': 4, 'pfälzischen)': 1, 'gsälz': 1, 'schwäbischen)': 1, 'schleck(s)l': 1, 'badischen)': 1, 'sießschmeer': 1, 'saarland)': 1, 'gebêss': 1, 'luxemburg)': 1, 'konfi': 1, 'gomfi': 1, 'schweiz)': 1, '[4]': 2, 'allgemeinen': 1, 'sprachgebrauch': 2, 'geänderter': 1, 'verordnungen': 1, 'inhaltsverzeichnis': 2, 'etymologie': 1, 'geschichte': 2, 'bezeichnungsverordnungen': 1, 'ausnahmevorschriften': 1, 'marmeladenrezepte': 1, 'herstellung': 3, 'verwendung': 5, 'mehlspeisen': 1, 'sonstiges': 1, 'siehe': 2, '11': 2, 'einzelnachweise': 2, 'weblinks': 1, 'etymologie[bearbeiten': 1, '|': 25, 'quelltext': 10, 'bearbeiten]': 10, 'marmelada': 1, '‚quittenmus‘': 1, 'zurück': 2, 'ableitung': 1, 'port': 1, '‚honigapfel‘': 1, '‚quitte‘': 1, 'stammt': 1, 'lateinisch': 1, 'melimēlum': 1, 'beziehungsweise': 2, 'letztlich': 2, 'griechisch': 1, 'μελίμηλον': 1, 'mélimēlon': 1, 'zusammensetzung': 1, 'griech': 2, 'μέλι': 1, 'méli': 1, 'deutsch': 4, '‚honig‘': 1, 'μῆλον': 1, 'mḗlon': 1, '‚apfel‘': 1, 'bedeutungserweiterung': 1, 'fand': 2, 'französischen': 1, 'statt': 6, 'portugiesische': 1, 'wort': 2, 'gelangte': 2, '[1]': 3, 'lässt': 16, 'spanische': 1, 'marmalada': 1, 'erstmals': 5, '1597': 1, 'hamburg': 3, 'nachweisen': 2, '[5]': 1, 'geschichte[bearbeiten': 1, 'marmeladeähnliche': 1, 'substanz': 1, 'alte': 2, 'rom': 1, 'zurückzuverfolgen': 1, 'ausgrabungen': 1, '1937': 1, 'tongefäßen': 1, 'rückstände': 1, 'zwetschgenmus': 1, 'verbindung': 3, 'zuckerrohr': 1, 'nachgewiesen': 1, 'vorläufer': 1, 'heutigen': 2, 'orangenmarmelade': 1, 'orangen': 2, 'heutiger': 1, 'richtlinie': 3, '1669': 1, 'london': 1, 'samuel': 1, 'pepys': 1, 'seinem': 3, 'tagebucheintrag': 1, 'trank': 1, 'apfelsinensaft': 1, 'halben': 1, 'liter': 2, 'zug': 1, 'schalen': 1, 'saft': 1, 'trinken': 2, 'wein': 2, 'schmeckt': 1, 'köstlich': 16, '[…]“[6]': 1, 'feststellen': 1, 'süße': 1, 'bitterorangen': 3, 'handelte': 2, 'älteste': 1, 'nachgewiesene': 3, 'britische': 4, 'rezept': 2, 'eliza': 1, 'cholmondeley': 1, '1677': 1, 'niedergeschrieben': 1, 'marmelet': 1, 'of': 1, 'oranges': 1, 'befindet': 3, 'archiven': 1, 'englischen': 1, 'grafschaft': 1, 'cheshire': 1, '[7]': 2, 'cholmondeleys': 1, 'ergibt': 1, 'quittenbrotähnliche': 1, 'masse': 1, 'konkret': 16, 'kommerzielle': 1, 'bitterorangenmarmelade': 2, 'dundee': 2, 'schottland': 1, 'kaufmannsfrau': 1, 'janet': 1, 'keiller': 3, '„erfunden“': 1, 'jahrhunderts': 1, 'spanisches': 1, 'handelsschiff': 1, 'sevilla': 1, 'aufkommenden': 1, 'sturm': 1, 'gezwungen': 1, 'hafen': 1, 'stadt': 6, 'anzulaufen': 1, 'bord': 2, 'befand': 2, 'menge': 1, 'sohn': 1, 'lebensmittelhändler': 1, 'james': 1, 'günstig': 16, 'erstanden': 1, 'rohzustand': 1, 'nahezu': 1, 'ungenießbar': 1, 'kochte': 1, 'kleinst': 1, 'gehackt': 1, 'verkaufsfähiges': 1, 'produkt': 9, 'verwandeln': 1, 'süßwarenladen': 1, 'zusammen': 2, 'marmeladen': 1, 'jam': 1, 'verkauft': 4, '[8]': 1, 'entwickelnde': 1, 'nachfrage': 5, 'ließ': 2, 'fabrikmäßige': 1, 'produktion': 4, 'berühmte': 1, 'schottische': 1, 'entstehen': 2, '1797': 1, 'gründete': 1, 'familie': 1, 'marmeladenmanufaktur': 1, 'welt': 9, '[9][8]': 1, 'bezeichnungsverordnungen[bearbeiten': 1, 'supermärkten': 1, 'zitrusfruchtprodukte': 1, 'hausgemachte': 1, 'aprikosenmarmelade': 1, 'konfitürenverordnung': 1, '(konfv)': 1, '26': 2, 'oktober': 1, 'zubereitungen': 1, 'zahlreichen': 2, 'johannisbeeren': 1, 'kirschen': 1, 'erdbeeren': 1, 'aprikosen/marillen': 1, 'himbeeren': 1, 'pflaumen': 1, 'birnen': 1, 'äpfeln': 1, 'unterschied': 3, 'bestand': 3, 'darin': 2, 'letzterer': 1, 'erkennbar': 2, 'außerdem': 1, 'einfrucht': 1, 'mehrfruchtmarmeladen': 2, '79/693/ewg[10]': 1, '(neufassung': 1, '2001/113/eg[11])': 1, 'ewg': 1, 'künftig': 1, 'fruchtaufstrichen': 1, 'vorbehalten': 1, 'britischen': 1, 'zurückzuführen': 2, 'englische': 3, 'marmalade': 1, 'bezeichnete': 1, 'vorher': 1, 'besondere': 4, '(bitter': 1, ')orangenmarmelade': 1, 'einteilung': 1, 'missverständnissen': 1, 'führen': 3, 'klassifizierung': 1, 'geändert': 1, '„alte“': 1, 'fruchtstücken': 1, '„neuer“': 1, 'unterscheiden': 2, '„marmelade“': 3, 'anstelle': 1, '„konfitüre“': 1, 'erzeugnisse': 2, 'zulässig': 1, 'örtlichen': 2, 'märkten': 3, '(z': 2, 'b': 7, 'bauern': 1, 'wochenmärkten)': 1, '„ab': 1, 'hof': 1, 'verkauf“': 1, 'abgegeben': 2, 'außerhalb': 1, 'hergestelltes': 1, 'erzeugnis': 1, 'verstehen': 6, 'deren': 6, 'keine': 13, 'ganzen': 1, 'fruchtsaft': 1, 'benutzt': 1, 'nennt': 2, 'gelee': 1, 'natursüße': 1, 'ähnlicher': 1, 'beschaffenheit': 1, '„fruchtaufstrich“': 1, 'ausnahmevorschriften[bearbeiten': 1, 'rücksicht': 3, 'bestehenden': 3, 'einigen': 6, 'mitgliedstaaten': 1, 'allgemein': 2, 'traditioneller': 1, 'innergemeinschaftlich': 1, 'gehandelt': 1, 'konfitürenverordnung[13]': 1, 'österreichischen': 2, 'konfitürenverordnung[14]': 1, 'insbesondere': 4, 'bauernmärkten': 1, 'wochenmärkten': 1, '(end)verbraucher': 1, 'marmeladenrezepte[bearbeiten': 1, 'marmeladenrezepten': 1, 'kochbüchern': 1, 'rezepten': 1, 'erdbeer': 1, 'apfel': 1, 'sauerkirsche': 1, 'stachelbeere': 1, 'schwarzer': 1, 'johannisbeere': 1, '(siehe': 1, 'opekta)': 1, 'herstellung[bearbeiten': 1, 'abfüllen': 1, 'gläser': 2, 'kurze': 1, 'kopf': 2, 'gestellt': 2, 'sterilisieren': 1, 'randes': 1, 'innenseite': 1, 'deckels': 1, 'heißen': 11, 'fruchtbrei': 1, 'weitverbreiteter': 1, 'irrtum': 1, 'konservierung': 1, 'nötigen': 1, 'unterdruck': 1, 'erhöht': 2, 'entsteht': 2, 'abkühlen': 1, 'glas': 2, 'enthaltenen': 1, 'luft': 1, 'unabhängig': 18, 'mehlspeisen[bearbeiten': 1, 'bestandteil': 2, 'küche': 4, 'palatschinken': 1, 'bestrichen': 1, 'eingerollt': 1, 'sacher': 1, 'torte': 2, 'glasieren': 1, 'passierter': 1, 'marillenmarmelade': 4, 'aprikotiert': 1, 'linzer': 2, 'traditionsgemäß': 1, 'ribiselmarmelade': 3, 'buchteln': 1, 'powidl': 1, 'gefüllt': 3, 'faschingskrapfen': 1, 'fülle': 1, 'punschkrapfen': 1, 'ebenfalls': 2, 'polsterzipfe': 1, 'beliebtesten': 2, 'weihnachtskekse': 1, 'verzichten': 1, 'augen': 1, 'beispielsweise': 2, 'keksscheiben': 1, 'zusammengeklebt': 1, 'bozner': 1, 'buchweizentorte': 1, 'traditionell': 17, 'preiselbeermarmelade': 1, '[15]': 1, 'hessischen': 1, 'findet': 3, 'zwetschenmus': 1, '(latwerge)': 1, 'befüllung': 1, 'kreppeln': 1, 'herkömmlicher': 1, 'aufstrich': 1, 'dunkles': 1, 'brot': 1, '(schwarzbrot)': 1, 'quark': 1, '(matte)': 1, 'kreppel': 1, 'hagebuttenmarmelade': 1, 'vielzeller': 5, 'mehrzeller': 1, 'lebewesen': 6, 'zellen': 12, 'aufgebaut': 2, 'echte': 1, 'kolonien': 3, 'einzelliger': 1, 'stoffwechsel': 1, 'zellverbands': 1, 'ausgeprägte': 1, 'aufgabenteilung': 1, 'ausbildung': 9, 'geweben': 2, 'echten': 1, 'vielzellern': 3, 'einzellerkolonien': 1, 'gewissen': 2, 'differenzierungsgrad': 1, 'definiert': 3, 'vielzellige': 2, 'mehrzahl': 1, 'tiere': 2, '(animalia)': 1, 'pflanzen': 5, '(plantae)': 1, 'pilze': 1, '(fungi)': 1, 'ernst': 16, 'mayr': 1, 'metabionta': 1, 'einzelligen': 1, 'protisten': 1, 'bakterien': 13, '(damals': 1, 'archaeen': 1, 'umfassend': 16, 'moderneren': 1, 'terminus': 1, 'prokaryoten)': 1, 'gegenübergestellt': 1, 'bilden': 7, 'organisationsstufen': 1, 'verwandtschaftlichen': 1, '(kladen)': 1, 'vielzelligkeit': 7, 'voneinander': 1, 'entstanden': 2, 'ist[1]': 1, 'manche': 1, 'prostisten': 1, 'näher': 1, 'tieren': 2, 'pilzen': 2, 'verwandt': 1, 'untereinander': 1, 'verschiedenen': 7, 'algen': 3, 'protozoen': 1, '(bacteria)': 1, 'übergangsformen': 2, 'evolution': 4, 'biochemische': 2, 'molekulare': 3, 'fortpflanzung': 2, 'tod': 2, 'vielzelligkeit[bearbeiten': 2, '→': 2, 'hauptartikel': 1, 'entwicklung': 6, 'einzellern': 1, 'vergleichende': 1, 'vielfalt': 1, 'verschieden': 3, 'organisierten': 2, 'organismen': 5, 'erklärungsmodell': 1, 'evolutionäre': 1, 'entstehung': 2, 'vielzelligen': 5, 'solitäre': 1, 'choanoflagellaten': 3, 'koloniebildenden': 1, 'unten': 1, 'schwämme': 1, 'offensichtlich': 1, 'ältesten': 1, 'fossil': 1, 'bekannten': 2, 'traten': 1, 'milliarden': 2, 'proterozoikum': 1, 'trichom\\xadbildende': 1, 'mikroorganismen': 1, 'annimmt': 1, 'cyanobakterien': 2, 'einfache': 3, 'grünalgen': 1, 'komplexere': 2, '(gabonionta)': 1, '600': 2, 'neoproterozoikum': 1, 'ediacara': 1, 'fauna': 1, 'frühesten': 1, '(metazoa)': 2, 'modellanalyse': 1, 'arbeitsteilig': 1, 'differenzierter': 1, 'multizellulärer': 1, 'diskutiert': 4, 'r': 2, 'jörres': 1, '(2010)': 1, '[2]': 1, 'neben': 6, 'eindeutig': 16, 'zuordenbaren': 1, 'verschiedene': 6, 'arten': 1, 'übergänge': 1, 'abhängigkeit': 4, 'umweltbedingungen': 1, 'beobachten': 2, '(veraltet': 2, '„blaualgen“)': 1, 'komplexe': 1, 'gebilde': 1, 'gemeinsame': 1, 'schleimhülle': 1, 'spezialisierte': 2, 'sporen': 1, 'nährstoffe': 1, 'speichernde': 1, 'zellen)': 3, 'enthalten': 1, 'beispiele': 3, 'actinomycetales': 1, '„strahlenpilze“)': 1, 'fruchtkörperbildenden': 1, 'myxobakterien': 1, 'tendenz': 1, 'zelldifferenzierung': 3, 'unterscheidet': 1, 'botanik': 1, 'mehrzelligen': 1, 'formen': 2, 'differenzierten': 1, 'körperbau': 1, 'thallus': 1, 'differenzierte': 3, 'gewebe': 4, 'unterteilten': 1, 'kormus': 1, 'engste': 1, 'verwandte': 1, 'geltenden': 1, '„protozoen“': 1, 'gruppe': 2, 'kleine': 1, 'rosettenförmige': 1, 'geringfügige': 1, 'größe': 2, 'kolonie': 1, 'zunehmende': 1, 'festgestellt': 1, '[3]': 1, 'pilzarten': 1, 'einzellige': 3, 'hefe': 1, 'hyphen\\xadphasen': 1, 'zellulären': 1, 'schleimpilzen': 1, 'dictyostelium': 1, 'discoideum': 1, 'aggregieren': 1, 'einzeln': 2, 'lebende': 1, 'nahrungsmangel': 1, 'fruchtkörper': 1, 'dessen': 3, 'zelldifferenzierungen': 1, 'spiegeln': 1, 'hinab': 1, 'ergeben': 1, 'spezifischer': 1, 'kommunikation': 6, 'miteinander': 1, 'verbundenen': 2, 'zell': 3, 'gewebeverbände': 1, 'lösen': 3, 'direkte': 1, 'verschiedensten': 1, 'zelltypen': 1, 'koordiniert': 1, 'undifferenzierten': 1, 'vorläuferzellen': 1, 'gebildet': 17, 'zelladhäsion': 1, 'einzelnen': 8, 'organismus': 3, 'gestalt': 1, 'ausbilden': 1, 'bestimmte': 4, 'aneinander': 1, 'haften': 1, 'interzelluläre': 1, 'erkennungsprozesse[5]': 1, 'grundlegenden': 1, 'vorgängen': 1, 'multizellulären': 1, 'erhalt': 1, 'regenerationsprozessen': 1, 'adulten': 1, 'bedeutung': 5, 'morphoregulatorischen': 1, 'vorgänge': 1, 'membranabhängige': 1, 'umsetzung': 1, 'interzellulären': 1, 'erkennung': 1, 'signalprozesse': 1, 'zellwanderungen': 1, 'somiten': 1, 'extremitätenanlagen': 1, 'differenzierung': 1, 'polarisierung': 1, 'epithel\\xadzellen': 1, 'spezifischen': 1, 'zellkontext': 1, 'schicksal': 1, '(stammzellen\\xadentwicklung)': 1, 'beeinflusst': 2, 'tod[bearbeiten': 1, 'zellteilung': 1, 'fortpflanzen': 1, 'meisten': 5, 'fortpflanzungsstrategien': 1, 'besitzen': 6, 'körperzellen': 1, 'funktionellen': 1, 'aufbauen': 3, '(somatische': 1, 'hervorbringen': 1, 'nächsten': 2, 'generation': 2, 'dienen': 2, '(generative': 1, 'sexuell': 16, '(geschlechtszellen)': 1, 'asexuell': 1, 'august': 2, 'weismann': 1, 'stellte': 1, '1881': 1, 'hypothese': 1, 'altern': 3, 'sterblichkeit': 1, 'vielzelliger': 1, 'auftraten': 1, 'einzeller': 1, 'individuelle': 4, 'zelle': 2, 'generative': 1, 'teilung': 1, 'nachfolgegeneration': 1, 'hervorbringt': 1, 'sodass': 1, 'ganze': 8, 'potentiell': 2, 'unsterblich': 16, 'beschränkt': 4, 'potentielle': 1, 'unsterblichkeit': 1, 'generativen': 1, 'somatischen': 1, 'aufgebaute': 1, 'individuum': 4, 'definierende': 1, 'körper': 5, 'sterblich': 1, 'auszug': 1, 'nationale': 5, 'system': 2, 'politischen': 7, 'oekonomie': 5, '(1841)': 2, 'nationalökonom': 1, 'list': 3, '(1789': 1, '1846)': 1, 'stufen': 2, 'ökonomischer': 1, 'kosmopolitischen': 2, 'nationalistischen': 1, 'perspektive': 4, 'ökonomie': 2, 'schutzzöllen': 1, 'kritiker': 1, 'freihandelsbefürworters': 1, 'adam': 1, 'smith': 1, 'nachfolger': 1, 'argumentierte': 1, 'entwickelte': 2, 'volkswirtschaften': 1, 'deutschlands': 1, 'schutzzölle': 3, 'fertigerzeugnisse': 1, 'benötigten': 1, 'wachstum': 4, 'aufstrebenden': 3, 'industrie': 4, 'gefährden': 1, 'lists': 1, 'lesart': 1, 'wirtschaftslehre': 1, 'forderte': 1, 'internationalen': 4, 'handels': 9, 'plädierte': 1, 'freihandel': 1, 'gewerbefreiheit': 1, '[': 1, 'größerer': 1, 'klarheit': 1, 'läßt': 1, 'uebersicht': 1, 'hauptresultate': 1, 'forschungen': 1, 'reflexionen': 1, 'folgen': 2, 'einigung': 6, 'individuellen': 2, 'kräfte': 11, 'verfolgung': 1, 'gemeinsamer': 1, 'mächtigste': 1, 'bewirkung': 1, 'glückseligkeit': 1, 'individuen': 11, 'allein': 6, 'mitmenschen': 1, 'schwach': 1, 'hülflos': 1, 'größer': 4, 'derer': 1, 'gesellschaftlicher': 1, 'vollkommener': 2, 'desto': 3, 'geistige': 4, 'körperliche': 1, 'wohlfahrt': 3, 'realisirte': 1, 'rechtsgesetz': 3, 'staats': 1, 'nation': 54, 'gedenkbare': 1, 'gesammten': 3, 'menschheit': 5, 'gleichwie': 2, 'höheren': 6, 'grade': 2, 'erreichen': 6, 'vermag': 1, 'stände': 1, 'würden': 5, 'nationen': 36, 'ewigen': 2, 'frieden': 2, 'verkehr': 8, 'einander': 4, 'verbunden': 3, 'natur': 5, 'drängt': 1, 'allmählich': 5, 'höchsten': 2, 'indem': 5, 'verschiedenheit': 1, 'klima': 2, 'bodens': 1, 'tausch': 2, 'uebervölkerung': 1, 'ueberfluß': 2, 'capital': 1, 'talenten': 1, 'auswanderung': 1, 'colonisirung': 1, 'antreibt': 1, 'internationale': 3, 'hervorrufung': 1, 'bedürfnisse': 1, 'thätigkeit': 1, 'kraftanstrengung': 1, 'anreizt': 1, 'erfindungen': 1, 'überträgt': 1, 'mächtigsten': 1, 'hebel': 1, 'civilisation': 9, 'nationalwohlstandes': 1, 'entstehende': 1, 'unvollkommene': 1, 'unterbrochen': 2, 'geschwächt': 1, 'krieg': 5, 'egoistische': 2, 'maßregeln': 3, 'einzelner': 1, 'selbständigkeit': 5, 'eigenthums': 2, 'freiheit': 4, 'unabhängigkeit': 1, 'verfassung': 1, 'nationaleigenthümlichkeiten': 2, 'errungenen': 1, 'grades': 2, 'kultur': 6, 'wohlstand': 4, 'beraubt': 1, 'unterjocht': 1, 'fremder': 8, 'ökonomischen': 8, 'vervollkommnung': 3, 'gestört': 3, 'rückwärts': 2, 'geführt': 1, 'nationalität': 2, 'daher': 4, 'hauptgegenstand': 1, 'strebens': 2, 'muß': 7, 'dieß': 2, 'falsches': 1, 'egoistisches': 1, 'vernünftiges': 2, 'wahren': 1, 'einklang': 1, 'stehendes': 1, 'bestreben': 1, 'führt': 1, 'naturgemäß': 1, 'endlichen': 1, 'universalunion': 3, 'menschlichen': 2, 'geschlechtes': 1, 'zuträglich': 1, 'gleichmäßige': 1, 'stufe': 3, 'wege': 7, 'conföderation': 4, 'realisirt': 1, 'überwiegender': 2, 'politischer': 3, 'überwiegendem': 1, 'reichthum': 6, 'einzigen': 2, 'hervorgehende': 1, 'unterwerfung': 1, 'andern': 5, 'nationalitäten': 2, 'basirte': 1, 'dagegen': 9, 'untergang': 1, 'wetteifers': 1, 'völkern': 1, 'widerstritte': 1, 'interessen': 3, 'gefühlen': 1, 'erreichung': 1, 'hohen': 2, 'geltung': 1, 'fühlen': 1, 'wiederholung': 1, 'versuchs': 1, 'römer': 1, 'jetzt': 17, 'hülfe': 1, 'manufakturen': 14, 'kalten': 2, 'stahl': 1, 'werk': 1, 'darum': 7, 'minder': 3, 'barbarei': 1, 'zurückführend': 1, 'politische': 7, 'hauptsächlich': 5, 'zustände': 1, 'bedingt': 4, 'umgekehrt': 1, 'entwickelt': 4, 'vervollkommnet': 1, 'civilisirter': 2, 'mächtiger': 3, 'höher': 2, 'ökonomische': 4, 'beziehung': 3, 'nationalökonomische': 2, 'hauptentwickelungsgrade': 1, 'anzunehmen': 1, 'wilder': 1, 'zustand': 4, 'hirtenstand': 3, 'agrikulturstand': 3, 'agrikulturmanufakturstand': 1, 'agrikulturmanufakturhandelsstand': 1, 'diejenige': 1, 'ausgedehnten': 1, 'mannigfaltigen': 3, 'natürlichen': 5, 'hülfsquellen': 4, 'ausgestatteten': 1, 'territorium': 4, 'großen': 7, 'bevölkerung': 7, 'ackerbau': 6, 'schifffahrt': 8, 'innern': 6, 'äußern': 2, 'vereinigt': 2, 'politisch': 2, 'gebildeter': 1, 'bloße': 1, 'agrikulturnation': 2, 'basis': 5, 'verbesserten': 1, 'ackerbaues': 1, 'folglich': 4, 'gelänge': 1, 'manufakturkraft': 14, 'erdballs': 1, 'monopolisiren': 1, 'übrigen': 1, 'entwickelung': 6, 'niederzuhalten': 1, 'daß': 12, 'agrikulturprodukte': 8, 'rohstoffe': 8, 'erzeugt': 2, 'nöthigsten': 1, 'lokalgewerbe': 1, 'betrieben': 2, 'müßte': 1, 'nothwendig': 2, 'universalherrschaft': 1, 'fortdauer': 3, 'werth': 1, 'trachten': 1, 'niedrigen': 2, 'kulturstand': 1, 'überzugehen': 1, 'agrikultur': 8, 'eigenen': 23, 'vereinigen': 1, 'uebergänge': 1, 'wilden': 1, 'fortschritte': 4, 'besten': 17, 'civilisirteren': 1, 'd': 16, 'h': 2, 'manufaktur': 6, 'handelsnationen': 4, 'bewirkt': 2, 'uebergang': 3, 'agrikulturvölker': 1, 'klasse': 16, 'agrikulturmanufaktur': 2, 'freiem': 2, 'emporbringung': 1, 'berufenen': 1, 'gleiche': 2, 'bildungsproceß': 1, 'stattgefunden': 1, 'keinerlei': 1, 'hindernisse': 1, 'weg': 5, 'legten': 1, 'douanensysteme': 2, 'fortschritten': 3, 'störten': 1, 'verhältnisse': 1, 'begünstigt': 2, 'vorsprung': 2, 'gewonnen': 2, 'dieselben': 1, 'frühzeitig': 1, 'vervollkommnungen': 1, 'wirksamste': 1, 'erkannt': 2, 'politisches': 1, 'uebergewicht': 2, 'erlangen': 4, 'behaupten': 1, 'einrichtungen': 2, 'darauf': 10, 'berechnet': 1, 'monopol': 7, 'vorgerückte': 3, 'aufzuhalten': 2, 'complex': 1, '(einfuhrverbote': 1, 'einfuhrzölle': 2, 'schifffahrtsbeschränkungen': 1, 'ausfuhrprämien': 1, 'w': 3, ')': 1, 'douanensystem': 4, 'früheren': 1, 'anderer': 2, 'fremden': 2, 'vorgerückten': 2, 'genöthigt': 1, 'suchen': 4, 'manufakturstand': 1, 'bewerkstelligen': 2, 'manufakturmonopol': 1, 'strebenden': 1, 'insofern': 3, 'hinderlich': 2, 'eigenes': 8, 'beschränken': 2, 'demnach': 11, 'erfindung': 1, 'spekulativer': 1, 'köpfe': 1, 'garantien': 2, 'prosperität': 1, 'streben': 2, 'legitimes': 1, 'ergreift': 1, 'förderlich': 1, 'künftigen': 1, 'universalconföderation': 1, 'feindlich': 1, 'entgegentritt': 1, 'menschliche': 1, 'gesellschaft': 3, 'gedoppelten': 1, 'gesichtspunkt': 1, 'nämlich': 3, 'gesammte': 1, 'auge': 1, 'faßt': 1, 'besonderen': 3, 'nationalinteressen': 1, 'nationalzustände': 1, 'berücksichtigt': 2, 'hauptgesichtspunkten': 1, 'gesellschaftlichen': 6, 'wodurch': 3, 'reichthümer': 1, 'hervorgebracht': 2, 'tauschwerth': 2, 'güter': 2, 'kosmopolitische': 3, 'theorie': 2, 'tauschwerthe': 1, 'produktiven': 5, 'doktrinen': 1, 'selbständig': 16, 'völker': 1, 'fleiß': 1, 'sparsamkeit': 1, 'moralität': 1, 'intelligenz': 3, 'besitz': 4, 'naturfonds': 1, 'kapitalien': 1, 'bürgerlichen': 1, 'institutionen': 3, 'fleißig': 16, 'sparsam': 16, 'erfinderisch': 16, 'unternehmend': 1, 'moralisch': 1, 'intelligent': 16, 'nationaleinheit': 1, 'theilung': 6, 'grad': 2, 'fortdauernden': 1, 'geistigen': 7, 'sichern': 2, 'princip': 5, 'unvollständig': 1, 'aufgefaßt': 1, 'produktivität': 2, 'verschiedener': 1, 'geschäftsoperationen': 1, 'körperlichen': 7, 'gemeinschaftlichen': 1, 'bloß': 5, 'landwirthschaft': 1, 'handelskraft': 1, 'anwendbar': 1, 'produktivkräfte': 3, 'nationalen': 2, 'maßstab': 2, 'besteht': 10, 'richtigem': 1, 'verhältniß': 2, 'gewerbe': 2, 'gleichmäßig': 1, 'harmonisch': 16, 'ausgebildet': 1, 'bloßen': 2, 'treibt': 1, 'großer': 1, 'theil': 5, 'müßig': 2, 'unbenützt': 1, 'intellektuelle': 2, 'vertheidigungskräfte': 1, 'bedeutende': 2, 'ausgebreiteten': 1, 'all': 1, 'frucht': 1, 'verkehrs': 1, 'fremde': 7, 'kriege': 2, 'vernichtet': 1, 'befördert': 2, 'kunst': 1, 'volkswohlstand': 1, 'staatseinkommen': 1, 'handelsverbindungen': 1, 'theile': 1, 'erde': 1, 'auszudehnen': 1, 'colonien': 1, 'anzulegen': 1, 'nährt': 1, 'fischereien': 1, 'kriegsmarine': 1, 'innere': 6, 'hohe': 3, 'gehoben': 18, 'agrikulturkraft': 2, 'derselben': 2, 'nämlichen': 1, 'leben': 4, 'handelsmaßregeln': 1, 'wechselwirkung': 1, 'garantiren': 1, 'unaufhörlichen': 1, 'fortschritt': 1, 'hülfsmittel': 3, 'gemäßigten': 11, 'zone': 22, 'vorzugsweise': 1, 'gemäßigte': 1, 'anstrengung': 1, 'hinsicht': 1, 'ihrerseits': 1, 'natürliches': 3, 'ansehung': 1, 'werthvoller': 1, 'angenehmer': 1, 'manufakturprodukten': 3, '(colonialwaaren)': 1, 'kräfteconföderation': 1, 'großartige': 2, 'lande': 1, 'höchst': 2, 'nachtheiliges': 1, 'beginnen': 2, 'manufakturprodukte': 3, 'eintauscht': 1, 'gerathen': 1, 'dadurch': 7, 'unschädlich': 1, 'vielmehr': 2, 'aufgehoben': 1, 'erstehen': 1, 'gleichgewicht': 1, 'mehrerer': 1, 'manufakturnationen': 1, 'verhindern': 2, 'uebermacht': 1, 'mindermächtigen': 1, 'mißbrauche': 1, 'gefährlich': 1, 'schädlich': 2, 'seemacht': 1, 'monopolisirt': 1, 'ausgestattetes': 1, 'reichsten': 1, 'quellen': 3, 'wohlstandes': 2, 'unbenutzt': 1, 'strebten': 1, 'realisiren': 1, 'sobald': 3, 'erforderlichen': 2, 'hülfsmitteln': 3, 'ausfuhr': 5, 'bedeutend': 18, 'gefördert': 2, 'bildung': 2, 'sicherheit': 1, 'person': 5, 'anstalten': 1, 'erleichtern': 2, 'abwesenheit': 1, 'moralitätstörenden': 1, 'z': 5, 'feudalwesens': 1, 'solchen': 4, 'dahin': 1, 'allererst': 2, 'markt': 10, 'versorge': 1, 'unmittelbare': 1, 'trete': 1, 'schiffen': 1, 'manufakturwaaren': 9, 'zuführe': 1, 'entgegennehme': 1, 'manufakturländern': 2, 'agrikulturländern': 1, 'ausnahme': 1, 'weins': 1, 'untergeordneter': 1, 'rohstoffen': 2, 'nahrungsstoffen': 1, 'hinsichtlich': 1, 'großem': 2, 'belang': 1, 'getreide': 1, 'flachs': 1, 'hanf': 1, 'wolle': 1, 'rohe': 1, 'arme': 1, 'heben': 2, 'erhoben': 1, 'aufstellen': 1, 'reicher': 1, 'exportirt': 2, 'importirt': 2, 'consumirt': 3, 'produktivstoffe': 1, 'nahrungsstoffe': 1, 'reizmittel': 1, 'manufakturproduktion': 1, 'derjenigen': 1, 'größten': 4, 'quantitäten': 4, 'verhältnißmäßig': 1, 'agrikulturprodukten': 5, 'nationalökonomischen': 1, 'vermittelst': 3, 'perioden': 1, 'einfuhr': 4, 'einheimischer': 1, 'erheben': 1, 'auswärtiger': 1, 'versorgen': 3, 'inländischen': 8, 'inländischer': 1, 'regulirung': 1, 'auswärtigen': 2, 'fördern': 1, 'industriellen': 2, 'erziehung': 4, 'richtschnur': 1, 'thörichtes': 1, 'ausschließung': 1, 'landes': 2, 'niedergehalten': 1, 'stehenden': 2, 'umfang': 2, 'territoriums': 1, 'armen': 1, 'kultivirten': 1, 'reichen': 1, 'gewerbfleißigen': 1, 'absicht': 1, 'angeordnet': 1, 'voreilig': 1, 'wirkt': 3, 'nachtheilig': 1, 'alsdann': 1, 'gediehen': 1, 'hinlänglichem': 1, 'absatz': 1, 'weitern': 1, 'aufgehalten': 1, 'behindert': 1, 'schutzmaßregeln': 1, 'rechtfertigen': 2, 'mannigfaltige': 1, 'darbietet': 1, 'mündungen': 1, 'ströme': 1, 'gehörig': 1, 'arrondirt': 1, 'schutzsystem': 4, 'entweder': 1, 'vollem': 1, 'erfolg': 2, 'anwendung': 6, 'bringen': 5, 'eroberung': 1, 'vertrag': 5, 'dergleichen': 1, 'mängel': 1, 'heilen': 1, 'umfaßt': 1, 'zweige': 1, 'könnens': 1, 'erfahrungen': 2, 'uebungen': 1, 'gewohnheiten': 1, 'voraus': 4, 'industrielle': 1, 'statten': 1, 'uebertreibung': 1, 'uebereilung': 1, 'schutzes': 1, 'straft': 1, 'verminderung': 1, 'schädlichsten': 1, 'verwerflichsten': 1, 'plötzliche': 1, 'gänzliche': 1, 'abschließung': 1, 'prohibitionen': 1, 'langen': 2, 'unfreiwilligen': 1, 'prohibition': 1, 'absolute': 2, 'nothwendigkeit': 1, 'versetzt': 2, 'genügen': 1, 'allmählicher': 1, 'prohibitivsystem': 1, 'vorherbestimmte': 1, 'vermindernde': 1, 'zollsätze': 3, 'zustande': 4, 'nichtprotektion': 1, 'protektion': 1, 'übergehen': 1, 'will': 12, 'geringen': 1, 'zollsätzen': 2, 'ausgehen': 4, 'vorausbestimmten': 1, 'stufenleiter': 1, 'vorherbestimmten': 1, 'staatsgewalt': 1, 'unverbrüchlich': 1, 'einzuhalten': 1, 'sätze': 1, 'vermindern': 1, 'erhöhen': 3, 'zureichend': 1, 'erscheinen': 1, 'allzuhohe': 1, 'auswärtige': 3, 'concurrenz': 6, 'ausschließen': 1, 'anlegt': 1, 'wetteifer': 1, 'manufakturisten': 2, 'auslande': 1, 'ausgeschlossen': 1, 'indolenz': 1, 'genährt': 1, 'ansehnlichen': 1, 'steigenden': 1, 'gedeihen': 1, 'beweis': 2, 'schutzzoll': 3, 'beschützten': 2, 'industriezweig': 1, 'fallen': 3, 'gefährdet': 2, 'beschützung': 1, 'wurzeln': 1, 'stammes': 1, 'nationalindustrie': 1, 'unverbrüchlicher': 1, 'grundsatz': 1, 'theilnahme': 1, 'jährlichen': 2, 'consumtionszuwachs': 1, 'größeren': 1, 'zuwachses': 1, 'gewinnt': 3, 'weiten': 1, 'erhält': 1, 'erweitert': 1, 'handelssuprematie': 1, 'dasselbe': 1, 'hieraus': 1, 'vorliebe': 1, 'aufgeklärter': 1, 'englischer': 1, 'staatsökonomen': 2, 'handelsfreiheit': 1, 'abgeneigtheit': 1, 'einsichtsvoller': 1, 'weltverhältnissen': 1, 'vierteljahrhundert': 1, 'prohibitiv': 1, 'england': 4, 'vortheil': 1, 'nachtheiligsten': 1, 'wirken': 1, 'einfuhrbeschränkungen': 1, 'lebensmittel': 5, 'handelsunionen': 1, 'handelsverträge': 3, 'wirksamsten': 1, 'vortheile': 2, 'wechselseitig': 1, 'schädliche': 2, 'illegitime': 1, 'begriffene': 1, 'opfer': 1, 'gebracht': 2, 'concessionen': 1, 'methuen': 1, 'löwenverträge': 1, 'löwenvertrag': 1, 'frankreich': 3, '1768': 1, 'abgeschlossene': 1, 'anträge': 1, 'seitdem': 1, 'vertheuert': 1, 'wohlfeilere': 1, 'preise': 3, 'vollständigen': 1, 'fabrikate': 2, 'wohlfeiler': 1, 'verführung': 1, 'einführung': 1, 'transport': 2, 'handelsgewinnsten': 1, 'kostet': 1, 'verursachte': 1, 'verlust': 1, 'jedenfalls': 2, 'werthen': 3, 'ewige': 1, 'zeiten': 2, 'unberechenbare': 1, 'summen': 1, 'produciren': 1, 'aufwand': 2, 'preis': 5, 'agrikulturisten': 3, 'last': 1, 'emporkommen': 2, 'rente': 1, 'grundeigenthums': 1, 'außerordentlich': 16, 'manufakturbedürfnisse': 1, 'gewinnste': 1, 'übersteigen': 1, 'vorübergehende': 1, 'erhöhung': 1, 'manufakturwaarenpreise': 1, 'zugehenden': 1, 'verluste': 2, 'zehnfältig': 1, 'äußere': 2, 'schutzsystems': 1, 'consumiren': 1, 'vertauschen': 1, 'agrikulturnationen': 1, 'unbedeutend': 1, 'händen': 1, 'zweckmäßige': 1, 'garantie': 1, 'denjenigen': 1, 'capitalien': 2, 'talente': 1, 'arbeitskräfte': 1, 'unbekannten': 1, 'industrien': 1, 'widmen': 1, 'inländische': 1, 'stelle': 1, 'tritt': 2, 'jedem': 1, 'freisteht': 1, 'gebotenen': 1, 'prämien': 1, 'angehörigen': 2, 'ähnliches': 2, 'nützliches': 1, 'schlafende': 1, 'liegende': 1, 'weckt': 1, '(materielle': 1, 'unternehmer': 7, 'techniker': 1, 'arbeiter)': 1, 'zieht': 1, 'nichtemporkommen': 1, 'alter': 3, 'produktive': 1, 'nachtheilen': 1, 'verkrüppeln': 1, 'zuwachs': 1, 'großartigen': 1, 'manufakturindustrie': 1, 'gewerben': 1, 'unterkommen': 1, 'erzeugen': 1, 'gewinnreich': 1, 'begünstigen': 3, 'nunmehr': 1, 'wirft': 1, 'güterzerstückelung': 1, 'kleinwirthschaft': 1, 'größtentheils': 1, 'kleinbauern': 1, 'bestehendes': 1, 'argikulturvolk': 1, 'weder': 1, 'werfen': 1, 'fabrikaten': 1, 'veranlassen': 1, 'consumtion': 1, 'verhältnissen': 1, 'vollkommenes': 1, 'transportsystem': 1, 'unermeßlichen': 1, 'nationalschwäche': 1, 'materielle': 1, 'nothwendige': 1, 'wirkungen': 1, 'gefährlicher': 1, 'benachbarte': 1, 'entgegengesetzte': 1, 'richtung': 3, 'einschlagen': 1, 'vorwärts': 1, 'schreiten': 1, 'bessern': 1, 'muth': 2, 'unternehmungsgeist': 1, 'geist': 1, 'nichtsversprechende': 1, 'erstickt': 1, 'liefert': 1, 'grunde': 1, 'gegangen': 1, 'gehöriger': 1, 'pflanzung': 1, 'eigener': 2, 'kräftigen': 1, 'handelsstandes': 1, 'versichern': 1, 'quelle': 1, 'siebente': 1, 'stuttgart': 1, 'verlag': 3, 'j': 1, 'g': 1, 'cotta': 1, 'schen': 1, 'buchhandlung': 1, '1883': 1, 'ekerbrink': 23, '>': 2, 'morning': 1, 'briefing': 2, 'daily': 1, 'eingebaut': 1, 'personalisierte': 2, 'informationen': 16, 'on': 1, 'demand': 1, 'branchen': 5, 'digitalisierung': 6, '“sammel': 1, 'effekt”': 1, 'filme': 2, 'lieder': 1, 'cd’s': 1, 'platten': 1, 'befinden': 2, 'netflix': 2, 'amazon': 2, 'prime': 1, 'musik': 2, 'anbieter': 2, 'spotify': 2, 'deezer': 1, 'zeitungsbranche': 1, 'digitalisierungsprozess': 1, 'website': 9, 'spiegel': 5, 'online': 9, 'werben': 1, 'verlage': 17, 'google': 10, 'facebook': 9, 'instagram': 5, 'etc': 9, 'snapchat': 3, 'vorgeschlagen': 2, 'bekommen': 5, 'mich': 12, 'persönlich': 16, 'interessieren': 17, 'bin': 3, 'mensch': 2, 'gerne': 2, 'weiterbildet': 2, 'relevanten': 4, 'geringe': 1, 'wertvollen': 1, 'inhalts': 1, 'gemischt': 1, 'vielzahl': 4, 'posts': 1, 'artikeln': 3, 'bildern': 1, 'verlangen': 4, 'reizen': 1, 'stillen': 1, 'scheinbar': 1, 'beliefern': 1, 'belanglos': 1, 'grund': 5, 'warum': 11, '“weiterbilden”': 1, 'netzwerk': 4, 'effekte': 2, 'aufnahme': 1, 'handlung': 3, 'stattfindet': 3, 'echter': 1, 'suche': 2, 'zutun': 2, 'gewisse': 2, 'netzwerkeffekte': 3, 'entscheidender': 3, 'plattform': 17, 'rasantem': 1, 'verhelfen': 1, 'gründen': 3, 'täglich': 11, 'zeitungsartikel': 2, 'mir': 7, 'heraus': 1, 'filtert': 1, 'themen': 8, 'nachhaltigkeit': 1, 'bereichen': 4, 'aktuelle': 5, 'schaue': 1, 'meistens': 1, 'youtube': 1, 'passende': 3, 'videos': 1, 'finde': 2, 'kaufe': 1, 'zeitung': 11, 'handelsblatt': 1, 'interessiert': 18, 'großteil': 1, 'wenigen': 1, 'gäbe': 1, 'algorithmen': 1, 'weiß': 3, 'exakt': 16, 'passenden': 4, 'heraussucht': 1, 'möchte': 3, 'riesen': 3, 'mehrwert': 3, 'breite': 2, 'zeitungen': 2, 'fortbilden': 1, 'bedürfnis': 3, 'zugeschnittenen': 1, 'passendes': 2, 'werkzeug': 1, 'vergleichbar': 1, 'blinkist': 8, 'büchern': 2, 'anhören': 1, 'durchlesen': 1, '13': 5, 'nutzern': 5, 'orientierung': 1, 'idee': 14, 'hinter': 6, 'nutzer': 5, 'grundkonzept': 1, 'werde': 5, 'sprechen': 1, 'team': 4, 'kurzen': 2, 'überblick': 8, 'geschäftsplan': 2, 'tom': 6, 'bödeker': 6, 'gründer': 6, 'vwl': 1, 'student': 2, 'mannheim': 9, 'business': 3, 'developments': 1, 'softwareunternehmen': 1, 'sieht': 7, 'trends': 5, 'geschäftsideen': 1, '15': 2, 'up': 5, 'wettbewerben': 1, 'teilgenommen': 1, 'investoren': 1, 'präsentiert': 1, 'robin': 1, 'wehebrink': 1, 'jura': 1, 'erfolgreiche': 7, 'seite': 2, '8000': 1, 'abonnenten': 5, 'selber': 1, 'morgen': 1, 'stunden': 16, 'dinge': 2, 'jonas': 1, 'immobilienverwalter': 1, 'hannover': 7, 'fähigkeit': 4, 'logik': 1, 'durchleuchten': 1, 'schnelles': 1, 'gespür': 1, 'potential': 1, 'sachlich': 16, 'aussagen': 1, 'informierte': 1, 'fundiertes': 1, 'grundwissen': 1, 'kurzüberblick': 1, 'umsatz': 1, 'kapital': 1, 'unternehmens': 4, 'belaufen': 1, 'baukasten': 1, 'fertigen': 1, 'komponenten': 2, 'zusammengesetzt': 1, 'entwickeln': 8, 'bestehende': 1, 'akteure': 1, 'zusammengebracht': 1, 'aufzubauen': 5, 'dirigenten': 1, 'fäden': 1, 'zusammenführen': 1, 'behalten': 2, 'nötiges': 1, 'absprache': 2, 'martin': 2, 'ledvinka': 1, 'projektionisten': 2, '500': 1, 'euro': 2, 'kalkulieren': 1, 'perfekt': 16, 'funktionstüchtig': 1, 'negativen': 2, 'nachrichten': 2, 'verbreiten': 3, 'maximal': 16, 'halbes': 1, 'brauchen': 5, 'wahrscheinlichkeit': 1, 'ups': 3, 'ähnlichen': 3, 'parallel': 1, 'hochdruck': 1, 'kontakte': 2, 'verlagen': 7, 'liste': 1, 'passender': 2, 'anhang': 1, 'bekannte': 1, 'geschäftsbeziehung': 1, 'ausstehen': 1, 'geschäftsidee': 1, 'simpel': 16, 'genauso': 1, 'unser': 8, 'zusammenzufassen': 1, 'verkaufen': 6, 'abonnements': 2, 'unserer': 11, 'kriegen': 1, 'zugeschnitten': 1, 'erwähnen': 4, 'algorithmus': 5, 'vorschläge': 1, 'ziel': 1, 'lenken': 1, '(cambridge': 1, 'analytics)': 1, 'ansicht': 1, 'verkaufsargument': 3, 'unseren': 6, 'endkunden': 9, 'möglichkeit': 29, 'bieten': 7, 'unbewusst': 1, '“vogelperspektive”': 1, 'weiterzubilden': 1, 'aufzunehmen': 2, 'geboten': 1, 'events': 9, 'journalisten': 9, 'autoren': 8, 'zusammenkommen': 2, 'vorträge': 2, 'wirtschaftsjournalisten': 1, 'quartal': 1, '2022': 1, 'frankfurt': 1, 'kerngeschäft': 2, 'alleinstellungsmerkmal': 1, 'konzepten': 1, 'differenzieren': 1, 'hierdurch': 1, 'tickets': 5, 'verdienen': 19, 'everbrink': 1, 'abo': 1, 'modelle': 4, 'preisdifferenzierung': 1, 'vorteile': 1, 'bisherige': 1, 'ausgestaltung': 1, 'junior': 3, 'abonnement': 6, '99': 5, '€': 10, '/': 4, 'monat': 9, 'vorteil': 6, '•': 34, 'ausgesuchte': 3, 'interessant': 7, 'uninteressant': 3, 'einzustufen': 3, 'anzupassen': 5, 'audio': 6, 'anzuhören': 5, 'erhöhter': 3, 'geschwindigkeit': 4, 'rabatte': 7, 'zeitschriften': 3, 'senior': 2, '24': 3, 'kommentieren': 9, 'kommentare': 5, 'zahlungsbereitschaft': 2, 'qualität': 2, 'leser': 2, 'durchaus': 2, 'feature': 2, 'gegeben': 2, 'senio': 2, 'modell': 3, 'lesern': 3, 'aktiv': 22, 'preisen': 2, 'belohnen': 2, 'anreiz': 2, 'schaffen': 4, 'effekt': 2, 'auftritt': 3, 'sprich': 2, 'vergütet': 2, 'starke': 8, 'gold': 2, '12/unlimited': 1, 'enorme': 2, 'unabhängiger': 1, '(diese': 1, 'mittelfristig': 2, 'umgesetzt': 1, 'werden)': 1, 'ländern/sprachen': 1, 'übersetzt': 1, 'amerikanische/französische': 1, 'gelesen': 1, 'angehört': 1, 'kurzer': 2, 'zahlen': 14, 'junge': 2, 'relevanzverlust': 1, 'referenz': 1, 'vergleichbaren': 1, 'geschäftsmodell': 3, 'eins': 1, 'erfolgreichsten': 1, '3000': 1, 'kurzfassungen': 1, 'sachbüchern': 1, 'verfügung': 1, 'begrenzte': 1, 'anzahl': 2, 'version': 4, 'preismodell': 1, 'vergleichen': 2, 'gründung': 1, '2013': 1, 'downloads': 1, 'starkes': 3, 'weiteres': 3, 'wachstumspotential': 1, 'stark': 23, 'vergleichbares': 1, 'features': 1, 'überschneiden': 1, 'abschließend': 2, 'anhand': 3, 'skepsis': 1, 'gegenüber': 5, 'co': 2, 'umzusetzen': 1, 'player': 1, 'etablieren': 1, 'unserem': 3, 'interessante': 1, 'aspekte': 1, 'gesprochen': 1, 'darunter': 2, 'jüngere': 3, 'ältere': 5, 'studenten': 1, 'arbeitende': 1, 'diverse': 4, 'gründe': 2, 'aufgefallen': 2, 'behandeln': 4, '(junge)': 1, 'politik': 4, 'umwelt': 1, 'bekannt': 18, 'berichterstattung': 1, 'missfällt': 1, 'kauf': 1, 'abseits': 3, 'berichte': 2, 'bezahlen': 2, 'kern': 1, 'ausschließlich': 1, 'medium': 1, 'nähern': 1, 'beziehen': 3, 'mangelnde': 2, 'limitierende': 1, 'faktor': 1, 'personalisierten': 1, 'gesucht': 1, 'autofahrten': 1, 'dusche': 1, 'nötige': 1, 'zeitaufwand': 1, 'gewünschten': 1, 'enorm': 17, 'reduzieren': 1, 'zeitgeist': 2, '“problem”': 1, 'erwartung': 1, 'aufgewachsen': 1, 'kaufen': 1, 'gedruckten': 1, 'normalste': 1, 'gekauft': 1, 'aufgetaucht': 1, 'gewohnt': 2, 'gebündelt': 1, 'eingekauft': 1, 'aboutyou': 1, 'medienanbieter': 1, 'trend': 1, 'mitgehen': 1, 'normales': 1, 'relevante': 1, 'kernfähigkeiten': 1, 'abschnitt': 1, 'richtige': 1, 'umsetzen': 8, 'antwort': 1, 'hierauf': 1, 'leichte': 1, 'langfristig': 3, 'zielgruppe': 2, 'kennen': 2, 'need': 1, 'herab': 1, 'fügen': 1, 'puzzlestücke': 1, 'prosperierendes': 1, 'denken': 3, 'unternehmensgründung': 1, 'risiko': 6, 'fehlern': 1, 'minimieren': 1, 'experten': 2, '“puzzlestücke”': 1, 'zusammenzusetzen': 1, 'senken': 1, 'stücke': 1, 'fehlerhaft': 1, 'marktreif': 1, 'zusammenfügen': 1, 'schnittstellen': 1, 'konzentrieren': 1, 'raum': 2, 'gebieten': 1, 'spektrum': 1, 'abdecken': 1, 'fähigkeiten': 2, 'führung': 2, 'unseres': 1, 'alters': 1, 'seriös': 28, 'kernkompetenzen': 1, 'lernen': 1, 'vertrieb': 5, 'wettbewerb': 2, '“”': 4, 'mangelnder': 1, 'relevanzverlustes': 1, 'daran': 2, 'fortzubilden': 1, 'vertrauen': 1, 'dich': 13, 'informieren': 2, 'private': 1, 'umfeld': 1, 'worte': 1, 'verlass': 1, 'evaluieren': 1, 'reichweite': 2, 'sozialen': 2, 'monats': 1, 'wirkliche': 1, 'marketing': 31, 'kundenbasis': 1, 'umfrage': 5, 'x': 3, 'bereitschaft': 2, 'gezeigt': 1, 'endkunde': 2, 'grundlegende': 3, '”': 2, 'social': 1, 'media': 1, 'verfügt': 1, 'wirtschaftlich': 2, 'content': 1, 'netzwerken': 1, 'deutschsprachigen': 1, 'beträchtlicher': 1, 'anteil': 3, 'personengruppen': 1, 'andererseits': 3, 'aktuell': 21, 'deutsches': 4, 'erwarten': 2, 'erreichten': 1, 'vertretenen': 3, 'vertreten': 1, 'entsprechendes': 1, 'eigeninteresse': 1, 'aufmerksam': 17, 'verlieren': 4, 'unklar': 1, 'unterstützung': 2, 'kostenloses': 1, 'bedeuten': 3, 'vision': 1, 'aspekt': 2, 'vertriebes': 1, 'soltle': 1, 'unerwähnt': 1, 'journalismus': 3, 'gesicht': 3, 'verkaufsargumente': 1, 'populistisches': 1, 'gedankengut': 1, 'darstellt': 2, 'bedroht': 1, 'ungemeinen': 1, 'ausdrücken': 1, '‘zwingen’': 1, 'ereignisse': 2, 'abschaltung': 1, 'australien': 4, 'missvertrauen': 1, 'reputation': 1, 'gewinnen': 3, 'medienrichtlinien': 1, 'nutzungsgebühr': 1, 'schwieriger': 1, 'präsent': 1, 'marktmacht': 1, 'alphabet': 1, 'abzuschließen': 1, 'rabatten': 1, 'testmonaten': 1, 'erwähnten': 1, 'klassische': 1, 'marketingkampagne': 1, 'beruhen': 1, 'indirekt': 1, 'kritisiert': 1, 'beispielen': 1, 'erklären': 2, 'passend': 1, 'kritik': 1, 'scharf': 16, 'unnötige': 1, 'konkurrenz': 5, 'gegner': 1, 'erfolgreiches': 7, 'populismus': 1, 'fake': 1, 'demokratie': 1, 'kernelement': 1, 'kampagne': 1, 'skandale': 1, 'wirecard': 1, 'betrug': 1, 'ruf': 25, 'solide': 16, 'verliert': 1, 'sehnt': 1, 'innovativ': 16, 'international': 1, '“digitalisierung': 1, 'made': 1, 'germany”': 1, 'slogan': 1, 'hören': 1, 'meinung': 5, 'welchem': 1, 'kundenbindung': 2, 'möchten': 3, 'planen': 1, 'vergewissern': 1, 'netzwerkeffekt': 1, 'auszutauschen': 1, 'ständig': 2, 'mischung': 1, 'goldabonnement': 1, 'langfristige': 1, 'mitgliedschaft': 1, 'finanziellen': 1, 'mitgliedschaften': 1, 'partnerverlage': 1, 'wahrzunehmen': 1, 'finanzieller': 1, 'binden': 1, 'kündigen': 2, 'weiterer': 2, 'langfristigen': 1, 'pläne': 2, 'märkte': 2, 'expandieren': 1, 'situation': 4, 'veröffentlichen': 13, 'übersetzen': 1, 'anbieten': 2, 'modellen': 1, 'regelmäßig': 2, 'erstmal': 1, 'einschüchtern': 1, 'speziell': 17, 'anbietet': 1, 'erneut': 1, 'zeitpunkt': 1, 'ausrichtung': 1, 'facebook’s': 1, '“normale”': 1, 'startseite': 2, 'discovery': 1, 'ähnlich': 2, 'nachrichtensuchmaschine': 1, 'automatisch': 1, 'erstellte': 1, 'dienst': 1, 'sprachen': 1, 'verfügbar': 2, 'ios': 1, 'aktuelles': 1, 'publisher': 1, 'anzeigen': 1, 'snippets': 1, 'leistungsschutzrecht': 1, 'gaußstraße': 1, '68165': 1, '(+49)': 1, '157': 1, '84252895': 1, 'tomboedeker13@gmail': 1, 'com': 4, 'berufserfahrung': 1, 'kleefelder': 1, 'kaffeklatsch': 1, '\\u200b–': 7, '\\u200bmedienberater': 1, '2018': 6, 'februar': 3, '2019': 7, '●': 8, 'generieren': 1, 'erschließen': 1, 'kleeblatt': 2, '\\u200b–\\u200b': 1, '\\u200bmedienberatung': 1, 'direktvertrieb': 1, 'zusammenarbeit': 1, 'werbeverträge': 1, 'zeitschrift': 1, 'myworld': 1, 'gmbh': 3, '\\u200bjunior': 1, 'consultant': 1, 'september': 2, 'network': 1, 'marketing/': 1, 'multi': 1, 'level': 1, 'gewinnung': 1, 'partnerunternehmen': 1, 'leitung': 1, 'privat': 1, '\\u200bpraktikant': 1, 'development': 2, 'praktikant': 1, 'begleitete': 1, 'führenden': 1, 'vielfältigen': 1, 'berufsalltag': 1, 'eindrücke': 1, 'aufgaben': 2, 'übernehmen': 1, 'ciconia': 2, 'software': 3, 'werkstudent': 1, 'begleite': 1, 'digitalen': 1, 'marktplatz': 1, '(\\u200bwww': 1, 'marktfee': 1, 'app\\u200b)': 1, 'tätig': 1, 'analyse': 1, 'marktentwicklung': 1, 'branche': 13, 'meinen': 4, 'nachhaltige': 1, 'meinem': 1, 'primären': 1, 'interessenfeld': 1, 'enactus': 2, 'innovations': 1, 'meines': 1, 'studiums': 1, 'initiative': 1, 'vertical': 1, 'farming': 2, 'konzept': 9, 'circular': 1, 'energie': 1, 'stoffkreisläufe': 1, 'geschlossen': 1, 'monaten': 2, 'projekt': 2, '‚low': 1, 'tech‘': 1, 'sprengt': 1, 'gleichen': 1, 'bildungsweg': 1, 'schillerschule': 1, 'note': 1, '\\u200b2': 1, '2010': 1, 'unternehmensjurist': 1, 'semester': 1, 'sprachenkenntnisse': 1, 'muttersprache': 1, 'englisch': 1, 'fließend': 1, 'soziale': 1, 'meine': 2, 'stärke': 1, 'situationen': 1, 'unterschiedlichen': 1, 'partizipieren': 1, 'verbindende': 1, 'beteiligten': 1, 'anspricht': 1, 'motivation': 1, 'lebenslauf': 1, 'ansieht': 1, 'betriebswirtschaft': 1, 'bwl': 1, 'passen': 1, 'gemerkt': 1, 'marktentwicklungen': 1, 'gesellschaftliche': 1, 'konsumenten': 2, 'zusammenbringen': 1, 'ökologie': 1, 'essentielle': 1, 'herausforderung': 1, 'bewusst': 16, 'volkswirtschaftslehre': 1, 'schwerpunkt': 1, 'umweltökonomie': 1, 'absolvieren': 1, 'bundeskanzlerin': 1, 'bundeskanzleramt': 1, 'videokonferenz': 1, 'ministerpräsidentinnen': 1, 'foto': 3, 'dpa/steffen': 1, 'kugler': 1, 'erwartungen': 4, 'riesig': 17, 'virusvarianten': 3, 'stufenplan': 3, 'regionalen': 3, 'fragezeichen': 3, 'teilen': 24, 'tweeten': 3, 'weiterleiten': 3, 'drucken': 3, 'christoph': 1, 'trost': 1, 'blank': 1, 'gisela': 1, 'gross': 1, 'entziehen': 1, 'wochenlangen': 1, '„sehnlichst': 1, 'gewünscht“': 1, 'halte': 1, 'notwendig': 2, 'dienstag': 6, 'teilnehmerangaben': 1, 'sitzung': 1, 'unionsfraktion': 2, 'kündigt': 3, 'beratungen': 9, 'mittwoch': 13, 'herauskristallisiert': 1, 'vorsichtige': 1, 'öffnungsstrategie': 2, 'regionaler': 1, '„notbremse“': 4, '„mehr': 1, 'regionalisieren': 1, 'ermöglichen“': 1, 'schmaler': 1, 'grat': 1, 'drohender': 1, 'dritter': 1, 'welle': 4, 'zufolge': 3, 'könnten': 3, 'haushalt': 1, 'mitgezählt': 1, 'schrittweise': 2, 'zahlreicher': 1, 'einzelhandel': 2, 'abhängig': 1, 'punkt': 1, 'umfangreiche': 1, 'teststrategie': 1, 'herausforderungen': 1, 'begegnen': 3, 'sinken': 1, 'vergangenen': 4, 'hoffungen': 1, 'lockdowns': 3, 'geweckt': 1, 'angestiegen': 1, 'virus': 3, 'varianten': 1, 'spannungsfeld': 1, '„im': 1, 'detail': 3, 'schön': 16, 'kompliziert“': 1, '>>>': 2, 'neuesten': 2, '<<<': 2, 'mitarbeiterinnen': 1, 'kindergartens': 1, 'liveblog': 10, 'laschet': 11, 'kurswechsel': 8, '„nicht': 5, 'pauschal': 8, 'schließen“': 5, 'komplette': 4, 'dokument': 4, 'öffnungspläne': 2, 'abwärtstrend': 1, 'gestoppt': 1, 'robert': 5, 'koch': 5, '(rki)': 3, 'leichten': 1, 'anstieg': 1, 'fallzahlen': 7, 'virologe': 1, 'christian': 6, 'drosten': 6, 'kürzlich': 2, '„f': 1, 'podcast': 2, 'deutschland“': 1, 'wissenschaftler': 3, 'angestrebten': 1, 'realistisch': 16, 'wettlauf': 1, 'langsam': 1, 'ablaufenden': 1, 'impfungen': 2, 'raschen': 1, 'ausbreitung': 2, 'ansteckenderen': 1, 'großbritannien': 1, 'entdeckte': 1, 'mutante': 5, 'konservativen': 1, 'schätzungen': 1, 'ansteckender': 1, 'infektionen': 5, 'hälfte': 1, 'geäußert': 1, 'unausweichlich': 1, '„coronavirus': 1, 'update“': 1, 'ndr': 1, 'info': 3, 'fallzahlenkurve': 1, 'steil': 1, 'rufe': 2, 'längerem': 1, 'fachgesellschaft': 1, 'intensivmediziner': 3, 'divi': 1, 'fordert': 1, 'müsse': 3, 'impfen': 5, 'vorankommen': 1, 'ansteckendere': 1, 'durchstartet': 1, 'erkenntnissen': 1, 'prognosemodell': 1, 'schlimmsten': 1, '25': 2, 'intensivpatienten': 1, 'bewältigende': 1, 'berechnung': 1, 'wärmere': 1, 'jahreszeit': 2, 'ansteckungsfähigkeit': 1, 'dämpft': 1, 'fachmann': 1, 'machte': 1, 'hoffnungen': 1, 'saisoneffekte': 1, 'warnt': 1, 'szenario': 1, 'schweren': 1, 'verläufen': 1, '23': 1, 'umfassende': 1, '60': 3, 'jährigen': 1, 'ausreichend': 2, 'geimpft': 4, 'könne': 2, 'schaden': 3, 'krankenstände': 1, 'wünschen': 1, 'lockerung': 3, 'jüngsten': 1, 'instituts': 3, 'yougov': 1, 'auftrag': 1, 'dpa': 13, 'befragten': 2, 'beibehaltung': 1, '(26': 1, 'prozent)': 2, 'verschärfung': 1, '(9': 1, '43': 1, '17': 3, 'rückkehr': 1, 'normalität': 1, 'spüren': 1, 'zunehmenden': 1, 'erwartungsdruck': 1, 'parteien': 3, 'etwaigen': 1, 'koalitionspartnern': 1, 'regierungschef': 1, 'schärfsten': 1, 'anti': 1, 'kämpfer': 1, 'eng': 1, 'baumärkte': 1, 'warnen': 1, 'dürfe': 2, '„öffnungsrausch“': 1, 'nerven': 1, 'mahnt': 1, 'quasi': 1, 'konkretere': 1, 'kommenden': 2, 'braucht': 2, 'perspektiven“': 1, 'schrieb': 1, 'nrw': 23, 'cdu': 1, 'armin': 4, 'blog': 2, 'unternehmensverbänden': 1, 'herauskommen': 1, '(8': 1, 'märz)': 2, 'stufenweise': 1, 'blumengeschäfte': 1, 'zoologische': 1, 'kleinen': 2, 'anschließend': 1, 'vorangegangenen': 1, 'öffnungsschritt': 1, 'verschlechtert': 1, 'theater': 1, 'opernhäuser': 1, 'kompletten': 1, 'bislang': 2, 'avisierte': 2, '35er': 2, 'aufgeweicht': 1, 'inzidenzen': 1, 'festen': 1, 'terminen': 1, 'tagesaktuellen': 1, 'jetzigen': 1, 'offen': 16, 'zunächst': 3, 'gezogen': 1, 'fürs': 1, 'endgültig': 2, 'ohnehin': 1, 'testen': 3, 'breiter': 2, 'front': 1, 'aufgegeben': 1, 'bedingung': 1, 'getestet': 1, 'personal': 1, 'schulen': 1, 'kitas': 2, '„sowie': 1, 'schülerinnen': 1, 'schüler“': 1, 'fachleute': 1, 'gegenhalten': 1, 'simulationsergebnisse': 1, 'effekten': 1, 'mobilitätsforscher': 1, 'kai': 1, 'nagel': 1, '(tu': 1, 'berlin)': 1, '„ein': 1, 'ersparen': 1, 'restriktiver': 1, 'deutliche': 1, 'positive': 1, '(dpa)': 2, 'bestattungen': 6, 'koblenz': 12, 'junges': 6, 'krempelt': 6, 'umanzeige': 2, 'beerdigungskosten': 3, 'org': 3, 'mac': 2, 'bereinigen': 2, 'mussanzeige': 1, 'mackeeper': 1, 'mundfalten': 6, 'hausmittel': 8, 'hilftanzeige': 2, 'apotheken': 5, 'gesundheit': 5, 'augenringe': 2, 'frauen': 5, 'kennenanzeige': 1, 'quadratmeterpreise': 4, 'explodieren': 6, 'gratis': 12, 'hauswert': 4, 'rechner': 4, 'verkaufenanzeige': 2, 'hausverkaufshelfer': 2, 'lockern': 2, 'einblicke': 1, 'details': 1, 'voller': 1, 'rki': 10, 'meldet': 3, '9019': 3, 'rund': 1, '1000': 2, 'infos': 3, 'ratingen': 3, 'luftfilter': 3, 'grundschule': 3, 'ausbauen': 2, '[wz+]': 2, 'kostenpflichtiger': 4, 'inhalt': 4, 'schule': 1, 'eduard': 1, 'dietrich': 1, 'installierten': 1, 'abmontiert': 1, 'sponsored': 3, 'by': 4, 'giesswein': 1, 'wasserabweisend': 1, 'wärmend': 1, 'weltweit': 2, 'merino': 1, 'sportschuh': 3, '100%': 2, 'wärmendes': 2, 'innenfutter': 2, 'merinowolle': 2, 'erfahren': 28, 'wasserabweisendes': 2, 'obermaterial': 2, 'wetterlage': 2, 'micro': 2, 'grip': 2, 'sohle': 2, 'waschbar': 2, 'waschmaschine': 2, 'temperaturregulierend': 2, 'wärmt': 2, 'winter': 3, 'kühlt': 2, 'tragbar': 2, 'socken': 2, 'dank': 2, 'feuchtigkeitsregulierung': 2, 'neutralisiert': 2, 'gerüche': 2, 'wool': 2, 'cross': 2, 'meistgelesen': 3, 'neueste': 3, 'risiken': 2, 'ringen': 1, 'stiko': 2, 'prüft': 1, 'astrazeneca': 6, 'ehemaliger': 1, 'us': 1, 'amtszeit': 1, 'bericht': 1, 'ressort': 3, '64': 5, 'düsseldorf': 6, 'knackt': 2, 'marke': 2, 'bestätigte': 3, 'wuppertal': 8, 'auflösen': 2, 'abschaffen': 1, 'gespräch': 1, 'bundestag': 1, 'gefragt': 1, 'beachten': 1, 'bitte': 2, 'leserkommentare': 1, 'kommentar': 3, 'erstellen': 1, 'melden': 1, 'web': 1, 'cannabis': 2, 'aktien': 2, 'felix': 1, 'branche…': 1, 'hoch': 2, 'gehalt': 2, 'krankenschwester': 2, 'stellenangebote': 1, '|…': 1, 'einer…': 1, '[fotos]': 4, 'stefan': 2, 'raab': 2, 'frau': 2, 'siehst': 2, 'editor': 1, '[bilder]': 6, 'gewichtsverlust': 2, 'celine': 2, 'dion': 2, 'carnovels': 1, 'www': 9, 'com/wznewsline': 1, '@wznewsline': 1, '@wz_de': 1, 'agb': 1, 'impressum': 1, 'datenschutz': 2, 'wz': 10, 'newsletter': 3, 'bestellen': 3, 'services': 1, 'e': 4, 'paper': 1, 'leserreisen': 1, 'veranstaltungen': 1, 'trauerportal': 1, 'partnerbörse': 1, 'ausbildungsportal': 1, 'immobilienmarkt': 1, 'jobbörse': 1, 'kleinanzeigenmarkt': 1, 'reisemagazin': 1, 'anzeige': 4, 'aufgeben': 1, 'präferenz': 1, 'center': 1, 'medienhaus': 1, 'karriere': 1, 'lesermarkt': 1, 'werbemarkt': 1, 'geschäftsstellen': 1, 'mediadaten': 1, '©': 2, 'westdeutsche': 1, 'kg': 1, 'dpa/federico': 1, 'gambarini': 1, 'gehe': 1, 'leichtfertig': 1, 'schließen': 3, 'gesamtzahl': 3, 'bestätigten': 1, 'fälle': 5, '451': 1, '011': 1, 'bundesweit': 2, '463': 1, 'todesfälle': 4, '02': 7, '03': 5, 'gemeldeten': 4, 'infektionsfälle': 1, 'johns': 1, 'hopkins': 1, '114': 1, '499': 1, '553': 1, '540': 1, '340': 1, 'gestorben': 2, '37': 1, 'gesundheitsministerium': 1, '533': 1, '859': 1, '141': 1, 'hinweis': 1, 'veröffentlichten': 2, 'gesundheitsministeriums': 1, 'städtischen': 1, 'gesundheitsämter': 2, 'abweichen': 1, 'verzögert': 1, 'übertragen': 1, 'verzögerung': 1, 'minuten': 8, 'jessica': 6, 'küppers': 6, 'andeutet': 2, '„regeln': 2, 'einhalten': 2, 'steckt': 2, 'dahinter': 2, 'sebastian': 6, 'paschold': 6, 'öffentlich': 1, 'geworden': 1, 'umkehrschluss': 1, '08': 4, 'mit…': 1, 'zweite': 4, 'studie': 1, 'massiv': 16, 'erwerbspersonen': 1, 'belastender': 1, 'frühjahr': 1, '2020': 6, 'berichtete': 2, 'gewerkschaftsnahe': 1, 'hans': 1, 'böckler': 1, 'stiftung': 1, 'gestützt': 1, 'repräsentative': 1, 'befragung': 2, '6200': 1, 'erwerbstätigen': 1, 'arbeitssuchenden': 1, '„auch': 1, 'drastischer': 1, 'stresstest': 1, '46': 1, 'eltern': 1, 'familiäre': 1, 'äußerst': 1, 'belastend': 1, 'erlebt': 1, 'sechs': 2, 'prozentpunkte': 1, 'lockdown“': 1, 'studienautor': 1, 'andreas': 2, 'hövermann': 1, 'österreichische': 1, 'wintersportort': 1, 'ischgl': 1, 'lifte': 1, 'wintersaison': 1, '„diesen': 1, 'haken': 1, 'ab“': 1, 'tourismuschef': 1, 'steibl': 1, '31': 2, 'auto': 3, 'fahrrad': 3, 'umgestiegen': 2, 'bundesweiten': 2, '42': 1, 'bundesgesundheitsminister': 3, '65': 3, 'ständige': 3, 'impfkommisson': 2, 'bildet': 3, 'prüf…': 1, '48': 1, 'grundschüler': 3, 'angst': 2, 'ansteckung': 2, 'klagen': 3, 'oberverwaltungsgericht': 2, 'münster': 3, 'präsenzunterricht': 3, '57': 1, 'bundesverfassungsgericht': 1, 'karlsruhe': 1, '880': 1, 'verfahren': 2, 'registriert': 1, '240': 1, 'eilanträge': 1, 'gericht': 1, 'jahresbericht': 1, 'mitteilte': 1, 'gingen': 1, '5500': 1, 'afp': 1, '58': 1, 'ausbruch': 1, 'ssv': 1, 'jahn': 1, 'regensburg': 1, 'mannschaftsbesprechung': 1, 'reine': 1, 'mutmaßung': 1, 'anlass': 1, 'besprechungen': 1, 'vorgegebenen': 1, 'regeln“': 1, 'geschäftsführer': 3, 'keller': 1, '„mittelbayerischen': 1, 'zeitung“': 1, '(mittwochsausgabe)': 1, 'interview': 1, 'verein': 1, '55': 1, 'erstgeimpft': 1, 'tempo“': 1, 'ard': 1, '„morgenmagazin“': 1, 'solle': 1, 'impfzentren': 1, '„prinzipiengeleiteten': 1, 'pragmatismus“': 1, 'flexibler': 1, 'zentren': 1, 'festgelegten': 1, 'einordnung': 1, 'impfgruppen': 1, 'verwies': 1, 'zweitimpfung': 1, 'biontech/pfizer': 1, 'zwölf': 1, 'schneller': 2, 'impfung': 1, 'studien': 1, 'wirke': 1, 'stoff': 1, 'impfkommission': 1, '(stiko)': 1, 'gebeten': 1, 'empfehlungen': 1, 'versuche': 3, 'gescheitert': 3, 'einheitlichen': 2, 'verteidigungsstrategie': 2, 'karagiannidis': 2, 'vorsicht': 1, 'bestimmungen': 1, 'gewarnt': 1, 'treibe': 1, 'sorge': 1, '„dass': 1, 'ohren': 1, 'fliegt“': 1, 'internistische': 1, 'intensivmedizin': 1, 'notfallmedizin': 1, '(dgiin)': 1, 'wdr': 1, 'sowas': 1, 'läden': 1, 'eröffnen': 1, 'extreme': 1, 'disziplin': 1, 'masken': 4, 'getragen': 1, 'geschäften': 1, 'richtig': 1, 'kontrolliert': 16, '„was': 1, 'effektivität': 1, 'weihnachten': 1, 'halb': 1, 'frühjahr“': 1, 'drohe': 1, 'derzeit': 1, 'exponentielles': 1, 'hineinzukommen': 1, 'überlastung': 1, 'intensivstationen': 1, 'vermeiden': 1, 'nordrhein': 1, 'westfalen': 1, 'gesunken': 1, 'gelegen': 2, 'davor': 1, 'webseite': 1, 'märkische': 1, 'kreis': 1, '124': 1, 'zielwert': 1, 'größte': 1, 'köln': 1, 'verzeichnet': 3, 'landeshauptstadt': 1, '51': 1, '06': 1, 'binnen': 4, 'tages': 2, 'gemeldet': 1, '418': 1, '8007': 1, '422': 1, 'dashboards': 1, 'nachträgliche': 1, 'änderungen': 1, 'ergänzungen': 1, '(sieben': 1, 'inzidenz)': 1, 'lag': 2, 'niedriger': 1, 'vortag': 1, '(65': 1, '82': 1, 'bisheriger': 1, 'höchststand': 2, '197': 1, '1244': 1, 'todesfällen': 1, 'registrierten': 1, '777': 1, 'enthielt': 1, '3500': 1, 'nachmeldungen': 1, '460': 1, '030': 1, 'sars': 2, 'cov': 2, 'tatsächliche': 1, 'dürfte': 1, 'genesenen': 1, '274': 1, '400': 1, 'beteiligung': 1, 'nachgewiesenen': 1, 'stieg': 1, '881': 1, 'lagebericht': 1, '94': 2, '(vortag': 1, '01)': 1, 'bedeutet': 1, 'infizierte': 1, 'rechnerisch': 1, 'anstecken': 1, 'jeweils': 1, '16': 1, 'flaut': 1, 'anhaltend': 1, 'laden': 1, 'tickaroo': 1, 'unverkaufte': 2, 'autos': 3, 'bruchteil': 2, 'werts': 2, 'koblenzanzeige': 1, 'suv': 1, 'gesponserte': 1, 'susanne': 2, 'uhlen': 2, 'lebt': 2, '66': 2, 'bescheidenes': 2, 'partneranzeige': 1, 'pirate': 1, 'lena': 2, 'meyer': 2, 'landrut': 2, 'mann': 4, 'glücklich': 17, 'verheiratetanzeige': 1, 'http': 1, '//medicalmatters': 1, 'com/': 1, 'verheiratet': 1, 'ordnungskräfte': 3, 'decken': 2, 'glückspiel': 2, 'krefeld': 7, 'beschimpft': 3, 'kontrollen': 2, 'ehemaligen': 1, 'gaststätte': 1, 'glücksspieler': 1, 'entdeckt': 1, 'schnell…': 1, 'drohen': 2, 'hundehalterin': 2, 'trasse': 2, 'vohwinkel': 2, 'bedrohung': 1, 'schreckschusspistole': 1, 'wuppertalerin': 1, 'spaziergang': 1, 'männliche': 1, 'traf': 1, 'anpöbelten': 1, 'drohten': 1, 'hunde': 1, 'erschießen': 1, 'schutzverordnung': 6, 'entschärft': 4, 'veröffentlicht': 3, 'anpassung': 2, 'mycs': 36, 'make': 14, 'it': 14, 'yours': 14, 'kreativ': 35, 'kreiere': 20, 'wunsch': 20, 'möbelstück': 20, 'symbolbild': 1, 'erfolgsaussichten': 1, 'onlinedating': 2, 'heutzutage': 1, 'paare': 1, 'befragt': 1, 'kennengelernt': 1, 'taucht': 1, 'häufiger': 3, 'kennenlernort': 1, 'verbreitung': 1, 'internets': 1, 'partnersuche': 1, 'verbreitet': 16, 'ehemalige': 2, 'vapiano': 2, 'gastronomie': 2, 'behnisch': 2, 'asiatische': 2, 'pizza': 2, 'pasta': 2, 'rettungspläne': 2, 'volksfest': 2, 'rheinkirmes': 2, 'kommunalwahl': 2, 'wahlpanne': 2, 'spd': 2, 'grüne': 2, 'mehrheit': 2, 'stadtrat': 2, 'verwaltung': 1, 'umzug': 1, 'bahndirektion': 1, 'wahlleiter': 1, 'cyprian': 1, 'erklärte': 1, 'dagmar': 1, 'schobert': 1, 'hält': 1, 'innenstadt': 2, 'glückliche': 1, 'friseure': 1, 'krefelder': 2, 'leicht': 18, 'coronafälle': 1, 'monheim': 1, 'tai': 1, 'wan': 1, 'investiert': 1, 'todesfall': 1, 'sankt': 1, 'anton': 1, 'straße/hubertusstraße': 1, 'flüssigerdgas': 2, '(lng)': 2, 'fährschiff': 1, '„greenferry': 3, 'i“': 3, 'verkehrt': 1, 'cuxhaven': 8, 'brunsbüttel': 9, 'sina': 1, 'schuldt/dpa': 1, 'cuxhaven/brunsbüttel': 1, '32': 2, 'kilometer': 2, 'luftlinie': 1, 'ort': 1, 'ausflügler': 1, 'pendler': 1, 'elbe': 3, 'überqueren': 1, 'umweg': 1, 'pause': 1, 'fährverbindung': 1, 'niedersachsen': 1, 'schleswig': 1, 'holstein': 1, '(1': 1, 'elbfähre': 2, 'regulär': 1, '05': 1, '00': 1, 'strecke': 1, 'schiff': 4, 'stunde': 1, 'fahren': 1, 'elbferry': 3, 'heinrich': 1, 'ahlers': 3, 'takt': 1, 'rotieren': 1, '„zwischen': 1, 'trennendes': 1, 'elbverbindung': 1, 'vorerst': 1, 'fährbetrieb': 1, '2017': 1, 'eingestellt': 1, '1999': 1, '2001': 1, 'pendelte': 1, 'fähre': 4, 'rechnet': 2, 'größeres': 1, 'lkw': 2, 'mitgenommen': 2, '130': 1, 'meter': 1, '150': 1, 'lastwagen': 1, 'bisherigen': 1, 'schwertransporter': 1, 'verträge': 3, 'spediteuren': 1, 'busunternehmen': 1, 'vereinbart': 1, 'hauptgeschäft': 1, 'saison': 2, 'touristen': 1, 'reisende': 1, 'dänemark': 1, 'attraktiv': 16, 'gesellschafter': 1, 'reederei': 1, 'strahlmann': 1, 'mtb': 1, 'new': 1, 'energy': 1, 'infocom': 1, '210303': 1, '667106/2': 1, 'bauchfett': 2, 'buch': 32, 'überrollt': 2, 'diät': 2, 'brancheanzeige': 1, 'gesund': 1, 'abnehmen': 1, 'modischen': 2, 'ffp2': 2, 'erobern': 2, 'deutschlandanzeige': 1, 'mask24': 1, 'zieh': 2, 'alt': 2, 'modeartikel': 2, 'älter': 2, 'aussehenanzeige': 1, 'habittribe': 1, 'aussehen': 1, 'gewusst': 2, '“die': 2, 'hauptursache': 2, 'falten': 2, '”anzeige': 1, 'perfekterkoerper': 1, 'fahndung': 2, 'diebstahl': 2, 'mutmasslicher': 1, 'ladendieb': 1, 'polizei': 1, 'fahndet': 1, 'mutmaßlichen': 1, 'dieb': 1, 'fotos': 1, 'überwachungskamera': 1, 'impfgruppe': 2, 'impfkategorie': 1, 'telefone': 1, 'still': 1, 'informiert': 1, 'auf…': 1, 'blasenentzündung': 22, 'endlosschleife': 1, 'femannose': 19, 'n': 18, 'wirksam': 19, 'vorbeugen': 3, 'unterstützend': 19, 'powered': 1, 'lights': 1, 'festival': 1, 'erleuchtet': 1, 'sehenswürdigkeiten': 1, '«volle': 1, 'fahrt': 2, '»': 1, '„volle': 1, 'träumen': 1, 'vorlesebuch': 1, 'hamburger': 1, '„elbautoren“': 1, 'mallorcas': 1, 'gastwirte': 1, 'empfangen': 1, 'gäste': 1, 'sterben': 1, 'tierschützer': 1, 'afrikas': 1, 'elefanten': 1, 'bad': 1, 'homburg': 1, 'abwechslungsreiche': 1, 'altstadt': 1, 'unangenehme': 1, 'oftmals': 1, 'schmerzhafte': 1, 'leider': 2, 'häufige': 1, 'erkrankung': 4, 'erleben': 1, 'zystitis': 1, 'lebensfreude': 1, 'trüben': 1, 'faktoren': 2, 'geschlecht': 1, 'altersgruppe': 1, 'risikofaktoren': 2, 'erkennen': 1, 'harnwegsinfekten': 1, 'ausgelöst': 2, 'vorwiegend': 1, 'darmbakterien': 1, 'toilettengang': 1, 'geschlechtsverkehr': 3, 'darm': 1, 'harnröhrenöffnung': 1, 'harnblase': 2, 'aufsteigen': 1, 'umstände': 1, 'erhöhtes': 1, 'kürzeren': 1, 'harnröhre': 2, 'männer': 2, 'erreger': 4, 'blase': 4, 'infizieren': 1, 'gesamten': 1, 'harntrakt': 1, 'hormoneller': 1, 'veränderungen': 1, 'schwangere': 1, 'wechseljahren': 3, 'zählen': 1, 'risikogruppen': 1, 'diabetiker': 1, 'katheterisierte': 1, 'betroffen': 2, 'unausgereiften': 1, 'immunsystems': 1, 'hängt': 2, 'körpereigenen': 1, 'abwehrkräften': 1, 'vorbeugung': 5, 'blasenentzündungen': 7, 'anzeichen': 1, 'ansteckend': 1, 'einzigartiger': 1, 'wirkmechanismus': 1, 'mannose': 15, 'wirkstoff': 6, 'dosierung': 1, 'verträglichkeit': 2, 'nähe': 1, 'kompetente': 1, 'beratung': 1, 'jederzeit': 1, 'hinausgehen': 1, 'immunsystem': 3, 'unterkühlung': 1, 'schwächen': 1, 'geschwächtes': 1, 'ermöglicht': 1, 'erregern': 1, 'einzudringen': 1, 'vermehren': 1, 'bakterielle': 1, 'entzündung': 2, 'irrglaube': 1, 'temperatur': 1, 'ankommt': 1, 'kälte': 1, 'nässe': 1, 'greifen': 1, 'stress': 1, 'schlafmangel': 1, 'harnwege': 4, 'flüssigkeitszufuhr': 1, 'übertriebene': 1, 'intimhygiene': 1, 'woran': 1, 'erkenne': 1, 'schmerzen': 2, 'unterbauch': 2, 'typische': 1, 'symptome': 1, 'brennende': 1, 'wasserlassen': 2, 'ständiger': 1, 'harndrang': 1, 'geringer': 1, 'urinmengen': 1, 'deuten': 1, 'ungewollter': 1, 'urinverlust': 1, 'blut': 1, 'urin': 2, 'unangenehmer': 1, 'geruch': 1, 'urins': 1, 'moderne': 1, 'unterstützenden': 3, 'behandlung': 3, 'einzigartiges': 1, 'wirkprinzip': 2, 'funktioniert': 1, 'einzigartigen': 1, 'natürlicher': 2, 'mengen': 1, 'produziert': 2, 'fremd': 1, 'höherer': 1, 'dosis': 1, 'eingenommen': 3, 'durchläuft': 1, 'verstoffwechselt': 2, 'gelangt': 1, 'unverändert': 1, 'bindet': 1, 'härchen': 2, 'entzündungsverursachender': 2, 'coli': 4, 'ummantelt': 3, 'neutralisieren': 1, 'blasenschleimhaut': 2, 'ansiedeln': 1, 'schritt': 2, 'ausgespült': 3, 'blasenwand': 2, 'angedockt': 1, 'bewegen': 1, 'sogenannte': 1, '„stick': 1, 'and': 3, 'roll': 1, 'bewegung“': 1, 'raupenfahrzeug': 1, '„weiterzuwandern“': 1, 'frei': 17, 'blockiert': 2, 'auslösen': 1, 'häufigste': 1, 'übeltäter': 1, '90': 1, 'darmbakterium': 1, 'escherichia': 1, 'abgekürzt': 1, 'fimbrien': 1, 'wiederkehrende': 2, 'anfällig': 1, 'sinkt': 1, 'östrogenspiegel': 1, 'dünner': 1, 'anfälliger': 1, 'infekte': 1, 'vollständig': 2, 'auskuriert': 1, 'infekt': 1, 'festgesetzt': 1, 'freigesetzt': 1, 'hervorrufen': 1, 'spirale': 1, 'wiederkehrender': 1, 'festgesetzten': 2, 'auszuspülen': 1, 'greift': 1, 'gezielt': 1, 'bakterienhärchen': 1, 'späteren': 1, 'freisetzung': 1, 'einnahme': 1, 'längeren': 1, '(bis': 1, 'tage)': 1, 'nützliche': 2, 'tipps': 8, 'vorbeugende': 1, 'wiederkehrend': 1, 'sonderprivatrechte': 1, 'sonderechte': 1, 'grup': 1, 'pen': 1, 'rechtsverkehrs': 1, 'handelsrecht': 1, '(hgb)': 1, 'kaufleute': 1, '§§': 2, '1ff': 1, 'hbg': 2, 'arbeitsrecht': 1, 'ar': 1, 'beitgeber': 1, 'arbeitnehmer': 1, 'wichtigste': 1, 'privatautonomie': 3, 'vertragsfreiheit': 1, 'beschreibt': 4, 'privatpersonen': 1, 'be': 2, 'stimmten': 1, 'rechtsverhältnisse': 1, 'ent': 1, 'scheidung': 1, 'gestalten': 1, 'schriften': 1, 'schutze': 1, 'sozial': 16, 'schwächeren': 1, 'willenser': 2, 'klärung': 2, '§§116': 1, 'ff': 2, 'bgb': 12, 'verbindliche': 2, 'rechtlichen': 1, 'willens': 3, 'handlungswil': 1, 'le': 1, 'geschäftswille': 1, 'rechtsbin': 1, 'dungswille': 1, 'willenserklärung': 5, 'willen': 1, 'inneren': 1, 'subjektiven': 1, 'tatbestand': 3, 'äußeren': 1, 'objektiven': 1, 'ausmacht': 1, 'rechtsgeschäft': 1, 'wil': 1, 'lenserklärungen': 1, 'rechtsfolge': 4, 'unterschieden': 4, 'einseitigen': 2, 'mehrsei': 1, 'tigen': 1, 'rechtsgeschäften': 1, 'rechtsgeschäfte': 1, 'ge': 5, 'bezweckt': 1, 'spiel': 1, 'kündigung': 1, 'mehrseitiges': 1, 'rechtgeschäft': 1, 'erklärungen': 2, 'abgezielte': 1, '1691950': 4, '27': 4, 'übereinstimmende': 1, '(angebot': 1, 'annahme': 1, '§145': 1, 'bgb)': 1, 'vertrages': 1, 'rechtsfolgen': 2, 'gegenständen': 2, 'genständen': 1, 'unbeweglichen': 1, 'immo': 1, 'bilien': 1, 'beweglichen': 3, 'hose': 1, 'rechtskauf': 1, '453': 1, 'forderungen': 1, 'zahlung': 1, 'kaufpreises': 1, 'übergabe': 2, 'übereignung': 2, 'kaufgegenstandes': 1, '§929': 1, 'dingliche': 1, 'eigentümer': 1, 'darauffolgende': 1, 'berechti': 1, 'gung': 1, 'veräußerers': 1, '§932': 1, 'vergehen': 1, 'verbrechen': 1, 'verstoß': 1, 'strafgesetzbuch': 1, 'anklage': 1, 'staatsanwaltschaft': 2, 'ggf': 1, 'unerlaubte': 2, '823': 1, 'verletzung': 2, 'angeklagt': 1, 'klage': 1, 'erfolgt': 1, 'geschädigten': 2, 'zivilrechtlicher': 1, 'prozess': 1, 'rechtsfol': 1, 'schadensersatz': 2, 'mäßigen': 1, 'schutzgesetztes': 1, 'rechtswidrig': 1, 'keit': 1, 'schuldhafte': 1, 'schädiger': 1, '§823': 1, 'verpflichtungen': 1, 'schadenersatz': 1, 'absoluten': 1, 'relativen': 1, 'rechten': 2, 'agressiven': 1, 'notstand': 1, 'angriff': 1, 'gegenwärtige': 1, 'rechtsgut': 2, 'vertei': 1, 'digung': 1, 'einwirkung': 2, 'gefahrenquelle': 1, 'drohende': 1, 'entstehenden': 1, 'unverhältnismäßig': 1, 'rechtsfähigkeit': 1, 'träger': 1, 'pflichten': 2, 'beginnt': 1, 'vollendung': 2, 'geburt': 1, 'en': 1, 'det': 1, 'rechtssubjekts': 1, 'geschäftsfähigkeit': 2, 'verleiht': 1, 'rechtssubjekt': 2, 'fä': 1, 'higkeit': 1, 'rechtgeschäfte': 1, 'vorzunehmen': 1, 'erwerben': 1, 'knüpft': 1, 'geschäftsfähig': 1, 'lebensjahr': 4, 'vollgeschäftsfähig': 1, 'schuldfähigkeit': 1, 'strafrechtlicher': 1, 'schuldfähig': 1, 'selbstverschuldetes': 1, 'verhal': 1, 'ten': 1, 'schadensersatzpflichtig': 1, 'handelsgeschäften': 1, 'schließt': 2, 'kaufmann': 1, 'entspre': 1, 'chende': 1, '§§343': 1, '475': 1, 'geregelt': 2, 'handelskauf': 1, 'spezielle': 1, 'handelsgeschäftes': 1, '373': 1, '382': 1, 'hgb': 1, 'dauerschuldver': 1, 'hältnis': 1, 'überlassung': 1, 'eigentums': 1, 'anderes': 1, 'leihvertrag': 1, 'entgelt': 2, 'mietvertrag': 1, '§535': 1, 'mietzins': 1, 'entrichten': 2, 'pacht': 2, '§581abs': 2, 'verpächter': 1, 'verpachteten': 1, 'gegenstand': 1, '„ge': 1, 'nuss': 1, 'früchte“': 1, 'pächter': 1, 'vereinbarte': 1, 'lieferung': 1, 'sa': 1, 'che': 1, 'vebraucher': 1, 'bestellt': 1, '§241a': 1, 'umständen': 1, 'ei': 1, 'gentümer': 1, 'einkaufspreis': 1, 'anwesenden': 1, 'abwe': 1, 'senden': 1, 'falls': 3, 'anwesend': 1, 'empfangsbedürftige': 1, 'zugegangen': 2, '§130': 1, 'abwesende': 1, 'machtbereich': 1, 'empfängers': 1, 'rechnen': 1, 'normalen': 1, 'kenntnis': 1, 'nimmt': 1, 'einzelfall': 1, 'vetrages': 1, '§147': 1, 'frist': 1, 'annahmefrist': 1, 'un': 1, 'verzüglich': 1, 'vertreter': 1, 'vertretungmsacht': 1, 'ver': 1, 'trag': 1, 'vertragspartner': 1, '§177': 1, 'genehmigung': 3, 'schlossenen': 1, '„schwebend“': 1, 'unwirksam': 2, 'vertretene': 1, 'ablehnt': 1, '(zwei': 1, 'tag)': 1, 'durchzuspülen': 1, 'entzündungshemmende': 1, 'essen': 1, '(etwa': 1, 'spinat': 1, 'brokkoli': 1, 'beeren': 1, 'nüsse)': 1, 'lenden': 1, 'beine': 1, 'warm': 16, 'entleeren': 2, '(tipp': 1, 'aufrechtem': 1, 'sitzen)': 1, 'after': 1, 'vorne': 1, 'hinten': 1, 'reinigen': 1, 'zeitnah': 1, 'urinieren': 1, 'verträglich': 17, 'nebenwirkungen': 2, 'angenehmen': 1, 'süßlichen': 1, 'geschmack': 1, 'ausgenommen': 1, 'unverträglichkeiten': 1, 'antibiotika': 1, 'zusätzliche': 1, 'resistenzen': 1, 'wechselwirkungen': 1, 'nahrungsergänzungsmitteln': 1, 'medikamenten': 1, 'bedenkenlos': 16, 'arzt': 1, 'schwangeren': 1, 'stillenden': 1, 'müttern': 1, 'rezeptfrei': 1, 'erhältlich': 1, 'apotheke': 1, 'überzeugt': 1, 'wirkweise': 1, 'simple': 1, 'ausgezeichnete': 1, 'praktischen': 1, 'portionsbeuteln': 1, 'verpackt': 1, 'trinkgranulat': 1, 'entdecken': 2, 'dauerbrenner': 1, 'überzeugend': 16, '96': 1, '%': 1, 'verwenderinnen': 1, 'zufrieden': 1, 'erfüllt': 1, 'übertroffen*': 1, 'beugen': 1, '*yougov': 1, 'report': 7, 'for': 1, 'mcm': 1, 'klosterfrau': 1, 'vertriebsgesellschaft': 1, 'mbh': 1, 'anwender/innen': 1, 'https': 3, '//www': 3, 'linkedin': 3, 'com/in/martin': 1, 'kreimes/': 1, 'ehmaliger': 1, 'com/in/felix': 1, 'wasmuth': 1, '6626b91b2/': 1, 'ulli': 1, 'podubrin': 1, 'gefunden': 1, 'biocompany': 1, 'georg': 1, 'kaiser': 1, 'bio': 2, 'company': 2, 'is': 2, 'successful': 1, 'growing': 1, 'organic': 1, 'food': 1, 'retailer': 1, 'with': 2, 'over': 2, 'stores': 1, 'brandenburg': 1, '300': 1, 'weekly': 1, 'customers': 1, 'the': 1, 'market': 1, 'leader': 1, 'shop': 1, 'abenteuerlustig': 15, 'achtsam': 15, 'achtungswert': 15, 'adrett': 15, 'agil': 15, 'akkurat': 15, 'akribisch': 15, 'allerbest': 15, 'allerliebst': 15, 'ambitioniert': 15, 'amüsant': 15, 'andächtig': 15, 'andersartig': 15, 'anerkannt': 15, 'angenehm': 15, 'animierend': 15, 'anmutig': 15, 'ansprechend': 15, 'anspruchsvoll': 15, 'anständig': 15, 'anziehend': 15, 'apart': 15, 'aphrodisierend': 15, 'arbeitsam': 15, 'arbeitswütig': 15, 'arkadisch': 15, 'atemberaubend': 15, 'athletisch': 15, 'aufbauend': 15, 'auffällig': 15, 'aufmunternd': 15, 'aufrecht': 15, 'aufreizend': 15, 'aufrichtig': 15, 'aufsehenerregend': 15, 'ausdrucksstark': 15, 'auserlesen': 15, 'auserwählt': 15, 'ausgefallen': 15, 'ausgeflippt': 15, 'ausgeglichen': 15, 'ausgelassen': 15, 'ausgereift': 15, 'ausgesucht': 15, 'ausgewählt': 15, 'ausgezeichnet': 15, 'ausschlaggebend': 15, 'außergewöhnlich': 15, 'auszeichnungswürdig': 15, 'autark': 15, 'authentisch': 15, 'autonom': 15, 'avantgardistisch': 15, 'bahnbrechend': 15, 'barmherzig': 15, 'beachtenswert': 15, 'beachtlich': 15, 'beachtsam': 15, 'bedacht': 15, 'bedeutsam': 15, 'beeindruckend': 15, 'beeinflussend': 15, 'beflügelnd': 15, 'befreiend': 15, 'begabt': 15, 'begehrenswert': 15, 'begehrt': 15, 'begeisternd': 15, 'begeistert': 15, 'begeisterungsfähig': 15, 'begierig': 15, 'beglückend': 15, 'begnügsam': 15, 'behänd': 15, 'beharrlich': 15, 'beherrscht': 15, 'beherzt': 15, 'behutsam': 15, 'beispielgebend': 15, 'beispielhaft': 15, 'beispiellos': 15, 'bekräftigend': 15, 'belastbar': 15, 'belebend': 15, 'belebt': 15, 'beliebt': 15, 'bemerkenswert': 15, 'bemüht': 15, 'bequem': 15, 'berauschend': 15, 'berechenbar': 15, 'berückend': 15, 'beruhigt': 15, 'berühmt': 15, 'bescheiden': 15, 'beschwingt': 15, 'beseelt': 15, 'besonnen': 15, 'beständig': 15, 'bestechend': 15, 'bestmöglich': 15, 'betriebsam': 15, 'bevorzugt': 15, 'bewährt': 15, 'beweglich': 15, 'bewundernswert': 15, 'bewunderungswürdig': 15, 'bezaubernd': 15, 'bildhübsch': 15, 'bildlich': 15, 'bildschön': 15, 'bodenständig': 15, 'bombig': 15, 'brandaktuell': 15, 'brandneu': 15, 'brillant': 15, 'brüderlich': 15, 'bunt': 15, 'charakterstark': 15, 'charismatisch': 15, 'charmant': 15, 'cool': 15, 'couragiert': 15, 'delikat': 15, 'deliziös': 15, 'detailliert': 15, 'dezent': 15, 'dezidiert': 15, 'diplomatisch': 15, 'diszipliniert': 15, 'divenhaft': 15, 'dogmatisch': 15, 'dominant': 15, 'duftend': 15, 'durchblickend': 15, 'durchdacht': 15, 'durchschlagend': 15, 'durchsetzungsstark': 15, 'durchtrieben': 15, 'dynamisch': 15, 'edel': 15, 'edelmütig': 15, 'effektiv': 15, 'effektvoll': 15, 'effizient': 15, 'ehrenhaft': 15, 'ehrfürchtig': 15, 'ehrgeizig': 15, 'ehrlich': 15, 'ehrwürdig': 15, 'eifrig': 15, 'eigen': 15, 'eigenartig': 15, 'eigenbestimmt': 15, 'eigensinnig': 15, 'eigenständig': 15, 'eigenwillig': 15, 'eindrucksvoll': 15, 'einfallsreich': 15, 'einfühlsam': 15, 'einladend': 15, 'einmalig': 15, 'einnehmend': 15, 'einsatzbereit': 15, 'einsichtig': 15, 'einträglich': 15, 'einzigartig': 15, 'eitel': 15, 'eklatant': 15, 'ekstatisch': 15, 'elanvoll': 15, 'elegant': 15, 'elementar': 15, 'elitär': 15, 'eloquent': 15, 'elysisch': 15, 'emotional': 15, 'empathisch': 15, 'empfehlenswert': 15, 'empfindlich': 15, 'empfindsam': 15, 'empfindungsvoll': 15, 'emsig': 15, 'energiegeladen': 15, 'energievoll': 15, 'energisch': 15, 'engagiert': 15, 'engelsgleich': 15, 'enigmatisch': 15, 'entdeckungsfreudig': 15, 'entgegenkommend': 15, 'enthusiastisch': 15, 'entscheidungsfreudig': 15, 'entschlossen': 15, 'entschlussfreudig': 15, 'entspannt': 15, 'entzückend': 15, 'epochemachend': 15, 'erbaulich': 15, 'erfolgsorientiert': 15, 'erfolgssicher': 15, 'erfreulich': 15, 'erfrischend': 15, 'ergebnisorientiert': 15, 'ergebnisreich': 15, 'ergiebig': 15, 'erhaben': 15, 'erhebend': 15, 'erhellend': 15, 'erlebnisreich': 15, 'erlesen': 15, 'ernsthaft': 15, 'erotisch': 15, 'erprobt': 15, 'erregend': 15, 'erstaunlich': 15, 'erstklassig': 15, 'erstmalig': 15, 'erstrangig': 15, 'erstrebenswert': 15, 'erträglich': 15, 'erwünscht': 15, 'etabliert': 15, 'euphorisch': 15, 'exemplarisch': 15, 'exklusiv': 15, 'experimentierfreudig': 15, 'explosiv': 15, 'exquisit': 15, 'extravagant': 15, 'extravertiert': 15, 'exzellent': 15, 'exzentrisch': 15, 'exzessiv': 15, 'fabelhaft': 15, 'facettenreich': 30, 'fachgerecht': 15, 'fachkundig': 15, 'fair': 15, 'faktenreich': 15, 'familiär': 15, 'famos': 15, 'fantasiereich': 15, 'fantasievoll': 15, 'fantastisch': 15, 'farbenfroh': 15, 'faszinierend': 15, 'fehlerfrei': 15, 'feierlich': 15, 'fein': 15, 'feinfühlig': 15, 'feinsinnig': 15, 'fesch': 15, 'fesselnd': 15, 'festlich': 30, 'feurig': 15, 'fidel': 15, 'fit': 15, 'flexibel': 15, 'flink': 15, 'flott': 15, 'fokussiert': 15, 'formidabel': 15, 'forsch': 15, 'fortschrittlich': 15, 'frech': 15, 'freidenkend': 15, 'freigiebig': 15, 'freiheitsliebend': 15, 'freimütig': 15, 'freizügig': 15, 'fresh': 15, 'freudig': 15, 'freudvoll': 15, 'freundlich': 15, 'friedfertig': 15, 'friedlich': 15, 'friedselig': 15, 'friedvoll': 15, 'froh': 15, 'fröhlich': 15, 'frohsinnig': 15, 'fruchtbar': 15, 'fruchtsam': 15, 'führend': 15, 'fulminant': 15, 'fundamental': 15, 'fundiert': 15, 'funkelnd': 15, 'furchtlos': 15, 'furios': 15, 'fürsorglich': 15, 'galant': 15, 'garantiert': 15, 'gastfreundlich': 15, 'geachtet': 15, 'geborgen': 15, 'gediegen': 15, 'geduldig': 15, 'geehrt': 15, 'geerdet': 15, 'gefeiert': 15, 'gefühlsbetont': 15, 'gefühlvoll': 15, 'geheimnisvoll': 15, 'geistreich': 15, 'gelassen': 15, 'gelungen': 15, 'gemütlich': 15, 'gemütvoll': 15, 'generös': 15, 'genial': 15, 'genießbar': 15, 'genießerisch': 15, 'genügsam': 15, 'genüsslich': 15, 'gepflegt': 15, 'geradlinig': 15, 'gerecht': 15, 'geschäftig': 15, 'geschätzt': 15, 'geschmeidig': 15, 'gesellig': 15, 'gesichert': 15, 'gespannt': 15, 'gesprächig': 15, 'gestanden': 15, 'getrost': 15, 'geübt': 15, 'gewaltig': 15, 'gewichtig': 15, 'gewieft': 15, 'gewinnend': 15, 'gewissenhaft': 15, 'gewitzt': 15, 'gewünscht': 15, 'gigantisch': 15, 'glamourös': 15, 'glänzend': 15, 'glaubensstark': 15, 'glaubwürdig': 15, 'glorreich': 15, 'gnädig': 15, 'gönnerhaft': 15, 'grandios': 15, 'gravierend': 15, 'grazil': 15, 'grenzenlos': 15, 'großartig': 15, 'großherzig': 15, 'großmütig': 15, 'großzügig': 15, 'grundlegend': 15, 'gründlich': 15, 'grundsolide': 15, 'gutherzig': 15, 'gütig': 15, 'gutmütig': 15, 'hartnäckig': 15, 'heilsam': 15, 'heißblütig': 15, 'heiter': 15, 'heldenhaft': 15, 'heldenmütig': 15, 'hell': 15, 'hellhörig': 15, 'hemmungslos': 15, 'herausfordernd': 15, 'herausragend': 15, 'heroisch': 15, 'herrlich': 15, 'hervorhebend': 15, 'hervorstechend': 15, 'herzensgut': 15, 'herzerfrischend': 15, 'herzlich': 15, 'hilfreich': 15, 'hilfsbereit': 15, 'himmlisch': 15, 'hingebungsvoll': 15, 'hinreißend': 15, 'hintergründig': 15, 'hochanständig': 15, 'hochehrenhaft': 15, 'hochgeschätzt': 15, 'hochgradig': 15, 'hochinteressant': 15, 'hochkarätig': 15, 'hochmodern': 15, 'hochmotiviert': 15, 'hochmütig': 15, 'hochrangig': 15, 'hochwertig': 15, 'hochwirksam': 15, 'hoffnungsvoll': 15, 'höflich': 15, 'hübsch': 15, 'hüllenlos': 15, 'humorvoll': 15, 'ideal': 15, 'idealistisch': 15, 'ideenreich': 15, 'idyllisch': 15, 'imagefördernd': 15, 'imponierend': 15, 'imposant': 15, 'individuell': 15, 'influent': 15, 'informativ': 15, 'inhaltsreich': 15, 'initial': 15, 'initiativ': 15, 'inspirierend': 15, 'instinktiv': 15, 'integer': 15, 'intellektuell': 15, 'intensiv': 15, 'intuitiv': 15, 'irre': 15, 'jovial': 15, 'jugendlich': 15, 'kämpferisch': 15, 'keck': 15, 'kennerisch': 15, 'kenntnisreich': 15, 'klug': 15, 'knallig': 15, 'knuffig': 15, 'kokett': 15, 'kollegial': 15, 'kolossal': 15, 'komfortabel': 15, 'kommunikationsfähig': 15, 'kommunikativ': 15, 'kompetent': 15, 'kompetitiv': 15, 'kompromissbereit': 15, 'königlich': 15, 'konkurrenzlos': 15, 'konsequent': 15, 'konsistent': 15, 'konstant': 15, 'konstitutiv': 15, 'konstruktiv': 15, 'konventionell': 15, 'konzentriert': 15, 'konziliant': 15, 'kooperativ': 15, 'kordial': 15, 'korrekt': 15, 'kostbar': 15, 'kräftig': 15, 'kraftvoll': 15, 'krisenfest': 15, 'kühn': 15, 'kulant': 15, 'kultiviert': 15, 'kundig': 15, 'künstlerisch': 15, 'kunstvoll': 15, 'kurios': 15, 'lässig': 15, 'lebendig': 15, 'lebensbejahend': 15, 'lebensfroh': 15, 'lebenslustig': 15, 'lebensnah': 15, 'lebhaft': 15, 'leger': 15, 'lehrreich': 15, 'leichtfüssig': 15, 'leidenschaftlich': 15, 'leistungsbereit': 15, 'leistungsfähig': 15, 'leistungsorientiert': 15, 'leistungsstark': 15, 'lernbereit': 15, 'leuchtend': 15, 'leutselig': 15, 'liberal': 15, 'lieb': 15, 'liebenswert': 15, 'liebenswürdig': 15, 'liebevoll': 15, 'liebreizend': 15, 'lobenswert': 15, 'locker': 15, 'lohnenswert': 15, 'lösungsorientiert': 15, 'loyal': 15, 'lukrativ': 15, 'lüstern': 15, 'lustig': 15, 'lustvoll': 15, 'luxuriös': 15, 'mächtig': 15, 'magisch': 15, 'majestätisch': 15, 'makellos': 15, 'malerisch': 15, 'märchenhaft': 15, 'markant': 15, 'marktgerecht': 15, 'maßgeschneidert': 15, 'meinungsstark': 15, 'meisterhaft': 15, 'meisterlich': 15, 'menschlich': 15, 'mild': 15, 'mitfühlend': 15, 'mitreißend': 15, 'mobil': 15, 'modebewusst': 15, 'modern': 15, 'modisch': 15, 'mondän': 15, 'monströs': 15, 'monumental': 15, 'motiviert': 15, 'mühelos': 15, 'munter': 15, 'mustergültig': 15, 'musterhaft': 15, 'mutig': 15, 'mysteriös': 15, 'mystisch': 15, 'nachdrücklich': 15, 'narrensicher': 15, 'nett': 15, 'neugierig': 15, 'niedlich': 15, 'niveauvoll': 15, 'nobel': 15, 'notorisch': 15, 'nuanciert': 15, 'nüchtern': 15, 'nutzbringend': 15, 'nützlich': 15, 'objektiv': 15, 'obligatorisch': 15, 'offenherzig': 15, 'offensiv': 15, 'olympisch': 15, 'optimal': 15, 'optimistisch': 15, 'ordentlich': 15, 'organisiert': 15, 'originell': 15, 'packend': 15, 'paradiesisch': 15, 'partnerschaftlich': 15, 'passioniert': 15, 'penibel': 15, 'pfiffig': 15, 'pflichtbewusst': 15, 'phänomenal': 15, 'phantasievoll': 15, 'phantastisch': 15, 'pietätvoll': 15, 'pikant': 15, 'pittoresk': 15, 'plausibel': 15, 'poetisch': 15, 'pompös': 15, 'populär': 15, 'positiv': 15, 'potent': 15, 'prächtig': 15, 'prachtvoll': 15, 'pragmatisch': 15, 'prägnant': 15, 'praktikabel': 15, 'prall': 15, 'prestigefördernd': 15, 'prestigeträchtig': 15, 'prestigevoll': 15, 'prinzipientreu': 15, 'proaktiv': 15, 'probat': 15, 'problemlos': 15, 'produktiv': 15, 'profiliert': 15, 'profitabel': 15, 'progressiv': 15, 'prominent': 15, 'prophetisch': 15, 'protektiv': 15, 'prunkvoll': 15, 'pünktlich': 15, 'putzig': 15, 'qualifiziert': 15, 'qualitativ': 15, 'qualitätsvoll': 15, 'querdenkend': 15, 'quicklebendig': 15, 'quirlig': 15, 'raffiniert': 15, 'rasant': 15, 'rational': 15, 'raumfüllend': 15, 'real': 15, 'rechtschaffend': 15, 'redselig': 15, 'reell': 15, 'reflektiert': 15, 'rege': 15, 'regsam': 15, 'reich': 15, 'reif': 15, 'reizend': 15, 'reizvoll': 15, 'rekordverdächtig': 15, 'renommiert': 30, 'rentabel': 15, 'resilient': 15, 'resistent': 15, 'resolut': 15, 'respektabel': 15, 'respektiert': 15, 'respektvoll': 15, 'revolutionär': 15, 'richtungsgebend': 15, 'richtungsweisend': 15, 'rigoros': 15, 'risikobereit': 15, 'riskant': 15, 'ritterlich': 15, 'robust': 15, 'romantisch': 15, 'rotzig': 15, 'routiniert': 15, 'rücksichtsvoll': 15, 'ruhevoll': 15, 'sachgemäß': 15, 'sachgerecht': 15, 'sachkundig': 15, 'sachverständig': 15, 'sagenhaft': 15, 'sanft': 15, 'sanftmütig': 15, 'sanguinisch': 15, 'sauber': 15, 'schillernd': 15, 'schlagfertig': 15, 'schlau': 15, 'schöpferisch': 15, 'schwungvoll': 15, 'selbstbestimmt': 15, 'selbstbewusst': 15, 'selbstlos': 15, 'selbstsicher': 15, 'sensationell': 15, 'sensibel': 15, 'sensitiv': 15, 'sexy': 15, 'sicherheitsorientiert': 15, 'siegreich': 15, 'sinnlich': 15, 'skandalös': 15, 'smart': 15, 'solidarisch': 15, 'sonnig': 15, 'sorgenfrei': 15, 'sorgfältig': 15, 'sorgsam': 15, 'souverän': 15, 'sozialverträglich': 15, 'spannend': 15, 'spaßig': 15, 'spektakulär': 15, 'spielerisch': 15, 'spitze': 15, 'spontan': 15, 'sportlich': 15, 'sprachlos': 15, 'spritzig': 15, 'spürbar': 15, 'standhaft': 15, 'stattlich': 15, 'stichfest': 15, 'stilbewusst': 15, 'stilsicher': 15, 'stilvoll': 15, 'stimmig': 15, 'stimmungsvoll': 15, 'stoisch': 15, 'stolz': 15, 'strahlend': 15, 'strategisch': 15, 'strebsam': 15, 'strikt': 15, 'stürmisch': 15, 'substanziell': 15, 'substanzreich': 15, 'sündig': 15, 'süß': 15, 'sympathisch': 15, 'tadellos': 15, 'taff': 15, 'taktvoll': 15, 'talentiert': 15, 'tapfer': 15, 'tatkräftig': 15, 'tauglich': 15, 'temperamentvoll': 15, 'teuer': 15, 'tief': 15, 'tiefgründig': 15, 'tolerant': 15, 'tonangebend': 15, 'tough': 15, 'transparent': 15, 'transzendent': 15, 'träumerisch': 15, 'traumhaft': 15, 'treffend': 15, 'treffsicher': 15, 'treu': 15, 'treuherzig': 15, 'tüchtig': 15, 'tugendhaft': 30, 'überdurchschnittlich': 15, 'übergenau': 15, 'überlegen': 15, 'überlegt': 15, 'überragend': 15, 'überraschend': 15, 'übersichtlich': 15, 'übersinnlich': 15, 'überwältigend': 15, 'ultimativ': 15, 'umgänglich': 15, 'umjubelt': 15, 'umschwärmt': 15, 'umsichtig': 15, 'umtriebig': 15, 'umwerfend': 15, 'unangreifbar': 15, 'unantastbar': 15, 'unaufhaltsam': 15, 'unbändig': 15, 'unbeeinflussbar': 15, 'unbefangen': 15, 'unbeirrbar': 15, 'unbekümmert': 15, 'unbeschreiblich': 15, 'unbeschwert': 15, 'unbesehen': 15, 'unbesorgt': 15, 'unbestechlich': 15, 'unbestritten': 15, 'unbezahlbar': 15, 'uneigennützig': 15, 'unerbittlich': 15, 'unerreichbar': 15, 'unerschöpflich': 15, 'unersetzlich': 15, 'unfassbar': 15, 'ungewöhnlich': 15, 'ungezwungen': 15, 'unglaublich': 15, 'unkompliziert': 15, 'unkonventionell': 15, 'unnachahmlich': 15, 'unnachgiebig': 15, 'unproblematisch': 15, 'unschlagbar': 15, 'unterhaltsam': 15, 'unternehmungsfreudig': 15, 'unternehmungslustig': 15, 'unübersehbar': 15, 'unübertroffen': 15, 'unverfälscht': 15, 'unvergesslich': 15, 'unvergleichbar': 15, 'unverkennbar': 15, 'unverletzbar': 15, 'unverwechselbar': 15, 'unverwundbar': 15, 'unverzichtbar': 15, 'unvoreingenommen': 15, 'unvorstellbar': 15, 'unwiderstehlich': 15, 'verantwortungsbewusst': 15, 'verantwortungsvoll': 15, 'verbindend': 15, 'verbindlich': 15, 'verblüffend': 15, 'verbrieft': 15, 'verbürgt': 15, 'verdient': 15, 'verehrt': 15, 'verführerisch': 15, 'vergebend': 15, 'verklärt': 15, 'verlässlich': 15, 'verlockend': 15, 'vermittelnd': 15, 'vernetzend': 15, 'vernünftig': 15, 'versiert': 15, 'versöhnlich': 15, 'verspielt': 15, 'verständnisvoll': 15, 'vertrauensvoll': 15, 'vertrauenswürdig': 15, 'verträumt': 15, 'verwegen': 15, 'verwöhnt': 15, 'verwundert': 15, 'vielfältig': 15, 'vielschichtig': 15, 'vielseitig': 15, 'visionär': 15, 'vital': 15, 'vorausschauend': 15, 'vorbehaltlos': 15, 'vorbildhaft': 15, 'vorbildlich': 15, 'vornehm': 15, 'vorsorglich': 15, 'vorteilhaft': 15, 'vortrefflich': 15, 'vorurteilsfrei': 15, 'vorwitzig': 15, 'vorzeigenswert': 15, 'vorzüglich': 15, 'wachsam': 15, 'wagemutig': 15, 'wählerisch': 15, 'wahrhaftig': 15, 'wahrheitsliebend': 15, 'wandelbar': 15, 'warmherzig': 15, 'weich': 15, 'weitblickend': 15, 'weitsichtig': 15, 'weltbekannt': 15, 'weltgewandt': 15, 'weltoffen': 15, 'wendig': 15, 'wertschätzend': 15, 'wertvoll': 15, 'widerstandsfähig': 15, 'wieselflink': 15, 'wild': 15, 'willensstark': 15, 'willkommen': 15, 'wissbegierig': 15, 'wissenschaftlich': 15, 'wissenshungrig': 15, 'witzig': 15, 'wohlerzogen': 15, 'wohlgesinnt': 15, 'wohlklingend': 15, 'wohlriechend': 15, 'wohlschmeckend': 15, 'wohltuend': 15, 'wohlüberlegt': 15, 'wohlverdient': 15, 'wohlwollend': 15, 'wortgewandt': 15, 'wunderbar': 15, 'wunderhübsch': 15, 'wunderlich': 15, 'wunderschön': 15, 'wundervoll': 15, 'wünschenswert': 15, 'würdevoll': 15, 'xenophil': 15, 'zäh': 15, 'zart': 15, 'zartbesaitet': 15, 'zartfühlend': 15, 'zärtlich': 15, 'zauberhaft': 15, 'zeitlos': 15, 'zielbewusst': 15, 'zielführend': 15, 'zielgerichtet': 15, 'zielorientiert': 15, 'zielsicher': 15, 'zielstrebig': 15, 'zugeneigt': 15, 'zukunftsorientiert': 15, 'zündend': 15, 'zupackend': 15, 'zurechnungsfähig': 15, 'zurückhaltend': 15, 'zuverlässig': 15, 'zuversichtlich': 15, 'zuvorkommend': 15, 'adjektive': 12, 'durchschlagende': 6, 'botschaft': 18, 'baustein': 6, 'mächtige': 6, 'bausteine': 6, 'berücksichtigen': 6, 'solltest': 6, 'veröffentlichung': 6, 'buches': 6, 'buchkodex®': 6, 'spezialisiert': 6, 'businessbücher': 6, 'investierst': 6, 'ca': 6, 'deiner': 6, 'klicke': 6, 'erfahre': 6, 'enthüllt': 6, 'bestseller': 6, 'wirst': 6, 'verdienst': 12, 'immobilien': 12, 'gewinnst': 6, 'verbessern': 12, 'schlechten': 12, 'loswerden': 12, '(reputationsmanagement)': 6, 'internet': 12, 'legal': 12, '(auch': 6, 'produkt)': 6, 'veroeffentlichen': 6, '(die': 6, 'tipps)': 6, 'b2b': 12, 'schritten': 6, 'autoritätsmarketing': 6}\n",
      "die 735\n",
      "735\n"
     ]
    }
   ],
   "source": [
    "\n",
    "miau = open(\"/Users/macbook/Desktop/Programmieren/Python/Texte/Idee.txt\")\n",
    "tschau = miau.read()\n",
    "c = 0\n",
    "for i in tschau:\n",
    "    if (i==\",\" or i==\";\" or i==\"?\" or i==\"-\" or i==\"!\" or i==\".\" or i ==\":\" or i == \"'\"):\n",
    "        tschau = tschau.replace(tschau[c],\" \")\n",
    "    c = c+ 1 \n",
    "neuneu = tschau.lower()\n",
    "neuneu = neuneu.split()\n",
    "popo = dict()\n",
    "for i in neuneu:\n",
    "    popo[i] = popo.get(i,0) + 1  ## über den 0-default Wert verbinden wir die if und else Method\n",
    "print(popo)\n",
    "\n",
    "größtezahl = None\n",
    "größteswort = None\n",
    "\n",
    "for wort,zahl in popo.items():\n",
    "    if größtezahl is None or zahl > größtezahl:\n",
    "        größtezahl = zahl\n",
    "        größteswort = wort\n",
    "\n",
    "print(größteswort,größtezahl)\n",
    "\n",
    "willauch = None\n",
    "for kollege in popo.values():\n",
    "    if willauch is None or kollege > willauch:\n",
    "        willauch = kollege \n",
    "print(willauch)\n",
    "    "
   ]
  },
  {
   "cell_type": "code",
   "execution_count": 23,
   "metadata": {},
   "outputs": [
    {
     "name": "stdout",
     "output_type": "stream",
     "text": [
      "21\n",
      "-1\n",
      "{'Tom': 21}\n",
      "Tom\n"
     ]
    }
   ],
   "source": [
    "stuff = dict()\n",
    "stuff[\"Tom\"] = 21\n",
    "print(stuff[\"Tom\"])\n",
    "print(stuff.get(\"Deiter\",-1))\n",
    "print(stuff)\n",
    "for i in stuff:\n",
    "    print(i)"
   ]
  },
  {
   "cell_type": "code",
   "execution_count": 24,
   "metadata": {},
   "outputs": [
    {
     "name": "stdout",
     "output_type": "stream",
     "text": [
      "[(4, 'tom', 30), (4, 'ich', 30), (3, 'tanzen', 30), (2, 'und', 30), (2, 'sind', 30), (2, 'ist', 30), (2, 'im', 30), (2, 'garten', 30), (2, 'dass', 30), (1, 'zu', 30)]\n",
      "3\n"
     ]
    }
   ],
   "source": [
    "miau = open(\"/Users/macbook/Desktop/Programmieren/Python/Texte/Test.txt\")\n",
    "tschau = miau.read()\n",
    "c = 0\n",
    "for i in tschau:\n",
    "    if (i==\",\" or i==\";\" or i==\"?\" or i==\"-\" or i==\"!\" or i==\".\" or i ==\":\" or i == \"'\"):\n",
    "        tschau = tschau.replace(tschau[c],\" \")\n",
    "    c = c+ 1 \n",
    "neuneu = tschau.lower()\n",
    "neuneu = neuneu.split()\n",
    "popo = dict()\n",
    "for i in neuneu:\n",
    "    popo[i] = popo.get(i,0) + 1  ## über den 0-default Wert verbinden wir die if und else Method\n",
    "lst = list()\n",
    "for k,v in popo.items():\n",
    "    newtup = (v,k,30)\n",
    "    lst.append(newtup)\n",
    "lst = sorted(lst, reverse = True)\n",
    "lst.sort(reverse = True)\n",
    "print(lst[:10])\n",
    "tupi = (1,2,3,4,5)\n",
    "print(tupi[2])"
   ]
  },
  {
   "cell_type": "code",
   "execution_count": 25,
   "metadata": {},
   "outputs": [
    {
     "name": "stdout",
     "output_type": "stream",
     "text": [
      "15\n"
     ]
    }
   ],
   "source": [
    "miau = open(\"/Users/macbook/Desktop/Programmieren/Python/Texte/Idee.txt\")\n",
    "hey = miau.read()\n",
    "c = 0\n",
    "for i in hey:\n",
    "    if (i==\",\" or i==\";\" or i==\"?\" or i==\"-\" or i==\"!\" or i==\".\" or i ==\":\" or i == \"'\" or i ==\"–\" or i ==\"(\" or i ==\")\"):\n",
    "        hey = hey.replace(hey[c],\" \")\n",
    "    c = c+ 1 \n",
    "neu_hey = hey.lower()\n",
    "neu_hey = neu_hey.split()\n",
    "\n",
    "dicci = dict()\n",
    "for i in neu_hey:\n",
    "    dicci[i] = dicci.get(i,0) + 1 \n",
    "\n",
    "lyste = list()\n",
    "\n",
    "for k,v in dicci.items():\n",
    "    arapa = (v,k)\n",
    "    lyste.append(arapa)\n",
    "lyste = sorted(lyste, reverse = True)\n",
    "\n",
    "for w,k in lyste:\n",
    "    if(k ==\"romantisch\"):\n",
    "        print(w)\n"
   ]
  },
  {
   "cell_type": "markdown",
   "metadata": {},
   "source": [
    "miau = open(\"/Users/macbook/Desktop/Programmieren/Wortzähler.txt\")\n",
    "hey = miau.read()\n",
    "c = 0\n",
    "for i in hey:\n",
    "    if (i==\",\" or i==\";\" or i==\"?\" or i==\"-\" or i==\"!\" or i==\".\" or i ==\":\" or i == \"'\" or i ==\"–\" or i ==\"(\" or i ==\")\"):\n",
    "        hey = hey.replace(hey[c],\" \")\n",
    "    c = c+ 1 \n",
    "neu_hey = hey.lower()\n",
    "neu_hey = neu_hey.split()\n",
    "\n",
    "dicci = dict()\n",
    "for i in neu_hey:\n",
    "    dicci[i] = dicci.get(i,0) + 1 \n",
    "\n",
    "lyste = list()\n",
    "\n",
    "for k,v in dicci.items():\n",
    "    arapa = (v,k)\n",
    "    lyste.append(arapa)\n",
    "lyste = sorted(lyste, reverse = True)\n",
    "\n",
    "for i,k in lyste:\n",
    "    if(k==\"gut\"):\n",
    "        print(i)"
   ]
  },
  {
   "cell_type": "code",
   "execution_count": 26,
   "metadata": {},
   "outputs": [],
   "source": [
    "def Funktion(new):\n",
    "    c = 0\n",
    "    for i in new:\n",
    "        if (i==\",\" or i==\";\" or i==\"?\" or i==\"-\" or i==\"!\" or i==\".\" or i ==\":\" or i == \"'\" or i ==\"–\" or i ==\"(\" or i ==\")\"):\n",
    "            textgrundlage2 = new.replace(new[c],\" \")\n",
    "        c = c + 1 \n",
    "    textliste = textgrundlage2.split()\n",
    "    bigwords = list()\n",
    "    for k in textliste:\n",
    "        if (k[0] != k[0].lower()):\n",
    "            bigwords.append(k)\n",
    "    dictcount = dict()\n",
    "    for i in bigwords:\n",
    "        dictcount[i] = dictcount.get(i,0) + 1 \n",
    "    topliste = list()\n",
    "    for k,v in dictcount.items():\n",
    "        it_through = (v,k)\n",
    "        topliste.append(it_through)\n",
    "    topliste = sorted(topliste, reverse = True)\n",
    "    top5 = list()\n",
    "    for i,k in topliste[0:5]:\n",
    "        top5.append(k)\n",
    "    if(interesse in top5):\n",
    "        print(new)\n",
    "        print(\"------------\")\n",
    "        print(\"Hat dir der Artikel gefallen? (Ja/Nein)\")\n"
   ]
  },
  {
   "cell_type": "code",
   "execution_count": 27,
   "metadata": {},
   "outputs": [],
   "source": [
    "WW = True\n",
    "interesse =\"Deutschland\"\n",
    "def gibeinwortein():\n",
    "    print(\"Gib ein Wort ein:\")\n",
    "    interesse = input()\n",
    "    return interesse"
   ]
  },
  {
   "cell_type": "code",
   "execution_count": 28,
   "metadata": {},
   "outputs": [],
   "source": [
    "import glob\n",
    "def Ordner():\n",
    "    for filepath in glob.iglob('/Users/macbook/Desktop/Ekerbrink/Texte/*.txt'):\n",
    "        new = open(filepath).read()\n",
    "        if WW:\n",
    "            Funktion(new)\n",
    "        else: \n",
    "            print(\"Geben Sie bitte ein neues Wort ein!\")\n",
    "            interesse = input()\n",
    "            Ordner()\n",
    "            \n"
   ]
  },
  {
   "cell_type": "code",
   "execution_count": 32,
   "metadata": {},
   "outputs": [
    {
     "name": "stdout",
     "output_type": "stream",
     "text": [
      "Gib ein Wort ein:\n",
      "Deutschland\n",
      "In Deutschland habe ich meine große Liebe. Meine große Liebe ist eine tolle Person und ich fühle mich sehr hingezogen zu meiner Liebe. Meine große Liebe kommt aus Deutschland. \n",
      "------------\n",
      "Hat dir der Artikel gefallen? (Ja/Nein)\n",
      "Die Politik in Deutschland ist stark davon abhängig wie mit Covid-19 und der Corona-Pandemie umgegangen wird. Deutschland ist in Zeiten von Corona nur noch begrenze ein freier Staat. \n",
      "------------\n",
      "Hat dir der Artikel gefallen? (Ja/Nein)\n"
     ]
    }
   ],
   "source": [
    "\n",
    "gibeinwortein()\n",
    "Ordner()\n",
    "\n"
   ]
  },
  {
   "cell_type": "code",
   "execution_count": 33,
   "metadata": {},
   "outputs": [
    {
     "name": "stdout",
     "output_type": "stream",
     "text": [
      "Die Liebe zu meinen Kindern ist sehr stark. Seitdem ich Kinder habe, weiß ich was Liebe ist und meine Kinder helfen mir, zu mir selbst zu finden. Das ist sehr schön. \n",
      "In Deutschland habe ich meine große Liebe. Meine große Liebe ist eine tolle Person und ich fühle mich sehr hingezogen zu meiner Liebe. Meine große Liebe kommt aus Deutschland. \n",
      "Die Politik in Deutschland ist stark davon abhängig wie mit Covid-19 und der Corona-Pandemie umgegangen wird. Deutschland ist in Zeiten von Corona nur noch begrenze ein freier Staat. \n"
     ]
    }
   ],
   "source": [
    "for filepath in glob.iglob('/Users/macbook/Desktop/Ekerbrink/Texte/*.txt'):\n",
    "        new = open(filepath).read()\n",
    "        print(new)"
   ]
  },
  {
   "cell_type": "code",
   "execution_count": 34,
   "metadata": {},
   "outputs": [
    {
     "name": "stdout",
     "output_type": "stream",
     "text": [
      "Requirement already satisfied: python-Levenshtein in /Users/macbook/opt/anaconda3/lib/python3.8/site-packages (0.12.2)\n",
      "Requirement already satisfied: setuptools in /Users/macbook/opt/anaconda3/lib/python3.8/site-packages (from python-Levenshtein) (50.3.1.post20201107)\n",
      "Note: you may need to restart the kernel to use updated packages.\n"
     ]
    }
   ],
   "source": [
    "pip install python-Levenshtein"
   ]
  },
  {
   "cell_type": "code",
   "execution_count": 53,
   "metadata": {},
   "outputs": [],
   "source": [
    "from Levenshtein import distance as lev\n",
    "from Levenshtein import jaro as jar"
   ]
  },
  {
   "cell_type": "code",
   "execution_count": 36,
   "metadata": {},
   "outputs": [
    {
     "data": {
      "text/plain": [
       "0"
      ]
     },
     "execution_count": 36,
     "metadata": {},
     "output_type": "execute_result"
    }
   ],
   "source": [
    "lev(\"park\",\"park\")"
   ]
  },
  {
   "cell_type": "code",
   "execution_count": 37,
   "metadata": {},
   "outputs": [],
   "source": [
    "def Funktionrückgabe(new):\n",
    "    c = 0\n",
    "    for i in new:\n",
    "        if (i==\",\" or i==\";\" or i==\"?\" or i==\"-\" or i==\"!\" or i==\".\" or i ==\":\" or i == \"'\" or i ==\"–\" or i ==\"(\" or i ==\")\"):\n",
    "            textgrundlage2 = new.replace(new[c],\"\")\n",
    "        c = c + 1 \n",
    "    textliste = textgrundlage2.split()\n",
    "    bigwords = list()\n",
    "    for k in textliste:\n",
    "        if (k[0] != k[0].lower()):\n",
    "            bigwords.append(k)\n",
    "    dictcount = dict()\n",
    "    for i in bigwords:\n",
    "        dictcount[i] = dictcount.get(i,0) + 1 \n",
    "    topliste = list()\n",
    "    for k,v in dictcount.items():\n",
    "        it_through = (v,k)\n",
    "        topliste.append(it_through)\n",
    "    topliste = sorted(topliste, reverse = True)\n",
    "    top5 = list()\n",
    "    for i,k in topliste[0:5]:\n",
    "        top5.append(k)\n",
    "    if(interesse in top5):\n",
    "        print(new)\n",
    "        print(\"------------\")\n",
    "        print(\"Hat dir der Artikel gefallen? (Ja/Nein)\")\n",
    "    return top5"
   ]
  },
  {
   "cell_type": "code",
   "execution_count": 38,
   "metadata": {},
   "outputs": [],
   "source": [
    " hey = Funktionrückgabe(\"Mein Impftermin ist erst nächste Woche. Ich hasse die Coronaverordnungen aber was soll ich machen?\")"
   ]
  },
  {
   "cell_type": "code",
   "execution_count": 39,
   "metadata": {},
   "outputs": [
    {
     "data": {
      "text/plain": [
       "['Woche.', 'Mein', 'Impftermin', 'Ich', 'Coronaverordnungen']"
      ]
     },
     "execution_count": 39,
     "metadata": {},
     "output_type": "execute_result"
    }
   ],
   "source": [
    "hey"
   ]
  },
  {
   "cell_type": "code",
   "execution_count": 40,
   "metadata": {},
   "outputs": [
    {
     "data": {
      "text/plain": [
       "10"
      ]
     },
     "execution_count": 40,
     "metadata": {},
     "output_type": "execute_result"
    }
   ],
   "source": [
    "5+5"
   ]
  },
  {
   "cell_type": "code",
   "execution_count": 64,
   "metadata": {},
   "outputs": [
    {
     "name": "stdout",
     "output_type": "stream",
     "text": [
      "Bitte gib deine Interessen ein:\n",
      "Corona\n"
     ]
    },
    {
     "data": {
      "text/plain": [
       "['Coronaverordnungen']"
      ]
     },
     "execution_count": 64,
     "metadata": {},
     "output_type": "execute_result"
    }
   ],
   "source": [
    "print(\"Bitte gib deine Interessen ein:\")\n",
    "interesse = input()\n",
    "gutewörter = list()\n",
    "for i in hey:\n",
    "    if(jar(interesse,i)>0.5):\n",
    "        gutewörter.append(i)\n",
    "gutewörter"
   ]
  },
  {
   "cell_type": "code",
   "execution_count": 57,
   "metadata": {},
   "outputs": [
    {
     "data": {
      "text/plain": [
       "0.7944444444444444"
      ]
     },
     "execution_count": 57,
     "metadata": {},
     "output_type": "execute_result"
    }
   ],
   "source": [
    "jar(\"Coronaimpftermin\",\"Coronainfektion\")"
   ]
  },
  {
   "cell_type": "code",
   "execution_count": 62,
   "metadata": {},
   "outputs": [],
   "source": [
    "neuertext = open(\"/Users/macbook/Desktop/Programmieren/Python/Texte/Merkel.txt\")\n",
    "textbereit = neuertext.read()"
   ]
  },
  {
   "cell_type": "code",
   "execution_count": 63,
   "metadata": {},
   "outputs": [
    {
     "data": {
      "text/plain": [
       "['Ich', 'Weißt', 'Tomaten', 'Tom.', 'Tom']"
      ]
     },
     "execution_count": 63,
     "metadata": {},
     "output_type": "execute_result"
    }
   ],
   "source": [
    "Funktionrückgabe(textbereit)"
   ]
  },
  {
   "cell_type": "code",
   "execution_count": null,
   "metadata": {},
   "outputs": [],
   "source": []
  }
 ],
 "metadata": {
  "kernelspec": {
   "display_name": "Python 3",
   "language": "python",
   "name": "python3"
  },
  "language_info": {
   "codemirror_mode": {
    "name": "ipython",
    "version": 3
   },
   "file_extension": ".py",
   "mimetype": "text/x-python",
   "name": "python",
   "nbconvert_exporter": "python",
   "pygments_lexer": "ipython3",
   "version": "3.8.5"
  }
 },
 "nbformat": 4,
 "nbformat_minor": 4
}
